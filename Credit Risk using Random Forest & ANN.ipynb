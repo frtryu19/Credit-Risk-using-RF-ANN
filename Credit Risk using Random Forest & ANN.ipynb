{
 "cells": [
  {
   "cell_type": "markdown",
   "id": "96fafa35",
   "metadata": {},
   "source": [
    "## Table of Contents\n",
    "\n",
    "* [1. Information About Data](#1)\n",
    "* [2. Basic Libraries ](#2)\n",
    "* [3. Prepare Data](#3)\n",
    "* [4. Preprocessing](#4)\n",
    " * [4.1 addr_state](#4.1)\n",
    " * [4.2 annual_inc](#4.2)\n",
    " * [4.3 earliest_cr_line](#4.3)\n",
    " * [4.4 emp_length](#4.4)\n",
    " * [4.5 emp_title](#4.5)\n",
    " * [4.6 grade and sub_grade](#4.6)\n",
    " * [4.7 home_ownership](#4.7)\n",
    " * [4.8 application_type](#4.8)\n",
    " * [4.9 initial_list_status](#4.9)\n",
    " * [4.10 int_rate](#4.10)\n",
    " * [4.11 loan_amnt](#4.11)\n",
    " * [4.12 total_acc](#4.12)\n",
    " * [4.13 tot_cur_bal](#4.13)\n",
    " * [4.14 open_acc](#4.14)\n",
    " * [4.15 pub_rec](#4.15)\n",
    " * [4.16 purpose](#4.16)\n",
    " * [4.17 term](#4.17)\n",
    " * [4.18 title](#4.18)\n",
    " * [4.19 revol_bal](#4.19)\n",
    " * [4.20 revol_util](#4.20)\n",
    " * [4.21 verification_status](#4.21)\n",
    "* [5. Scaling and Test Train split](#5)\n",
    "* [6. Creating Models](#6)\n",
    " * [6.1 Random Forests](#6.1)\n",
    " * [6.2 ANN](#6.2)\n",
    "* [7. Conclusion](#7)"
   ]
  },
  {
   "cell_type": "markdown",
   "id": "928e9a01",
   "metadata": {},
   "source": [
    "<a id=\"1\"></a>\n",
    "# 1. This dataset include information about :\n",
    "\n",
    "\n",
    "* **id** - ID yang ditugaskan LC yang unik untuk daftar pinjaman.\n",
    "* **member_id** - ID yang ditugaskan LC yang unik untuk anggota peminjam.\n",
    "* **loan_amnt** - Jumlah pinjaman yang terdaftar yang diterapkan oleh peminjam. Jika pada suatu titik waktu, departemen kredit mengurangi jumlah pinjaman, maka itu akan tercermin dalam nilai ini.\n",
    "* **funded_amnt** -\tJumlah total yang berkomitmen untuk pinjaman itu pada saat itu.\n",
    "* **funded_amnt_inv** -\tJumlah total yang dilakukan oleh investor untuk pinjaman itu pada saat itu.\n",
    "* **term** - Jumlah pembayaran pinjaman. Nilai dalam beberapa bulan dan dapat berupa 36 atau 60.\n",
    "* **int_rate** - Suku bunga pinjaman\n",
    "* **installment** - Pembayaran bulanan yang terutang oleh peminjam jika pinjaman berasal.\n",
    "* **grade** - LC menugaskan nilai pinjaman\n",
    "* **sub_grade** - LC Ditugaskan Subgrade Pinjaman\n",
    "* **emp_title**\t- Judul pekerjaan yang disediakan oleh peminjam saat mengajukan pinjaman.*\n",
    "* **emp_length**\t- Panjang pekerjaan dalam beberapa tahun. Nilai yang mungkin adalah antara 0 dan 10 di mana 0 berarti kurang dari satu tahun dan 10 berarti sepuluh tahun atau lebih.\n",
    "* **home_ownership**\t- Status kepemilikan rumah yang disediakan oleh peminjam selama pendaftaran. Nilai -nilai kami adalah: sewa, sendiri, hipotek, lainnya.\n",
    "* **annual_inc**\t- Penghasilan tahunan yang dilaporkan sendiri yang disediakan oleh peminjam selama pendaftaran.\n",
    "* **verification_status** - --------------------------------------------------------------\n",
    "* **issue_d**\t- Bulan yang didanai pinjaman\n",
    "* **pymnt_plan**\t- Menunjukkan jika rencana pembayaran telah diberlakukan untuk pinjaman\n",
    "* **url** - URL untuk halaman LC dengan data daftar.\n",
    "* **desc** - Deskripsi pinjaman yang disediakan oleh peminjam\n",
    "* **purpose**\t- Kategori yang disediakan oleh peminjam untuk permintaan pinjaman.\n",
    "* **title** - Judul pinjaman yang disediakan oleh peminjam\n",
    "* **zip_code** - 3 nomor pertama dari kode pos yang disediakan oleh peminjam dalam aplikasi pinjaman.\n",
    "* **addr_state**\t- Negara yang disediakan oleh peminjam dalam aplikasi pinjaman\n",
    "* **dti**\t- Rasio yang dihitung menggunakan total pembayaran utang bulanan peminjam atas total kewajiban utang, tidak termasuk hipotek dan pinjaman LC yang diminta, dibagi dengan pendapatan bulanan peminjam yang dilaporkan sendiri.\n",
    "* **delinq_2yrs** - Jumlah 30+ hari insiden kenakalan yang lewat dalam file kredit peminjam selama 2 tahun terakhir\n",
    "* **earliest_cr_line** - Bulan jalur kredit yang paling awal dilaporkan peminjam dibuka\n",
    "* **inq_last_6mths** - Jumlah pertanyaan dalam 6 bulan terakhir (tidak termasuk pertanyaan otomatis dan hipotek)\n",
    "* **mths_since_last_delinq** - Jumlah bulan sejak kenakalan terakhir peminjam.\n",
    "* **mths_since_last_record** - Jumlah bulan sejak catatan publik terakhir.\n",
    "* **open_acc** - Jumlah jalur kredit terbuka dalam file kredit peminjam.\n",
    "* **pub_rec** - Jumlah catatan publik yang menghina\n",
    "* **revol_bal** - Total Saldo Revolving Credit\n",
    "* **revol_util** - Tingkat pemanfaatan jalur bergulir, atau jumlah kredit yang digunakan peminjam relatif terhadap semua kredit revolving yang tersedia.\n",
    "* **total_acc** - Jumlah total jalur kredit saat ini dalam file kredit peminjam\n",
    "* **initial_list_status** - Status daftar awal pinjaman. Nilai yang mungkin adalah - w, f\n",
    "* **out_prncp** - Kepala sekolah yang tersisa untuk jumlah total yang didanai\n",
    "* **out_prncp_inv** - Kepala sekolah yang tersisa untuk sebagian dari jumlah total yang didanai oleh investor\n",
    "* **total_pymnt** - Pembayaran diterima hingga saat ini untuk jumlah total yang didanai\n",
    "* **total_pymnt_inv** - Pembayaran diterima hingga saat ini untuk sebagian dari jumlah total yang didanai oleh investor\n",
    "* **total_rec_int** - Bunga diterima hingga saat ini\n",
    "* **total_rec_late_fee** - Biaya keterlambatan yang diterima hingga saat ini\n",
    "* **total_rec_prncp** - Kepala sekolah diterima hingga saat ini\n",
    "* **recoveries** - Posting biaya pemulihan kotor\n",
    "* **collection_recovery_fee** - Biaya pengumpulan biaya penagihan\n",
    "* **last_pymnt_d** - Bulan lalu pembayaran diterima\n",
    "* **last_pymnt_amnt** - Jumlah total pembayaran terakhir yang diterima\n",
    "* **next_pymnt_d** - Tanggal Pembayaran Terjadwal Berikutnya\n",
    "* **last_credit_pull_d** - Bulan terbaru LC menarik kredit untuk pinjaman ini\n",
    "* **collections_12_mths_ex_med** - Jumlah koleksi dalam 12 bulan tidak termasuk koleksi medis\n",
    "* **mths_since_last_major_derog** - Bulan sejak peringkat 90 hari atau lebih buruk terakhir\n",
    "* **policy_code**\t - \"Policy_code yang tersedia untuk umum = 1 Produk Baru Tidak Tersedia Umum Kebijakan_Code = 2\"\n",
    "* **application_type** - Menunjukkan apakah pinjaman adalah aplikasi individu atau aplikasi bersama dengan dua peminjam bersama\n",
    "* **annual_inc_joint** - Penghasilan tahunan yang dilaporkan sendiri gabungan yang disediakan oleh co-peminjam selama pendaftaran\n",
    "* **dti_joint** - Rasio yang dihitung menggunakan total pembayaran bulanan peminjam bersama atas total kewajiban utang, tidak termasuk hipotek dan pinjaman LC yang diminta, dibagi oleh pendapatan bulanan yang dilaporkan sendiri oleh co-peminjam yang dilaporkan sendiri\n",
    "* **verification_status_joint** - ------------------------------------------------------------------------\n",
    "* **acc_now_delinq** - Jumlah akun di mana peminjam sekarang nakal.\n",
    "* **tot_coll_amt** - Total jumlah pengumpulan yang pernah ada\n",
    "* **tot_cur_bal** - Total Saldo Saat Ini dari Semua Akun\n",
    "* **open_acc_6m** - Jumlah perdagangan terbuka dalam 6 bulan terakhir\n",
    "* **open_il_6m** - Jumlah perdagangan angsuran aktif saat ini\n",
    "* **open_il_12m** - Jumlah akun angsuran yang dibuka dalam 12 bulan terakhir\n",
    "* **open_il_24m** - Jumlah akun angsuran yang dibuka dalam 24 bulan terakhir\n",
    "* **mths_since_rcnt_il** - Bulan sejak akun angsuran terbaru dibuka\n",
    "* **total_bal_il** - Total saldo saat ini dari semua akun angsuran\n",
    "* **il_util** - Rasio total saldo saat ini dengan batas kredit/kredit tinggi pada semua instal acct\n",
    "* **open_rv_12m** - Jumlah perdagangan revolving dibuka dalam 12 bulan terakhir\n",
    "* **open_rv_24m** - Jumlah perdagangan revolving dibuka dalam 24 bulan terakhir\n",
    "* **max_bal_bc** - Saldo arus maksimum terutang pada semua akun bergulir\n",
    "* **all_util** - Saldo ke batas kredit untuk semua perdagangan\n",
    "* **total_rev_hi_lim** - Total Batas Kredit/Kredit Tinggi Revolving\n",
    "* **inq_fi** - Jumlah pertanyaan keuangan pribadi\n",
    "* **total_cu_tl** - Jumlah Perdagangan Keuangan\n",
    "* **inq_last_12m** - Jumlah pertanyaan kredit dalam 12 bulan terakhir\n",
    "* **bad_loan** - data orang tepat membayar full atau tidak"
   ]
  },
  {
   "cell_type": "markdown",
   "id": "05939550",
   "metadata": {},
   "source": [
    "<a id=\"2\"></a>\n",
    "# 2. Basic Libraries "
   ]
  },
  {
   "cell_type": "code",
   "execution_count": 1,
   "id": "7ba973c3",
   "metadata": {},
   "outputs": [],
   "source": [
    "import pandas as pd\n",
    "import numpy as np\n",
    "import seaborn as sns\n",
    "import matplotlib.pyplot as plt\n",
    "from sklearn.model_selection import train_test_split\n",
    "from sklearn.preprocessing import MinMaxScaler\n",
    "\n",
    "import warnings\n",
    "warnings.filterwarnings(\"ignore\")"
   ]
  },
  {
   "cell_type": "markdown",
   "id": "c1b5d422",
   "metadata": {},
   "source": [
    "<a id=\"3\"></a>\n",
    "# 3. Prepare Data"
   ]
  },
  {
   "cell_type": "code",
   "execution_count": 2,
   "id": "aac15df7",
   "metadata": {},
   "outputs": [],
   "source": [
    "def wrangle(filename):\n",
    "    \n",
    "    # Read CSV file\n",
    "    df = pd.read_csv(filename, engine='python')\n",
    "    \n",
    "    # create a new column based on the loan_status column that will be our target variable\n",
    "    df['bad_loan'] = np.where(df.loc[:, 'loan_status'].isin(['Charged Off', 'Default', 'Late (31-120 days)',\n",
    "                                        'Does not meet the credit policy. Status:Charged Off']), 0, 1)\n",
    "    \n",
    "    # Drop NaN Columns\n",
    "    df.drop(columns=[\"Unnamed: 0\",\"annual_inc_joint\",\"dti_joint\",\n",
    "                     \"verification_status_joint\",\"open_acc_6m\",\"open_il_6m\",\n",
    "                     \"open_il_12m\",\"open_il_24m\",\"mths_since_rcnt_il\",\n",
    "                     \"total_bal_il\",\"il_util\",\"open_rv_12m\",\"open_rv_24m\",\"max_bal_bc\",\n",
    "                     \"all_util\",\"inq_fi\",\"total_cu_tl\",\"inq_last_12m\"], inplace=True)\n",
    "    \n",
    "    # Drop rows other than fully paid and charged off\n",
    "    df = df[(df['loan_status'] == 'Fully Paid') | (df['loan_status'] == 'Charged Off')]\n",
    "    \n",
    "    return df"
   ]
  },
  {
   "cell_type": "code",
   "execution_count": 3,
   "id": "e3d66771",
   "metadata": {
    "scrolled": true
   },
   "outputs": [
    {
     "name": "stdout",
     "output_type": "stream",
     "text": [
      "(227214, 58)\n"
     ]
    },
    {
     "data": {
      "text/html": [
       "<div>\n",
       "<style scoped>\n",
       "    .dataframe tbody tr th:only-of-type {\n",
       "        vertical-align: middle;\n",
       "    }\n",
       "\n",
       "    .dataframe tbody tr th {\n",
       "        vertical-align: top;\n",
       "    }\n",
       "\n",
       "    .dataframe thead th {\n",
       "        text-align: right;\n",
       "    }\n",
       "</style>\n",
       "<table border=\"1\" class=\"dataframe\">\n",
       "  <thead>\n",
       "    <tr style=\"text-align: right;\">\n",
       "      <th></th>\n",
       "      <th>id</th>\n",
       "      <th>member_id</th>\n",
       "      <th>loan_amnt</th>\n",
       "      <th>funded_amnt</th>\n",
       "      <th>funded_amnt_inv</th>\n",
       "      <th>term</th>\n",
       "      <th>int_rate</th>\n",
       "      <th>installment</th>\n",
       "      <th>grade</th>\n",
       "      <th>sub_grade</th>\n",
       "      <th>emp_title</th>\n",
       "      <th>emp_length</th>\n",
       "      <th>home_ownership</th>\n",
       "      <th>annual_inc</th>\n",
       "      <th>verification_status</th>\n",
       "      <th>issue_d</th>\n",
       "      <th>loan_status</th>\n",
       "      <th>pymnt_plan</th>\n",
       "      <th>url</th>\n",
       "      <th>desc</th>\n",
       "      <th>purpose</th>\n",
       "      <th>title</th>\n",
       "      <th>zip_code</th>\n",
       "      <th>addr_state</th>\n",
       "      <th>dti</th>\n",
       "      <th>delinq_2yrs</th>\n",
       "      <th>earliest_cr_line</th>\n",
       "      <th>inq_last_6mths</th>\n",
       "      <th>mths_since_last_delinq</th>\n",
       "      <th>mths_since_last_record</th>\n",
       "      <th>open_acc</th>\n",
       "      <th>pub_rec</th>\n",
       "      <th>revol_bal</th>\n",
       "      <th>revol_util</th>\n",
       "      <th>total_acc</th>\n",
       "      <th>initial_list_status</th>\n",
       "      <th>out_prncp</th>\n",
       "      <th>out_prncp_inv</th>\n",
       "      <th>total_pymnt</th>\n",
       "      <th>total_pymnt_inv</th>\n",
       "      <th>total_rec_prncp</th>\n",
       "      <th>total_rec_int</th>\n",
       "      <th>total_rec_late_fee</th>\n",
       "      <th>recoveries</th>\n",
       "      <th>collection_recovery_fee</th>\n",
       "      <th>last_pymnt_d</th>\n",
       "      <th>last_pymnt_amnt</th>\n",
       "      <th>next_pymnt_d</th>\n",
       "      <th>last_credit_pull_d</th>\n",
       "      <th>collections_12_mths_ex_med</th>\n",
       "      <th>mths_since_last_major_derog</th>\n",
       "      <th>policy_code</th>\n",
       "      <th>application_type</th>\n",
       "      <th>acc_now_delinq</th>\n",
       "      <th>tot_coll_amt</th>\n",
       "      <th>tot_cur_bal</th>\n",
       "      <th>total_rev_hi_lim</th>\n",
       "      <th>bad_loan</th>\n",
       "    </tr>\n",
       "  </thead>\n",
       "  <tbody>\n",
       "    <tr>\n",
       "      <th>0</th>\n",
       "      <td>1077501</td>\n",
       "      <td>1296599</td>\n",
       "      <td>5000</td>\n",
       "      <td>5000</td>\n",
       "      <td>4975.0</td>\n",
       "      <td>36 months</td>\n",
       "      <td>10.65</td>\n",
       "      <td>162.87</td>\n",
       "      <td>B</td>\n",
       "      <td>B2</td>\n",
       "      <td>NaN</td>\n",
       "      <td>10+ years</td>\n",
       "      <td>RENT</td>\n",
       "      <td>24000.0</td>\n",
       "      <td>Verified</td>\n",
       "      <td>Dec-11</td>\n",
       "      <td>Fully Paid</td>\n",
       "      <td>n</td>\n",
       "      <td>https://www.lendingclub.com/browse/loanDetail....</td>\n",
       "      <td>Borrower added on 12/22/11 &gt; I need to upgra...</td>\n",
       "      <td>credit_card</td>\n",
       "      <td>Computer</td>\n",
       "      <td>860xx</td>\n",
       "      <td>AZ</td>\n",
       "      <td>27.65</td>\n",
       "      <td>0.0</td>\n",
       "      <td>Jan-85</td>\n",
       "      <td>1.0</td>\n",
       "      <td>NaN</td>\n",
       "      <td>NaN</td>\n",
       "      <td>3.0</td>\n",
       "      <td>0.0</td>\n",
       "      <td>13648</td>\n",
       "      <td>83.7</td>\n",
       "      <td>9.0</td>\n",
       "      <td>f</td>\n",
       "      <td>0.0</td>\n",
       "      <td>0.0</td>\n",
       "      <td>5861.071414</td>\n",
       "      <td>5831.78</td>\n",
       "      <td>5000.00</td>\n",
       "      <td>861.07</td>\n",
       "      <td>0.00</td>\n",
       "      <td>0.00</td>\n",
       "      <td>0.00</td>\n",
       "      <td>Jan-15</td>\n",
       "      <td>171.62</td>\n",
       "      <td>NaN</td>\n",
       "      <td>Jan-16</td>\n",
       "      <td>0.0</td>\n",
       "      <td>NaN</td>\n",
       "      <td>1</td>\n",
       "      <td>INDIVIDUAL</td>\n",
       "      <td>0.0</td>\n",
       "      <td>NaN</td>\n",
       "      <td>NaN</td>\n",
       "      <td>NaN</td>\n",
       "      <td>1</td>\n",
       "    </tr>\n",
       "    <tr>\n",
       "      <th>1</th>\n",
       "      <td>1077430</td>\n",
       "      <td>1314167</td>\n",
       "      <td>2500</td>\n",
       "      <td>2500</td>\n",
       "      <td>2500.0</td>\n",
       "      <td>60 months</td>\n",
       "      <td>15.27</td>\n",
       "      <td>59.83</td>\n",
       "      <td>C</td>\n",
       "      <td>C4</td>\n",
       "      <td>Ryder</td>\n",
       "      <td>&lt; 1 year</td>\n",
       "      <td>RENT</td>\n",
       "      <td>30000.0</td>\n",
       "      <td>Source Verified</td>\n",
       "      <td>Dec-11</td>\n",
       "      <td>Charged Off</td>\n",
       "      <td>n</td>\n",
       "      <td>https://www.lendingclub.com/browse/loanDetail....</td>\n",
       "      <td>Borrower added on 12/22/11 &gt; I plan to use t...</td>\n",
       "      <td>car</td>\n",
       "      <td>bike</td>\n",
       "      <td>309xx</td>\n",
       "      <td>GA</td>\n",
       "      <td>1.00</td>\n",
       "      <td>0.0</td>\n",
       "      <td>Apr-99</td>\n",
       "      <td>5.0</td>\n",
       "      <td>NaN</td>\n",
       "      <td>NaN</td>\n",
       "      <td>3.0</td>\n",
       "      <td>0.0</td>\n",
       "      <td>1687</td>\n",
       "      <td>9.4</td>\n",
       "      <td>4.0</td>\n",
       "      <td>f</td>\n",
       "      <td>0.0</td>\n",
       "      <td>0.0</td>\n",
       "      <td>1008.710000</td>\n",
       "      <td>1008.71</td>\n",
       "      <td>456.46</td>\n",
       "      <td>435.17</td>\n",
       "      <td>0.00</td>\n",
       "      <td>117.08</td>\n",
       "      <td>1.11</td>\n",
       "      <td>Apr-13</td>\n",
       "      <td>119.66</td>\n",
       "      <td>NaN</td>\n",
       "      <td>Sep-13</td>\n",
       "      <td>0.0</td>\n",
       "      <td>NaN</td>\n",
       "      <td>1</td>\n",
       "      <td>INDIVIDUAL</td>\n",
       "      <td>0.0</td>\n",
       "      <td>NaN</td>\n",
       "      <td>NaN</td>\n",
       "      <td>NaN</td>\n",
       "      <td>0</td>\n",
       "    </tr>\n",
       "    <tr>\n",
       "      <th>2</th>\n",
       "      <td>1077175</td>\n",
       "      <td>1313524</td>\n",
       "      <td>2400</td>\n",
       "      <td>2400</td>\n",
       "      <td>2400.0</td>\n",
       "      <td>36 months</td>\n",
       "      <td>15.96</td>\n",
       "      <td>84.33</td>\n",
       "      <td>C</td>\n",
       "      <td>C5</td>\n",
       "      <td>NaN</td>\n",
       "      <td>10+ years</td>\n",
       "      <td>RENT</td>\n",
       "      <td>12252.0</td>\n",
       "      <td>Not Verified</td>\n",
       "      <td>Dec-11</td>\n",
       "      <td>Fully Paid</td>\n",
       "      <td>n</td>\n",
       "      <td>https://www.lendingclub.com/browse/loanDetail....</td>\n",
       "      <td>NaN</td>\n",
       "      <td>small_business</td>\n",
       "      <td>real estate business</td>\n",
       "      <td>606xx</td>\n",
       "      <td>IL</td>\n",
       "      <td>8.72</td>\n",
       "      <td>0.0</td>\n",
       "      <td>Nov-01</td>\n",
       "      <td>2.0</td>\n",
       "      <td>NaN</td>\n",
       "      <td>NaN</td>\n",
       "      <td>2.0</td>\n",
       "      <td>0.0</td>\n",
       "      <td>2956</td>\n",
       "      <td>98.5</td>\n",
       "      <td>10.0</td>\n",
       "      <td>f</td>\n",
       "      <td>0.0</td>\n",
       "      <td>0.0</td>\n",
       "      <td>3003.653644</td>\n",
       "      <td>3003.65</td>\n",
       "      <td>2400.00</td>\n",
       "      <td>603.65</td>\n",
       "      <td>0.00</td>\n",
       "      <td>0.00</td>\n",
       "      <td>0.00</td>\n",
       "      <td>Jun-14</td>\n",
       "      <td>649.91</td>\n",
       "      <td>NaN</td>\n",
       "      <td>Jan-16</td>\n",
       "      <td>0.0</td>\n",
       "      <td>NaN</td>\n",
       "      <td>1</td>\n",
       "      <td>INDIVIDUAL</td>\n",
       "      <td>0.0</td>\n",
       "      <td>NaN</td>\n",
       "      <td>NaN</td>\n",
       "      <td>NaN</td>\n",
       "      <td>1</td>\n",
       "    </tr>\n",
       "    <tr>\n",
       "      <th>3</th>\n",
       "      <td>1076863</td>\n",
       "      <td>1277178</td>\n",
       "      <td>10000</td>\n",
       "      <td>10000</td>\n",
       "      <td>10000.0</td>\n",
       "      <td>36 months</td>\n",
       "      <td>13.49</td>\n",
       "      <td>339.31</td>\n",
       "      <td>C</td>\n",
       "      <td>C1</td>\n",
       "      <td>AIR RESOURCES BOARD</td>\n",
       "      <td>10+ years</td>\n",
       "      <td>RENT</td>\n",
       "      <td>49200.0</td>\n",
       "      <td>Source Verified</td>\n",
       "      <td>Dec-11</td>\n",
       "      <td>Fully Paid</td>\n",
       "      <td>n</td>\n",
       "      <td>https://www.lendingclub.com/browse/loanDetail....</td>\n",
       "      <td>Borrower added on 12/21/11 &gt; to pay for prop...</td>\n",
       "      <td>other</td>\n",
       "      <td>personel</td>\n",
       "      <td>917xx</td>\n",
       "      <td>CA</td>\n",
       "      <td>20.00</td>\n",
       "      <td>0.0</td>\n",
       "      <td>Feb-96</td>\n",
       "      <td>1.0</td>\n",
       "      <td>35.0</td>\n",
       "      <td>NaN</td>\n",
       "      <td>10.0</td>\n",
       "      <td>0.0</td>\n",
       "      <td>5598</td>\n",
       "      <td>21.0</td>\n",
       "      <td>37.0</td>\n",
       "      <td>f</td>\n",
       "      <td>0.0</td>\n",
       "      <td>0.0</td>\n",
       "      <td>12226.302210</td>\n",
       "      <td>12226.30</td>\n",
       "      <td>10000.00</td>\n",
       "      <td>2209.33</td>\n",
       "      <td>16.97</td>\n",
       "      <td>0.00</td>\n",
       "      <td>0.00</td>\n",
       "      <td>Jan-15</td>\n",
       "      <td>357.48</td>\n",
       "      <td>NaN</td>\n",
       "      <td>Jan-15</td>\n",
       "      <td>0.0</td>\n",
       "      <td>NaN</td>\n",
       "      <td>1</td>\n",
       "      <td>INDIVIDUAL</td>\n",
       "      <td>0.0</td>\n",
       "      <td>NaN</td>\n",
       "      <td>NaN</td>\n",
       "      <td>NaN</td>\n",
       "      <td>1</td>\n",
       "    </tr>\n",
       "    <tr>\n",
       "      <th>5</th>\n",
       "      <td>1075269</td>\n",
       "      <td>1311441</td>\n",
       "      <td>5000</td>\n",
       "      <td>5000</td>\n",
       "      <td>5000.0</td>\n",
       "      <td>36 months</td>\n",
       "      <td>7.90</td>\n",
       "      <td>156.46</td>\n",
       "      <td>A</td>\n",
       "      <td>A4</td>\n",
       "      <td>Veolia Transportaton</td>\n",
       "      <td>3 years</td>\n",
       "      <td>RENT</td>\n",
       "      <td>36000.0</td>\n",
       "      <td>Source Verified</td>\n",
       "      <td>Dec-11</td>\n",
       "      <td>Fully Paid</td>\n",
       "      <td>n</td>\n",
       "      <td>https://www.lendingclub.com/browse/loanDetail....</td>\n",
       "      <td>NaN</td>\n",
       "      <td>wedding</td>\n",
       "      <td>My wedding loan I promise to pay back</td>\n",
       "      <td>852xx</td>\n",
       "      <td>AZ</td>\n",
       "      <td>11.20</td>\n",
       "      <td>0.0</td>\n",
       "      <td>Nov-04</td>\n",
       "      <td>3.0</td>\n",
       "      <td>NaN</td>\n",
       "      <td>NaN</td>\n",
       "      <td>9.0</td>\n",
       "      <td>0.0</td>\n",
       "      <td>7963</td>\n",
       "      <td>28.3</td>\n",
       "      <td>12.0</td>\n",
       "      <td>f</td>\n",
       "      <td>0.0</td>\n",
       "      <td>0.0</td>\n",
       "      <td>5631.377753</td>\n",
       "      <td>5631.38</td>\n",
       "      <td>5000.00</td>\n",
       "      <td>631.38</td>\n",
       "      <td>0.00</td>\n",
       "      <td>0.00</td>\n",
       "      <td>0.00</td>\n",
       "      <td>Jan-15</td>\n",
       "      <td>161.03</td>\n",
       "      <td>NaN</td>\n",
       "      <td>Sep-15</td>\n",
       "      <td>0.0</td>\n",
       "      <td>NaN</td>\n",
       "      <td>1</td>\n",
       "      <td>INDIVIDUAL</td>\n",
       "      <td>0.0</td>\n",
       "      <td>NaN</td>\n",
       "      <td>NaN</td>\n",
       "      <td>NaN</td>\n",
       "      <td>1</td>\n",
       "    </tr>\n",
       "  </tbody>\n",
       "</table>\n",
       "</div>"
      ],
      "text/plain": [
       "        id  member_id  loan_amnt  funded_amnt  funded_amnt_inv        term  \\\n",
       "0  1077501    1296599       5000         5000           4975.0   36 months   \n",
       "1  1077430    1314167       2500         2500           2500.0   60 months   \n",
       "2  1077175    1313524       2400         2400           2400.0   36 months   \n",
       "3  1076863    1277178      10000        10000          10000.0   36 months   \n",
       "5  1075269    1311441       5000         5000           5000.0   36 months   \n",
       "\n",
       "   int_rate  installment grade sub_grade             emp_title emp_length  \\\n",
       "0     10.65       162.87     B        B2                   NaN  10+ years   \n",
       "1     15.27        59.83     C        C4                 Ryder   < 1 year   \n",
       "2     15.96        84.33     C        C5                   NaN  10+ years   \n",
       "3     13.49       339.31     C        C1   AIR RESOURCES BOARD  10+ years   \n",
       "5      7.90       156.46     A        A4  Veolia Transportaton    3 years   \n",
       "\n",
       "  home_ownership  annual_inc verification_status issue_d  loan_status  \\\n",
       "0           RENT     24000.0            Verified  Dec-11   Fully Paid   \n",
       "1           RENT     30000.0     Source Verified  Dec-11  Charged Off   \n",
       "2           RENT     12252.0        Not Verified  Dec-11   Fully Paid   \n",
       "3           RENT     49200.0     Source Verified  Dec-11   Fully Paid   \n",
       "5           RENT     36000.0     Source Verified  Dec-11   Fully Paid   \n",
       "\n",
       "  pymnt_plan                                                url  \\\n",
       "0          n  https://www.lendingclub.com/browse/loanDetail....   \n",
       "1          n  https://www.lendingclub.com/browse/loanDetail....   \n",
       "2          n  https://www.lendingclub.com/browse/loanDetail....   \n",
       "3          n  https://www.lendingclub.com/browse/loanDetail....   \n",
       "5          n  https://www.lendingclub.com/browse/loanDetail....   \n",
       "\n",
       "                                                desc         purpose  \\\n",
       "0    Borrower added on 12/22/11 > I need to upgra...     credit_card   \n",
       "1    Borrower added on 12/22/11 > I plan to use t...             car   \n",
       "2                                                NaN  small_business   \n",
       "3    Borrower added on 12/21/11 > to pay for prop...           other   \n",
       "5                                                NaN         wedding   \n",
       "\n",
       "                                   title zip_code addr_state    dti  \\\n",
       "0                               Computer    860xx         AZ  27.65   \n",
       "1                                   bike    309xx         GA   1.00   \n",
       "2                   real estate business    606xx         IL   8.72   \n",
       "3                               personel    917xx         CA  20.00   \n",
       "5  My wedding loan I promise to pay back    852xx         AZ  11.20   \n",
       "\n",
       "   delinq_2yrs earliest_cr_line  inq_last_6mths  mths_since_last_delinq  \\\n",
       "0          0.0           Jan-85             1.0                     NaN   \n",
       "1          0.0           Apr-99             5.0                     NaN   \n",
       "2          0.0           Nov-01             2.0                     NaN   \n",
       "3          0.0           Feb-96             1.0                    35.0   \n",
       "5          0.0           Nov-04             3.0                     NaN   \n",
       "\n",
       "   mths_since_last_record  open_acc  pub_rec  revol_bal  revol_util  \\\n",
       "0                     NaN       3.0      0.0      13648        83.7   \n",
       "1                     NaN       3.0      0.0       1687         9.4   \n",
       "2                     NaN       2.0      0.0       2956        98.5   \n",
       "3                     NaN      10.0      0.0       5598        21.0   \n",
       "5                     NaN       9.0      0.0       7963        28.3   \n",
       "\n",
       "   total_acc initial_list_status  out_prncp  out_prncp_inv   total_pymnt  \\\n",
       "0        9.0                   f        0.0            0.0   5861.071414   \n",
       "1        4.0                   f        0.0            0.0   1008.710000   \n",
       "2       10.0                   f        0.0            0.0   3003.653644   \n",
       "3       37.0                   f        0.0            0.0  12226.302210   \n",
       "5       12.0                   f        0.0            0.0   5631.377753   \n",
       "\n",
       "   total_pymnt_inv  total_rec_prncp  total_rec_int  total_rec_late_fee  \\\n",
       "0          5831.78          5000.00         861.07                0.00   \n",
       "1          1008.71           456.46         435.17                0.00   \n",
       "2          3003.65          2400.00         603.65                0.00   \n",
       "3         12226.30         10000.00        2209.33               16.97   \n",
       "5          5631.38          5000.00         631.38                0.00   \n",
       "\n",
       "   recoveries  collection_recovery_fee last_pymnt_d  last_pymnt_amnt  \\\n",
       "0        0.00                     0.00       Jan-15           171.62   \n",
       "1      117.08                     1.11       Apr-13           119.66   \n",
       "2        0.00                     0.00       Jun-14           649.91   \n",
       "3        0.00                     0.00       Jan-15           357.48   \n",
       "5        0.00                     0.00       Jan-15           161.03   \n",
       "\n",
       "  next_pymnt_d last_credit_pull_d  collections_12_mths_ex_med  \\\n",
       "0          NaN             Jan-16                         0.0   \n",
       "1          NaN             Sep-13                         0.0   \n",
       "2          NaN             Jan-16                         0.0   \n",
       "3          NaN             Jan-15                         0.0   \n",
       "5          NaN             Sep-15                         0.0   \n",
       "\n",
       "   mths_since_last_major_derog  policy_code application_type  acc_now_delinq  \\\n",
       "0                          NaN            1       INDIVIDUAL             0.0   \n",
       "1                          NaN            1       INDIVIDUAL             0.0   \n",
       "2                          NaN            1       INDIVIDUAL             0.0   \n",
       "3                          NaN            1       INDIVIDUAL             0.0   \n",
       "5                          NaN            1       INDIVIDUAL             0.0   \n",
       "\n",
       "   tot_coll_amt  tot_cur_bal  total_rev_hi_lim  bad_loan  \n",
       "0           NaN          NaN               NaN         1  \n",
       "1           NaN          NaN               NaN         0  \n",
       "2           NaN          NaN               NaN         1  \n",
       "3           NaN          NaN               NaN         1  \n",
       "5           NaN          NaN               NaN         1  "
      ]
     },
     "execution_count": 3,
     "metadata": {},
     "output_type": "execute_result"
    }
   ],
   "source": [
    "# Read and Show Dataset\n",
    "df = wrangle(\"data/loan_data_2007_2014.csv\")\n",
    "pd.set_option('display.max_columns', None)\n",
    "print(df.shape)\n",
    "df.head()"
   ]
  },
  {
   "cell_type": "code",
   "execution_count": 4,
   "id": "607695ce",
   "metadata": {},
   "outputs": [
    {
     "data": {
      "text/plain": [
       "Fully Paid     184739\n",
       "Charged Off     42475\n",
       "Name: loan_status, dtype: int64"
      ]
     },
     "execution_count": 4,
     "metadata": {},
     "output_type": "execute_result"
    }
   ],
   "source": [
    "# Check loan status  fully paid or charged off\n",
    "df[\"loan_status\"].value_counts()"
   ]
  },
  {
   "cell_type": "code",
   "execution_count": 5,
   "id": "a91e281f",
   "metadata": {},
   "outputs": [
    {
     "data": {
      "text/plain": [
       "<AxesSubplot:ylabel='member_id'>"
      ]
     },
     "execution_count": 5,
     "metadata": {},
     "output_type": "execute_result"
    },
    {
     "data": {
      "image/png": "[encoded data removed]",
      "text/plain": [
       "<Figure size 432x288 with 1 Axes>"
      ]
     },
     "metadata": {},
     "output_type": "display_data"
    }
   ],
   "source": [
    "df.groupby(['loan_status']).sum().plot(kind='pie', y='member_id', autopct='%1.0f%%')"
   ]
  },
  {
   "cell_type": "code",
   "execution_count": 6,
   "id": "332219c2",
   "metadata": {
    "scrolled": false
   },
   "outputs": [
    {
     "data": {
      "text/plain": [
       "227214"
      ]
     },
     "execution_count": 6,
     "metadata": {},
     "output_type": "execute_result"
    }
   ],
   "source": [
    "# Check Total  fully paid and charged off\n",
    "len(df)"
   ]
  },
  {
   "cell_type": "code",
   "execution_count": 7,
   "id": "75177a65",
   "metadata": {},
   "outputs": [
    {
     "data": {
      "text/plain": [
       "<AxesSubplot:xlabel='loan_status', ylabel='count'>"
      ]
     },
     "execution_count": 7,
     "metadata": {},
     "output_type": "execute_result"
    },
    {
     "data": {
      "image/png": "[encoded data removed]",
      "text/plain": [
       "<Figure size 432x288 with 1 Axes>"
      ]
     },
     "metadata": {
      "needs_background": "light"
     },
     "output_type": "display_data"
    }
   ],
   "source": [
    "# Check loan_status after change\n",
    "sns.countplot(x=df['loan_status'], data=df)"
   ]
  },
  {
   "cell_type": "code",
   "execution_count": 8,
   "id": "0ce10b20",
   "metadata": {},
   "outputs": [
    {
     "data": {
      "text/plain": [
       "next_pymnt_d                   100.000000\n",
       "mths_since_last_record          88.273170\n",
       "mths_since_last_major_derog     82.387529\n",
       "desc                            61.131356\n",
       "mths_since_last_delinq          56.360524\n",
       "total_rev_hi_lim                28.038765\n",
       "tot_cur_bal                     28.038765\n",
       "tot_coll_amt                    28.038765\n",
       "emp_title                        5.590765\n",
       "emp_length                       3.817106\n",
       "last_pymnt_d                     0.160201\n",
       "revol_util                       0.081861\n",
       "collections_12_mths_ex_med       0.024646\n",
       "last_credit_pull_d               0.009242\n",
       "title                            0.005721\n",
       "total_pymnt_inv                  0.000000\n",
       "total_acc                        0.000000\n",
       "acc_now_delinq                   0.000000\n",
       "initial_list_status              0.000000\n",
       "out_prncp                        0.000000\n",
       "out_prncp_inv                    0.000000\n",
       "total_pymnt                      0.000000\n",
       "policy_code                      0.000000\n",
       "last_pymnt_amnt                  0.000000\n",
       "total_rec_int                    0.000000\n",
       "application_type                 0.000000\n",
       "total_rec_late_fee               0.000000\n",
       "recoveries                       0.000000\n",
       "collection_recovery_fee          0.000000\n",
       "revol_bal                        0.000000\n",
       "total_rec_prncp                  0.000000\n",
       "id                               0.000000\n",
       "pub_rec                          0.000000\n",
       "open_acc                         0.000000\n",
       "loan_amnt                        0.000000\n",
       "funded_amnt                      0.000000\n",
       "funded_amnt_inv                  0.000000\n",
       "term                             0.000000\n",
       "int_rate                         0.000000\n",
       "installment                      0.000000\n",
       "grade                            0.000000\n",
       "sub_grade                        0.000000\n",
       "home_ownership                   0.000000\n",
       "annual_inc                       0.000000\n",
       "verification_status              0.000000\n",
       "issue_d                          0.000000\n",
       "loan_status                      0.000000\n",
       "pymnt_plan                       0.000000\n",
       "url                              0.000000\n",
       "purpose                          0.000000\n",
       "zip_code                         0.000000\n",
       "addr_state                       0.000000\n",
       "dti                              0.000000\n",
       "delinq_2yrs                      0.000000\n",
       "earliest_cr_line                 0.000000\n",
       "inq_last_6mths                   0.000000\n",
       "member_id                        0.000000\n",
       "bad_loan                         0.000000\n",
       "dtype: float64"
      ]
     },
     "execution_count": 8,
     "metadata": {},
     "output_type": "execute_result"
    }
   ],
   "source": [
    "# find percentage of null values sorted in descending\n",
    "((df.isnull().sum()/len(df))*100).sort_values(ascending=False)"
   ]
  },
  {
   "cell_type": "code",
   "execution_count": 9,
   "id": "2fdc5f14",
   "metadata": {},
   "outputs": [],
   "source": [
    "# build a new dataframe from selected columns\n",
    "final_features = ['addr_state', 'annual_inc', 'earliest_cr_line', 'emp_length', 'emp_title', 'grade', \n",
    "                  'home_ownership', 'application_type', 'initial_list_status', 'int_rate', 'loan_amnt', \n",
    "                  'loan_status', 'tot_cur_bal', 'open_acc', 'pub_rec',  'purpose', 'revol_bal', \n",
    "                  'revol_util', 'sub_grade', 'term', 'title', 'total_acc', 'verification_status']"
   ]
  },
  {
   "cell_type": "code",
   "execution_count": 10,
   "id": "ecefcb28",
   "metadata": {},
   "outputs": [
    {
     "name": "stdout",
     "output_type": "stream",
     "text": [
      "(227214, 23)\n"
     ]
    },
    {
     "data": {
      "text/html": [
       "<div>\n",
       "<style scoped>\n",
       "    .dataframe tbody tr th:only-of-type {\n",
       "        vertical-align: middle;\n",
       "    }\n",
       "\n",
       "    .dataframe tbody tr th {\n",
       "        vertical-align: top;\n",
       "    }\n",
       "\n",
       "    .dataframe thead th {\n",
       "        text-align: right;\n",
       "    }\n",
       "</style>\n",
       "<table border=\"1\" class=\"dataframe\">\n",
       "  <thead>\n",
       "    <tr style=\"text-align: right;\">\n",
       "      <th></th>\n",
       "      <th>addr_state</th>\n",
       "      <th>annual_inc</th>\n",
       "      <th>earliest_cr_line</th>\n",
       "      <th>emp_length</th>\n",
       "      <th>emp_title</th>\n",
       "      <th>grade</th>\n",
       "      <th>home_ownership</th>\n",
       "      <th>application_type</th>\n",
       "      <th>initial_list_status</th>\n",
       "      <th>int_rate</th>\n",
       "      <th>loan_amnt</th>\n",
       "      <th>loan_status</th>\n",
       "      <th>tot_cur_bal</th>\n",
       "      <th>open_acc</th>\n",
       "      <th>pub_rec</th>\n",
       "      <th>purpose</th>\n",
       "      <th>revol_bal</th>\n",
       "      <th>revol_util</th>\n",
       "      <th>sub_grade</th>\n",
       "      <th>term</th>\n",
       "      <th>title</th>\n",
       "      <th>total_acc</th>\n",
       "      <th>verification_status</th>\n",
       "    </tr>\n",
       "  </thead>\n",
       "  <tbody>\n",
       "    <tr>\n",
       "      <th>0</th>\n",
       "      <td>AZ</td>\n",
       "      <td>24000.0</td>\n",
       "      <td>Jan-85</td>\n",
       "      <td>10+ years</td>\n",
       "      <td>NaN</td>\n",
       "      <td>B</td>\n",
       "      <td>RENT</td>\n",
       "      <td>INDIVIDUAL</td>\n",
       "      <td>f</td>\n",
       "      <td>10.65</td>\n",
       "      <td>5000</td>\n",
       "      <td>Fully Paid</td>\n",
       "      <td>NaN</td>\n",
       "      <td>3.0</td>\n",
       "      <td>0.0</td>\n",
       "      <td>credit_card</td>\n",
       "      <td>13648</td>\n",
       "      <td>83.7</td>\n",
       "      <td>B2</td>\n",
       "      <td>36 months</td>\n",
       "      <td>Computer</td>\n",
       "      <td>9.0</td>\n",
       "      <td>Verified</td>\n",
       "    </tr>\n",
       "    <tr>\n",
       "      <th>1</th>\n",
       "      <td>GA</td>\n",
       "      <td>30000.0</td>\n",
       "      <td>Apr-99</td>\n",
       "      <td>&lt; 1 year</td>\n",
       "      <td>Ryder</td>\n",
       "      <td>C</td>\n",
       "      <td>RENT</td>\n",
       "      <td>INDIVIDUAL</td>\n",
       "      <td>f</td>\n",
       "      <td>15.27</td>\n",
       "      <td>2500</td>\n",
       "      <td>Charged Off</td>\n",
       "      <td>NaN</td>\n",
       "      <td>3.0</td>\n",
       "      <td>0.0</td>\n",
       "      <td>car</td>\n",
       "      <td>1687</td>\n",
       "      <td>9.4</td>\n",
       "      <td>C4</td>\n",
       "      <td>60 months</td>\n",
       "      <td>bike</td>\n",
       "      <td>4.0</td>\n",
       "      <td>Source Verified</td>\n",
       "    </tr>\n",
       "    <tr>\n",
       "      <th>2</th>\n",
       "      <td>IL</td>\n",
       "      <td>12252.0</td>\n",
       "      <td>Nov-01</td>\n",
       "      <td>10+ years</td>\n",
       "      <td>NaN</td>\n",
       "      <td>C</td>\n",
       "      <td>RENT</td>\n",
       "      <td>INDIVIDUAL</td>\n",
       "      <td>f</td>\n",
       "      <td>15.96</td>\n",
       "      <td>2400</td>\n",
       "      <td>Fully Paid</td>\n",
       "      <td>NaN</td>\n",
       "      <td>2.0</td>\n",
       "      <td>0.0</td>\n",
       "      <td>small_business</td>\n",
       "      <td>2956</td>\n",
       "      <td>98.5</td>\n",
       "      <td>C5</td>\n",
       "      <td>36 months</td>\n",
       "      <td>real estate business</td>\n",
       "      <td>10.0</td>\n",
       "      <td>Not Verified</td>\n",
       "    </tr>\n",
       "    <tr>\n",
       "      <th>3</th>\n",
       "      <td>CA</td>\n",
       "      <td>49200.0</td>\n",
       "      <td>Feb-96</td>\n",
       "      <td>10+ years</td>\n",
       "      <td>AIR RESOURCES BOARD</td>\n",
       "      <td>C</td>\n",
       "      <td>RENT</td>\n",
       "      <td>INDIVIDUAL</td>\n",
       "      <td>f</td>\n",
       "      <td>13.49</td>\n",
       "      <td>10000</td>\n",
       "      <td>Fully Paid</td>\n",
       "      <td>NaN</td>\n",
       "      <td>10.0</td>\n",
       "      <td>0.0</td>\n",
       "      <td>other</td>\n",
       "      <td>5598</td>\n",
       "      <td>21.0</td>\n",
       "      <td>C1</td>\n",
       "      <td>36 months</td>\n",
       "      <td>personel</td>\n",
       "      <td>37.0</td>\n",
       "      <td>Source Verified</td>\n",
       "    </tr>\n",
       "    <tr>\n",
       "      <th>5</th>\n",
       "      <td>AZ</td>\n",
       "      <td>36000.0</td>\n",
       "      <td>Nov-04</td>\n",
       "      <td>3 years</td>\n",
       "      <td>Veolia Transportaton</td>\n",
       "      <td>A</td>\n",
       "      <td>RENT</td>\n",
       "      <td>INDIVIDUAL</td>\n",
       "      <td>f</td>\n",
       "      <td>7.90</td>\n",
       "      <td>5000</td>\n",
       "      <td>Fully Paid</td>\n",
       "      <td>NaN</td>\n",
       "      <td>9.0</td>\n",
       "      <td>0.0</td>\n",
       "      <td>wedding</td>\n",
       "      <td>7963</td>\n",
       "      <td>28.3</td>\n",
       "      <td>A4</td>\n",
       "      <td>36 months</td>\n",
       "      <td>My wedding loan I promise to pay back</td>\n",
       "      <td>12.0</td>\n",
       "      <td>Source Verified</td>\n",
       "    </tr>\n",
       "  </tbody>\n",
       "</table>\n",
       "</div>"
      ],
      "text/plain": [
       "  addr_state  annual_inc earliest_cr_line emp_length             emp_title  \\\n",
       "0         AZ     24000.0           Jan-85  10+ years                   NaN   \n",
       "1         GA     30000.0           Apr-99   < 1 year                 Ryder   \n",
       "2         IL     12252.0           Nov-01  10+ years                   NaN   \n",
       "3         CA     49200.0           Feb-96  10+ years   AIR RESOURCES BOARD   \n",
       "5         AZ     36000.0           Nov-04    3 years  Veolia Transportaton   \n",
       "\n",
       "  grade home_ownership application_type initial_list_status  int_rate  \\\n",
       "0     B           RENT       INDIVIDUAL                   f     10.65   \n",
       "1     C           RENT       INDIVIDUAL                   f     15.27   \n",
       "2     C           RENT       INDIVIDUAL                   f     15.96   \n",
       "3     C           RENT       INDIVIDUAL                   f     13.49   \n",
       "5     A           RENT       INDIVIDUAL                   f      7.90   \n",
       "\n",
       "   loan_amnt  loan_status  tot_cur_bal  open_acc  pub_rec         purpose  \\\n",
       "0       5000   Fully Paid          NaN       3.0      0.0     credit_card   \n",
       "1       2500  Charged Off          NaN       3.0      0.0             car   \n",
       "2       2400   Fully Paid          NaN       2.0      0.0  small_business   \n",
       "3      10000   Fully Paid          NaN      10.0      0.0           other   \n",
       "5       5000   Fully Paid          NaN       9.0      0.0         wedding   \n",
       "\n",
       "   revol_bal  revol_util sub_grade        term  \\\n",
       "0      13648        83.7        B2   36 months   \n",
       "1       1687         9.4        C4   60 months   \n",
       "2       2956        98.5        C5   36 months   \n",
       "3       5598        21.0        C1   36 months   \n",
       "5       7963        28.3        A4   36 months   \n",
       "\n",
       "                                   title  total_acc verification_status  \n",
       "0                               Computer        9.0            Verified  \n",
       "1                                   bike        4.0     Source Verified  \n",
       "2                   real estate business       10.0        Not Verified  \n",
       "3                               personel       37.0     Source Verified  \n",
       "5  My wedding loan I promise to pay back       12.0     Source Verified  "
      ]
     },
     "execution_count": 10,
     "metadata": {},
     "output_type": "execute_result"
    }
   ],
   "source": [
    "df = df[final_features]\n",
    "print(df.shape)\n",
    "df.head()"
   ]
  },
  {
   "cell_type": "markdown",
   "id": "0980a2b2",
   "metadata": {},
   "source": [
    "<a id=\"4\"></a>\n",
    "# 4. PREPROCESSING"
   ]
  },
  {
   "cell_type": "code",
   "execution_count": 11,
   "id": "f9d4723f",
   "metadata": {},
   "outputs": [
    {
     "data": {
      "text/plain": [
       "object     14\n",
       "float64     7\n",
       "int64       2\n",
       "dtype: int64"
      ]
     },
     "execution_count": 11,
     "metadata": {},
     "output_type": "execute_result"
    }
   ],
   "source": [
    "# see dataframe types from all columns\n",
    "df.dtypes.value_counts()"
   ]
  },
  {
   "cell_type": "code",
   "execution_count": 12,
   "id": "53788786",
   "metadata": {},
   "outputs": [],
   "source": [
    "df_temp = df.copy() # copy so that it does not affect the original data frame\n",
    "df_temp['loan_status'] = pd.get_dummies(df_temp['loan_status'], drop_first=True)"
   ]
  },
  {
   "cell_type": "code",
   "execution_count": 13,
   "id": "f09a329f",
   "metadata": {},
   "outputs": [
    {
     "data": {
      "image/png": "[encoded data removed]",
      "text/plain": [
       "<Figure size 720x360 with 1 Axes>"
      ]
     },
     "metadata": {
      "needs_background": "light"
     },
     "output_type": "display_data"
    }
   ],
   "source": [
    "plt.figure(figsize=(6,3),dpi=120)\n",
    "df_temp.corr()['loan_status'].sort_values().drop('loan_status').plot(kind='bar', cmap='viridis') # correlation with loan_status for continuous features with loan_status feature dropped\n",
    "plt.xticks(rotation=90); "
   ]
  },
  {
   "cell_type": "code",
   "execution_count": 14,
   "id": "ed8a7d9b",
   "metadata": {},
   "outputs": [
    {
     "data": {
      "text/plain": [
       "emp_length      3.817106\n",
       "emp_title       5.590765\n",
       "tot_cur_bal    28.038765\n",
       "revol_util      0.081861\n",
       "title           0.005721\n",
       "dtype: float64"
      ]
     },
     "execution_count": 14,
     "metadata": {},
     "output_type": "execute_result"
    }
   ],
   "source": [
    "# count null values from dataframe\n",
    "df_missing = ((df.isnull().sum()/len(df))*100)[((df.isnull().sum()/len(df))*100) > 0]\n",
    "df_missing"
   ]
  },
  {
   "cell_type": "code",
   "execution_count": 15,
   "id": "3965d565",
   "metadata": {},
   "outputs": [],
   "source": [
    "# build function to see percentage of null values\n",
    "def if_null_values(feat_name):\n",
    "    if feat_name in df_missing:\n",
    "        return(f\"% of missing values = {df_missing[feat_name].round(2)}\")\n",
    "    else:\n",
    "        return(\"No missing values\")"
   ]
  },
  {
   "cell_type": "markdown",
   "id": "f2115139",
   "metadata": {},
   "source": [
    "<a id=\"4.1\"></a>\n",
    "## 4.1 addr_state"
   ]
  },
  {
   "cell_type": "code",
   "execution_count": 16,
   "id": "c97f43c4",
   "metadata": {},
   "outputs": [
    {
     "data": {
      "text/plain": [
       "array(['AZ', 'GA', 'IL', 'CA', 'TX', 'VA', 'MO', 'CT', 'UT', 'FL', 'NY',\n",
       "       'PA', 'MN', 'NJ', 'OR', 'KY', 'OH', 'SC', 'RI', 'LA', 'MA', 'WA',\n",
       "       'WI', 'AL', 'NV', 'AK', 'CO', 'MD', 'WV', 'VT', 'MI', 'DC', 'SD',\n",
       "       'NC', 'AR', 'NM', 'KS', 'HI', 'OK', 'MT', 'WY', 'NH', 'DE', 'MS',\n",
       "       'TN', 'IA', 'NE', 'ID', 'IN', 'ME'], dtype=object)"
      ]
     },
     "execution_count": 16,
     "metadata": {},
     "output_type": "execute_result"
    }
   ],
   "source": [
    "#see unique values from addr_state\n",
    "df['addr_state'].unique()"
   ]
  },
  {
   "cell_type": "code",
   "execution_count": 17,
   "id": "4cf86b6f",
   "metadata": {},
   "outputs": [
    {
     "data": {
      "text/plain": [
       "50"
      ]
     },
     "execution_count": 17,
     "metadata": {},
     "output_type": "execute_result"
    }
   ],
   "source": [
    "# len unique values\n",
    "len(df['addr_state'].unique())"
   ]
  },
  {
   "cell_type": "code",
   "execution_count": 18,
   "id": "91de5a9c",
   "metadata": {},
   "outputs": [
    {
     "data": {
      "text/plain": [
       "CA    38956\n",
       "NY    19474\n",
       "TX    17274\n",
       "FL    15771\n",
       "NJ     8759\n",
       "IL     8363\n",
       "PA     7590\n",
       "GA     7190\n",
       "VA     7147\n",
       "OH     6938\n",
       "NC     6156\n",
       "MA     5613\n",
       "AZ     5411\n",
       "MD     5387\n",
       "WA     5291\n",
       "MI     5281\n",
       "CO     4954\n",
       "MN     3948\n",
       "MO     3587\n",
       "CT     3392\n",
       "NV     3379\n",
       "OR     2991\n",
       "AL     2820\n",
       "WI     2731\n",
       "LA     2638\n",
       "SC     2546\n",
       "IN     2377\n",
       "TN     2064\n",
       "KY     2045\n",
       "OK     1908\n",
       "KS     1883\n",
       "UT     1864\n",
       "AR     1589\n",
       "HI     1306\n",
       "NM     1226\n",
       "NH     1043\n",
       "WV     1018\n",
       "RI      968\n",
       "DC      770\n",
       "MT      663\n",
       "AK      606\n",
       "DE      580\n",
       "WY      542\n",
       "SD      488\n",
       "VT      382\n",
       "MS      282\n",
       "NE        7\n",
       "IA        6\n",
       "ID        6\n",
       "ME        4\n",
       "Name: addr_state, dtype: int64"
      ]
     },
     "execution_count": 18,
     "metadata": {},
     "output_type": "execute_result"
    }
   ],
   "source": [
    "#count all each unique values\n",
    "df['addr_state'].value_counts()"
   ]
  },
  {
   "cell_type": "code",
   "execution_count": 19,
   "id": "4465efa9",
   "metadata": {},
   "outputs": [
    {
     "data": {
      "text/html": [
       "<div>\n",
       "<style scoped>\n",
       "    .dataframe tbody tr th:only-of-type {\n",
       "        vertical-align: middle;\n",
       "    }\n",
       "\n",
       "    .dataframe tbody tr th {\n",
       "        vertical-align: top;\n",
       "    }\n",
       "\n",
       "    .dataframe thead th {\n",
       "        text-align: right;\n",
       "    }\n",
       "</style>\n",
       "<table border=\"1\" class=\"dataframe\">\n",
       "  <thead>\n",
       "    <tr style=\"text-align: right;\">\n",
       "      <th></th>\n",
       "      <th>AL</th>\n",
       "      <th>AR</th>\n",
       "      <th>AZ</th>\n",
       "      <th>CA</th>\n",
       "      <th>CO</th>\n",
       "      <th>CT</th>\n",
       "      <th>DC</th>\n",
       "      <th>DE</th>\n",
       "      <th>FL</th>\n",
       "      <th>GA</th>\n",
       "      <th>HI</th>\n",
       "      <th>IA</th>\n",
       "      <th>ID</th>\n",
       "      <th>IL</th>\n",
       "      <th>IN</th>\n",
       "      <th>KS</th>\n",
       "      <th>KY</th>\n",
       "      <th>LA</th>\n",
       "      <th>MA</th>\n",
       "      <th>MD</th>\n",
       "      <th>ME</th>\n",
       "      <th>MI</th>\n",
       "      <th>MN</th>\n",
       "      <th>MO</th>\n",
       "      <th>MS</th>\n",
       "      <th>MT</th>\n",
       "      <th>NC</th>\n",
       "      <th>NE</th>\n",
       "      <th>NH</th>\n",
       "      <th>NJ</th>\n",
       "      <th>NM</th>\n",
       "      <th>NV</th>\n",
       "      <th>NY</th>\n",
       "      <th>OH</th>\n",
       "      <th>OK</th>\n",
       "      <th>OR</th>\n",
       "      <th>PA</th>\n",
       "      <th>RI</th>\n",
       "      <th>SC</th>\n",
       "      <th>SD</th>\n",
       "      <th>TN</th>\n",
       "      <th>TX</th>\n",
       "      <th>UT</th>\n",
       "      <th>VA</th>\n",
       "      <th>VT</th>\n",
       "      <th>WA</th>\n",
       "      <th>WI</th>\n",
       "      <th>WV</th>\n",
       "      <th>WY</th>\n",
       "    </tr>\n",
       "  </thead>\n",
       "  <tbody>\n",
       "    <tr>\n",
       "      <th>0</th>\n",
       "      <td>0</td>\n",
       "      <td>0</td>\n",
       "      <td>1</td>\n",
       "      <td>0</td>\n",
       "      <td>0</td>\n",
       "      <td>0</td>\n",
       "      <td>0</td>\n",
       "      <td>0</td>\n",
       "      <td>0</td>\n",
       "      <td>0</td>\n",
       "      <td>0</td>\n",
       "      <td>0</td>\n",
       "      <td>0</td>\n",
       "      <td>0</td>\n",
       "      <td>0</td>\n",
       "      <td>0</td>\n",
       "      <td>0</td>\n",
       "      <td>0</td>\n",
       "      <td>0</td>\n",
       "      <td>0</td>\n",
       "      <td>0</td>\n",
       "      <td>0</td>\n",
       "      <td>0</td>\n",
       "      <td>0</td>\n",
       "      <td>0</td>\n",
       "      <td>0</td>\n",
       "      <td>0</td>\n",
       "      <td>0</td>\n",
       "      <td>0</td>\n",
       "      <td>0</td>\n",
       "      <td>0</td>\n",
       "      <td>0</td>\n",
       "      <td>0</td>\n",
       "      <td>0</td>\n",
       "      <td>0</td>\n",
       "      <td>0</td>\n",
       "      <td>0</td>\n",
       "      <td>0</td>\n",
       "      <td>0</td>\n",
       "      <td>0</td>\n",
       "      <td>0</td>\n",
       "      <td>0</td>\n",
       "      <td>0</td>\n",
       "      <td>0</td>\n",
       "      <td>0</td>\n",
       "      <td>0</td>\n",
       "      <td>0</td>\n",
       "      <td>0</td>\n",
       "      <td>0</td>\n",
       "    </tr>\n",
       "    <tr>\n",
       "      <th>1</th>\n",
       "      <td>0</td>\n",
       "      <td>0</td>\n",
       "      <td>0</td>\n",
       "      <td>0</td>\n",
       "      <td>0</td>\n",
       "      <td>0</td>\n",
       "      <td>0</td>\n",
       "      <td>0</td>\n",
       "      <td>0</td>\n",
       "      <td>1</td>\n",
       "      <td>0</td>\n",
       "      <td>0</td>\n",
       "      <td>0</td>\n",
       "      <td>0</td>\n",
       "      <td>0</td>\n",
       "      <td>0</td>\n",
       "      <td>0</td>\n",
       "      <td>0</td>\n",
       "      <td>0</td>\n",
       "      <td>0</td>\n",
       "      <td>0</td>\n",
       "      <td>0</td>\n",
       "      <td>0</td>\n",
       "      <td>0</td>\n",
       "      <td>0</td>\n",
       "      <td>0</td>\n",
       "      <td>0</td>\n",
       "      <td>0</td>\n",
       "      <td>0</td>\n",
       "      <td>0</td>\n",
       "      <td>0</td>\n",
       "      <td>0</td>\n",
       "      <td>0</td>\n",
       "      <td>0</td>\n",
       "      <td>0</td>\n",
       "      <td>0</td>\n",
       "      <td>0</td>\n",
       "      <td>0</td>\n",
       "      <td>0</td>\n",
       "      <td>0</td>\n",
       "      <td>0</td>\n",
       "      <td>0</td>\n",
       "      <td>0</td>\n",
       "      <td>0</td>\n",
       "      <td>0</td>\n",
       "      <td>0</td>\n",
       "      <td>0</td>\n",
       "      <td>0</td>\n",
       "      <td>0</td>\n",
       "    </tr>\n",
       "    <tr>\n",
       "      <th>2</th>\n",
       "      <td>0</td>\n",
       "      <td>0</td>\n",
       "      <td>0</td>\n",
       "      <td>0</td>\n",
       "      <td>0</td>\n",
       "      <td>0</td>\n",
       "      <td>0</td>\n",
       "      <td>0</td>\n",
       "      <td>0</td>\n",
       "      <td>0</td>\n",
       "      <td>0</td>\n",
       "      <td>0</td>\n",
       "      <td>0</td>\n",
       "      <td>1</td>\n",
       "      <td>0</td>\n",
       "      <td>0</td>\n",
       "      <td>0</td>\n",
       "      <td>0</td>\n",
       "      <td>0</td>\n",
       "      <td>0</td>\n",
       "      <td>0</td>\n",
       "      <td>0</td>\n",
       "      <td>0</td>\n",
       "      <td>0</td>\n",
       "      <td>0</td>\n",
       "      <td>0</td>\n",
       "      <td>0</td>\n",
       "      <td>0</td>\n",
       "      <td>0</td>\n",
       "      <td>0</td>\n",
       "      <td>0</td>\n",
       "      <td>0</td>\n",
       "      <td>0</td>\n",
       "      <td>0</td>\n",
       "      <td>0</td>\n",
       "      <td>0</td>\n",
       "      <td>0</td>\n",
       "      <td>0</td>\n",
       "      <td>0</td>\n",
       "      <td>0</td>\n",
       "      <td>0</td>\n",
       "      <td>0</td>\n",
       "      <td>0</td>\n",
       "      <td>0</td>\n",
       "      <td>0</td>\n",
       "      <td>0</td>\n",
       "      <td>0</td>\n",
       "      <td>0</td>\n",
       "      <td>0</td>\n",
       "    </tr>\n",
       "    <tr>\n",
       "      <th>3</th>\n",
       "      <td>0</td>\n",
       "      <td>0</td>\n",
       "      <td>0</td>\n",
       "      <td>1</td>\n",
       "      <td>0</td>\n",
       "      <td>0</td>\n",
       "      <td>0</td>\n",
       "      <td>0</td>\n",
       "      <td>0</td>\n",
       "      <td>0</td>\n",
       "      <td>0</td>\n",
       "      <td>0</td>\n",
       "      <td>0</td>\n",
       "      <td>0</td>\n",
       "      <td>0</td>\n",
       "      <td>0</td>\n",
       "      <td>0</td>\n",
       "      <td>0</td>\n",
       "      <td>0</td>\n",
       "      <td>0</td>\n",
       "      <td>0</td>\n",
       "      <td>0</td>\n",
       "      <td>0</td>\n",
       "      <td>0</td>\n",
       "      <td>0</td>\n",
       "      <td>0</td>\n",
       "      <td>0</td>\n",
       "      <td>0</td>\n",
       "      <td>0</td>\n",
       "      <td>0</td>\n",
       "      <td>0</td>\n",
       "      <td>0</td>\n",
       "      <td>0</td>\n",
       "      <td>0</td>\n",
       "      <td>0</td>\n",
       "      <td>0</td>\n",
       "      <td>0</td>\n",
       "      <td>0</td>\n",
       "      <td>0</td>\n",
       "      <td>0</td>\n",
       "      <td>0</td>\n",
       "      <td>0</td>\n",
       "      <td>0</td>\n",
       "      <td>0</td>\n",
       "      <td>0</td>\n",
       "      <td>0</td>\n",
       "      <td>0</td>\n",
       "      <td>0</td>\n",
       "      <td>0</td>\n",
       "    </tr>\n",
       "    <tr>\n",
       "      <th>5</th>\n",
       "      <td>0</td>\n",
       "      <td>0</td>\n",
       "      <td>1</td>\n",
       "      <td>0</td>\n",
       "      <td>0</td>\n",
       "      <td>0</td>\n",
       "      <td>0</td>\n",
       "      <td>0</td>\n",
       "      <td>0</td>\n",
       "      <td>0</td>\n",
       "      <td>0</td>\n",
       "      <td>0</td>\n",
       "      <td>0</td>\n",
       "      <td>0</td>\n",
       "      <td>0</td>\n",
       "      <td>0</td>\n",
       "      <td>0</td>\n",
       "      <td>0</td>\n",
       "      <td>0</td>\n",
       "      <td>0</td>\n",
       "      <td>0</td>\n",
       "      <td>0</td>\n",
       "      <td>0</td>\n",
       "      <td>0</td>\n",
       "      <td>0</td>\n",
       "      <td>0</td>\n",
       "      <td>0</td>\n",
       "      <td>0</td>\n",
       "      <td>0</td>\n",
       "      <td>0</td>\n",
       "      <td>0</td>\n",
       "      <td>0</td>\n",
       "      <td>0</td>\n",
       "      <td>0</td>\n",
       "      <td>0</td>\n",
       "      <td>0</td>\n",
       "      <td>0</td>\n",
       "      <td>0</td>\n",
       "      <td>0</td>\n",
       "      <td>0</td>\n",
       "      <td>0</td>\n",
       "      <td>0</td>\n",
       "      <td>0</td>\n",
       "      <td>0</td>\n",
       "      <td>0</td>\n",
       "      <td>0</td>\n",
       "      <td>0</td>\n",
       "      <td>0</td>\n",
       "      <td>0</td>\n",
       "    </tr>\n",
       "    <tr>\n",
       "      <th>...</th>\n",
       "      <td>...</td>\n",
       "      <td>...</td>\n",
       "      <td>...</td>\n",
       "      <td>...</td>\n",
       "      <td>...</td>\n",
       "      <td>...</td>\n",
       "      <td>...</td>\n",
       "      <td>...</td>\n",
       "      <td>...</td>\n",
       "      <td>...</td>\n",
       "      <td>...</td>\n",
       "      <td>...</td>\n",
       "      <td>...</td>\n",
       "      <td>...</td>\n",
       "      <td>...</td>\n",
       "      <td>...</td>\n",
       "      <td>...</td>\n",
       "      <td>...</td>\n",
       "      <td>...</td>\n",
       "      <td>...</td>\n",
       "      <td>...</td>\n",
       "      <td>...</td>\n",
       "      <td>...</td>\n",
       "      <td>...</td>\n",
       "      <td>...</td>\n",
       "      <td>...</td>\n",
       "      <td>...</td>\n",
       "      <td>...</td>\n",
       "      <td>...</td>\n",
       "      <td>...</td>\n",
       "      <td>...</td>\n",
       "      <td>...</td>\n",
       "      <td>...</td>\n",
       "      <td>...</td>\n",
       "      <td>...</td>\n",
       "      <td>...</td>\n",
       "      <td>...</td>\n",
       "      <td>...</td>\n",
       "      <td>...</td>\n",
       "      <td>...</td>\n",
       "      <td>...</td>\n",
       "      <td>...</td>\n",
       "      <td>...</td>\n",
       "      <td>...</td>\n",
       "      <td>...</td>\n",
       "      <td>...</td>\n",
       "      <td>...</td>\n",
       "      <td>...</td>\n",
       "      <td>...</td>\n",
       "    </tr>\n",
       "    <tr>\n",
       "      <th>466276</th>\n",
       "      <td>0</td>\n",
       "      <td>0</td>\n",
       "      <td>0</td>\n",
       "      <td>0</td>\n",
       "      <td>0</td>\n",
       "      <td>0</td>\n",
       "      <td>0</td>\n",
       "      <td>0</td>\n",
       "      <td>0</td>\n",
       "      <td>0</td>\n",
       "      <td>0</td>\n",
       "      <td>0</td>\n",
       "      <td>0</td>\n",
       "      <td>0</td>\n",
       "      <td>0</td>\n",
       "      <td>0</td>\n",
       "      <td>0</td>\n",
       "      <td>0</td>\n",
       "      <td>1</td>\n",
       "      <td>0</td>\n",
       "      <td>0</td>\n",
       "      <td>0</td>\n",
       "      <td>0</td>\n",
       "      <td>0</td>\n",
       "      <td>0</td>\n",
       "      <td>0</td>\n",
       "      <td>0</td>\n",
       "      <td>0</td>\n",
       "      <td>0</td>\n",
       "      <td>0</td>\n",
       "      <td>0</td>\n",
       "      <td>0</td>\n",
       "      <td>0</td>\n",
       "      <td>0</td>\n",
       "      <td>0</td>\n",
       "      <td>0</td>\n",
       "      <td>0</td>\n",
       "      <td>0</td>\n",
       "      <td>0</td>\n",
       "      <td>0</td>\n",
       "      <td>0</td>\n",
       "      <td>0</td>\n",
       "      <td>0</td>\n",
       "      <td>0</td>\n",
       "      <td>0</td>\n",
       "      <td>0</td>\n",
       "      <td>0</td>\n",
       "      <td>0</td>\n",
       "      <td>0</td>\n",
       "    </tr>\n",
       "    <tr>\n",
       "      <th>466277</th>\n",
       "      <td>0</td>\n",
       "      <td>0</td>\n",
       "      <td>0</td>\n",
       "      <td>0</td>\n",
       "      <td>0</td>\n",
       "      <td>0</td>\n",
       "      <td>0</td>\n",
       "      <td>0</td>\n",
       "      <td>0</td>\n",
       "      <td>0</td>\n",
       "      <td>0</td>\n",
       "      <td>0</td>\n",
       "      <td>0</td>\n",
       "      <td>0</td>\n",
       "      <td>0</td>\n",
       "      <td>0</td>\n",
       "      <td>0</td>\n",
       "      <td>0</td>\n",
       "      <td>0</td>\n",
       "      <td>1</td>\n",
       "      <td>0</td>\n",
       "      <td>0</td>\n",
       "      <td>0</td>\n",
       "      <td>0</td>\n",
       "      <td>0</td>\n",
       "      <td>0</td>\n",
       "      <td>0</td>\n",
       "      <td>0</td>\n",
       "      <td>0</td>\n",
       "      <td>0</td>\n",
       "      <td>0</td>\n",
       "      <td>0</td>\n",
       "      <td>0</td>\n",
       "      <td>0</td>\n",
       "      <td>0</td>\n",
       "      <td>0</td>\n",
       "      <td>0</td>\n",
       "      <td>0</td>\n",
       "      <td>0</td>\n",
       "      <td>0</td>\n",
       "      <td>0</td>\n",
       "      <td>0</td>\n",
       "      <td>0</td>\n",
       "      <td>0</td>\n",
       "      <td>0</td>\n",
       "      <td>0</td>\n",
       "      <td>0</td>\n",
       "      <td>0</td>\n",
       "      <td>0</td>\n",
       "    </tr>\n",
       "    <tr>\n",
       "      <th>466278</th>\n",
       "      <td>0</td>\n",
       "      <td>0</td>\n",
       "      <td>0</td>\n",
       "      <td>0</td>\n",
       "      <td>0</td>\n",
       "      <td>0</td>\n",
       "      <td>0</td>\n",
       "      <td>0</td>\n",
       "      <td>0</td>\n",
       "      <td>0</td>\n",
       "      <td>0</td>\n",
       "      <td>0</td>\n",
       "      <td>0</td>\n",
       "      <td>0</td>\n",
       "      <td>0</td>\n",
       "      <td>0</td>\n",
       "      <td>0</td>\n",
       "      <td>0</td>\n",
       "      <td>0</td>\n",
       "      <td>0</td>\n",
       "      <td>0</td>\n",
       "      <td>0</td>\n",
       "      <td>0</td>\n",
       "      <td>0</td>\n",
       "      <td>0</td>\n",
       "      <td>0</td>\n",
       "      <td>0</td>\n",
       "      <td>0</td>\n",
       "      <td>0</td>\n",
       "      <td>0</td>\n",
       "      <td>0</td>\n",
       "      <td>0</td>\n",
       "      <td>0</td>\n",
       "      <td>0</td>\n",
       "      <td>0</td>\n",
       "      <td>0</td>\n",
       "      <td>0</td>\n",
       "      <td>0</td>\n",
       "      <td>0</td>\n",
       "      <td>0</td>\n",
       "      <td>0</td>\n",
       "      <td>0</td>\n",
       "      <td>0</td>\n",
       "      <td>1</td>\n",
       "      <td>0</td>\n",
       "      <td>0</td>\n",
       "      <td>0</td>\n",
       "      <td>0</td>\n",
       "      <td>0</td>\n",
       "    </tr>\n",
       "    <tr>\n",
       "      <th>466281</th>\n",
       "      <td>0</td>\n",
       "      <td>0</td>\n",
       "      <td>0</td>\n",
       "      <td>0</td>\n",
       "      <td>0</td>\n",
       "      <td>0</td>\n",
       "      <td>0</td>\n",
       "      <td>0</td>\n",
       "      <td>0</td>\n",
       "      <td>0</td>\n",
       "      <td>0</td>\n",
       "      <td>0</td>\n",
       "      <td>0</td>\n",
       "      <td>0</td>\n",
       "      <td>0</td>\n",
       "      <td>0</td>\n",
       "      <td>0</td>\n",
       "      <td>0</td>\n",
       "      <td>0</td>\n",
       "      <td>0</td>\n",
       "      <td>0</td>\n",
       "      <td>0</td>\n",
       "      <td>0</td>\n",
       "      <td>0</td>\n",
       "      <td>0</td>\n",
       "      <td>0</td>\n",
       "      <td>0</td>\n",
       "      <td>0</td>\n",
       "      <td>0</td>\n",
       "      <td>0</td>\n",
       "      <td>0</td>\n",
       "      <td>0</td>\n",
       "      <td>0</td>\n",
       "      <td>0</td>\n",
       "      <td>0</td>\n",
       "      <td>0</td>\n",
       "      <td>0</td>\n",
       "      <td>0</td>\n",
       "      <td>0</td>\n",
       "      <td>0</td>\n",
       "      <td>1</td>\n",
       "      <td>0</td>\n",
       "      <td>0</td>\n",
       "      <td>0</td>\n",
       "      <td>0</td>\n",
       "      <td>0</td>\n",
       "      <td>0</td>\n",
       "      <td>0</td>\n",
       "      <td>0</td>\n",
       "    </tr>\n",
       "    <tr>\n",
       "      <th>466283</th>\n",
       "      <td>0</td>\n",
       "      <td>0</td>\n",
       "      <td>0</td>\n",
       "      <td>1</td>\n",
       "      <td>0</td>\n",
       "      <td>0</td>\n",
       "      <td>0</td>\n",
       "      <td>0</td>\n",
       "      <td>0</td>\n",
       "      <td>0</td>\n",
       "      <td>0</td>\n",
       "      <td>0</td>\n",
       "      <td>0</td>\n",
       "      <td>0</td>\n",
       "      <td>0</td>\n",
       "      <td>0</td>\n",
       "      <td>0</td>\n",
       "      <td>0</td>\n",
       "      <td>0</td>\n",
       "      <td>0</td>\n",
       "      <td>0</td>\n",
       "      <td>0</td>\n",
       "      <td>0</td>\n",
       "      <td>0</td>\n",
       "      <td>0</td>\n",
       "      <td>0</td>\n",
       "      <td>0</td>\n",
       "      <td>0</td>\n",
       "      <td>0</td>\n",
       "      <td>0</td>\n",
       "      <td>0</td>\n",
       "      <td>0</td>\n",
       "      <td>0</td>\n",
       "      <td>0</td>\n",
       "      <td>0</td>\n",
       "      <td>0</td>\n",
       "      <td>0</td>\n",
       "      <td>0</td>\n",
       "      <td>0</td>\n",
       "      <td>0</td>\n",
       "      <td>0</td>\n",
       "      <td>0</td>\n",
       "      <td>0</td>\n",
       "      <td>0</td>\n",
       "      <td>0</td>\n",
       "      <td>0</td>\n",
       "      <td>0</td>\n",
       "      <td>0</td>\n",
       "      <td>0</td>\n",
       "    </tr>\n",
       "  </tbody>\n",
       "</table>\n",
       "<p>227214 rows × 49 columns</p>\n",
       "</div>"
      ],
      "text/plain": [
       "        AL  AR  AZ  CA  CO  CT  DC  DE  FL  GA  HI  IA  ID  IL  IN  KS  KY  \\\n",
       "0        0   0   1   0   0   0   0   0   0   0   0   0   0   0   0   0   0   \n",
       "1        0   0   0   0   0   0   0   0   0   1   0   0   0   0   0   0   0   \n",
       "2        0   0   0   0   0   0   0   0   0   0   0   0   0   1   0   0   0   \n",
       "3        0   0   0   1   0   0   0   0   0   0   0   0   0   0   0   0   0   \n",
       "5        0   0   1   0   0   0   0   0   0   0   0   0   0   0   0   0   0   \n",
       "...     ..  ..  ..  ..  ..  ..  ..  ..  ..  ..  ..  ..  ..  ..  ..  ..  ..   \n",
       "466276   0   0   0   0   0   0   0   0   0   0   0   0   0   0   0   0   0   \n",
       "466277   0   0   0   0   0   0   0   0   0   0   0   0   0   0   0   0   0   \n",
       "466278   0   0   0   0   0   0   0   0   0   0   0   0   0   0   0   0   0   \n",
       "466281   0   0   0   0   0   0   0   0   0   0   0   0   0   0   0   0   0   \n",
       "466283   0   0   0   1   0   0   0   0   0   0   0   0   0   0   0   0   0   \n",
       "\n",
       "        LA  MA  MD  ME  MI  MN  MO  MS  MT  NC  NE  NH  NJ  NM  NV  NY  OH  \\\n",
       "0        0   0   0   0   0   0   0   0   0   0   0   0   0   0   0   0   0   \n",
       "1        0   0   0   0   0   0   0   0   0   0   0   0   0   0   0   0   0   \n",
       "2        0   0   0   0   0   0   0   0   0   0   0   0   0   0   0   0   0   \n",
       "3        0   0   0   0   0   0   0   0   0   0   0   0   0   0   0   0   0   \n",
       "5        0   0   0   0   0   0   0   0   0   0   0   0   0   0   0   0   0   \n",
       "...     ..  ..  ..  ..  ..  ..  ..  ..  ..  ..  ..  ..  ..  ..  ..  ..  ..   \n",
       "466276   0   1   0   0   0   0   0   0   0   0   0   0   0   0   0   0   0   \n",
       "466277   0   0   1   0   0   0   0   0   0   0   0   0   0   0   0   0   0   \n",
       "466278   0   0   0   0   0   0   0   0   0   0   0   0   0   0   0   0   0   \n",
       "466281   0   0   0   0   0   0   0   0   0   0   0   0   0   0   0   0   0   \n",
       "466283   0   0   0   0   0   0   0   0   0   0   0   0   0   0   0   0   0   \n",
       "\n",
       "        OK  OR  PA  RI  SC  SD  TN  TX  UT  VA  VT  WA  WI  WV  WY  \n",
       "0        0   0   0   0   0   0   0   0   0   0   0   0   0   0   0  \n",
       "1        0   0   0   0   0   0   0   0   0   0   0   0   0   0   0  \n",
       "2        0   0   0   0   0   0   0   0   0   0   0   0   0   0   0  \n",
       "3        0   0   0   0   0   0   0   0   0   0   0   0   0   0   0  \n",
       "5        0   0   0   0   0   0   0   0   0   0   0   0   0   0   0  \n",
       "...     ..  ..  ..  ..  ..  ..  ..  ..  ..  ..  ..  ..  ..  ..  ..  \n",
       "466276   0   0   0   0   0   0   0   0   0   0   0   0   0   0   0  \n",
       "466277   0   0   0   0   0   0   0   0   0   0   0   0   0   0   0  \n",
       "466278   0   0   0   0   0   0   0   0   0   1   0   0   0   0   0  \n",
       "466281   0   0   0   0   0   0   1   0   0   0   0   0   0   0   0  \n",
       "466283   0   0   0   0   0   0   0   0   0   0   0   0   0   0   0  \n",
       "\n",
       "[227214 rows x 49 columns]"
      ]
     },
     "execution_count": 19,
     "metadata": {},
     "output_type": "execute_result"
    }
   ],
   "source": [
    "add_state_dummies = pd.get_dummies(df['addr_state'], drop_first=True) # drop_first will drop the first dummy column \n",
    "add_state_dummies"
   ]
  },
  {
   "cell_type": "code",
   "execution_count": 20,
   "id": "d739e190",
   "metadata": {},
   "outputs": [],
   "source": [
    "# Drop 'addr_state' feature and concat 'add_state_dummies' to df.\n",
    "df = pd.concat([df.drop('addr_state', axis=1), add_state_dummies], axis=1)"
   ]
  },
  {
   "cell_type": "markdown",
   "id": "629da4cf",
   "metadata": {},
   "source": [
    "<a id=\"4.2\"></a>\n",
    "## 4.2 annual_inc"
   ]
  },
  {
   "cell_type": "markdown",
   "id": "e0cea476",
   "metadata": {},
   "source": [
    "The self-reported annual income provided by the borrower during registration."
   ]
  },
  {
   "cell_type": "code",
   "execution_count": 21,
   "id": "9280bc8a",
   "metadata": {},
   "outputs": [
    {
     "data": {
      "text/plain": [
       "'No missing values'"
      ]
     },
     "execution_count": 21,
     "metadata": {},
     "output_type": "execute_result"
    }
   ],
   "source": [
    "# Check Null values\n",
    "if_null_values('annual_inc')"
   ]
  },
  {
   "cell_type": "code",
   "execution_count": 22,
   "id": "ff3291ee",
   "metadata": {
    "scrolled": true
   },
   "outputs": [
    {
     "data": {
      "text/plain": [
       "count    2.272140e+05\n",
       "mean     7.203479e+04\n",
       "std      5.529133e+04\n",
       "min      3.000000e+03\n",
       "25%      4.500000e+04\n",
       "50%      6.200000e+04\n",
       "75%      8.600000e+04\n",
       "max      7.141778e+06\n",
       "Name: annual_inc, dtype: float64"
      ]
     },
     "execution_count": 22,
     "metadata": {},
     "output_type": "execute_result"
    }
   ],
   "source": [
    "df['annual_inc'].describe()"
   ]
  },
  {
   "cell_type": "code",
   "execution_count": 23,
   "id": "9883ed32",
   "metadata": {
    "scrolled": false
   },
   "outputs": [
    {
     "data": {
      "text/plain": [
       "<AxesSubplot:ylabel='Density'>"
      ]
     },
     "execution_count": 23,
     "metadata": {},
     "output_type": "execute_result"
    },
    {
     "data": {
      "image/png": "[encoded data removed]",
      "text/plain": [
       "<Figure size 1560x650 with 1 Axes>"
      ]
     },
     "metadata": {
      "needs_background": "light"
     },
     "output_type": "display_data"
    }
   ],
   "source": [
    "# Plot the distribution of annual incomes\n",
    "plt.figure(figsize=(12,5), dpi=130)\n",
    "sns.distplot(x=df['annual_inc'], bins=100)"
   ]
  },
  {
   "cell_type": "markdown",
   "id": "9be9e23b",
   "metadata": {},
   "source": [
    "The salary distribution is highly skewed towards right.\n",
    "Let's find how many customers have annual_inc > $250000."
   ]
  },
  {
   "cell_type": "code",
   "execution_count": 24,
   "id": "4e098ef3",
   "metadata": {},
   "outputs": [
    {
     "data": {
      "text/plain": [
       "1564"
      ]
     },
     "execution_count": 24,
     "metadata": {},
     "output_type": "execute_result"
    }
   ],
   "source": [
    "# len annual_inc > $250.000\n",
    "len(df[df['annual_inc'] > 250000])"
   ]
  },
  {
   "cell_type": "code",
   "execution_count": 25,
   "id": "f7fe04fa",
   "metadata": {},
   "outputs": [
    {
     "data": {
      "text/plain": [
       "5.918209265274147"
      ]
     },
     "execution_count": 25,
     "metadata": {},
     "output_type": "execute_result"
    }
   ],
   "source": [
    "# find % of rows with annual income > $250000.\n",
    "percent_of_rows_of_customers_with_annual_inc_more_than_250000 = 13447*100/len(df) \n",
    "percent_of_rows_of_customers_with_annual_inc_more_than_250000"
   ]
  },
  {
   "cell_type": "markdown",
   "id": "e6333909",
   "metadata": {},
   "source": [
    "there are 1564 rows of customers with annual_inc > 250000, since these are outliers, let's drop these rows"
   ]
  },
  {
   "cell_type": "code",
   "execution_count": 26,
   "id": "eeddcbf2",
   "metadata": {},
   "outputs": [
    {
     "data": {
      "text/plain": [
       "225650"
      ]
     },
     "execution_count": 26,
     "metadata": {},
     "output_type": "execute_result"
    }
   ],
   "source": [
    "# Lets just add rows with annual_inc < $250000\n",
    "df = df[df['annual_inc'] <= 250000]\n",
    "len(df)"
   ]
  },
  {
   "cell_type": "markdown",
   "id": "9ba31722",
   "metadata": {},
   "source": [
    "We removed 1564 rows. we had 225650 rows now."
   ]
  },
  {
   "cell_type": "code",
   "execution_count": 27,
   "id": "b70b7f63",
   "metadata": {},
   "outputs": [
    {
     "data": {
      "image/png": "[encoded data removed]",
      "text/plain": [
       "<Figure size 1560x650 with 1 Axes>"
      ]
     },
     "metadata": {
      "needs_background": "light"
     },
     "output_type": "display_data"
    }
   ],
   "source": [
    "# Plot the new distribution of annual incomes\n",
    "plt.figure(figsize=(12,5), dpi=130)\n",
    "sns.distplot(x=df['annual_inc']);"
   ]
  },
  {
   "cell_type": "markdown",
   "id": "0f6a9810",
   "metadata": {},
   "source": [
    "It is still a bit skewed but exceedingly better than before.\n",
    "\n",
    "Lets check the distributions of annual income of customers who fully paid the loan whose loan was charged off."
   ]
  },
  {
   "cell_type": "code",
   "execution_count": 28,
   "id": "61ddbf19",
   "metadata": {},
   "outputs": [
    {
     "data": {
      "image/png": "[encoded data removed]",
      "text/plain": [
       "<Figure size 1176.38x360 with 1 Axes>"
      ]
     },
     "metadata": {
      "needs_background": "light"
     },
     "output_type": "display_data"
    }
   ],
   "source": [
    "sns.displot(data=df, x='annual_inc', hue='loan_status', bins=80, height=5, aspect=3, kde=True, palette='viridis');"
   ]
  },
  {
   "cell_type": "code",
   "execution_count": 29,
   "id": "fdf0b818",
   "metadata": {
    "scrolled": false
   },
   "outputs": [
    {
     "data": {
      "text/html": [
       "<div>\n",
       "<style scoped>\n",
       "    .dataframe tbody tr th:only-of-type {\n",
       "        vertical-align: middle;\n",
       "    }\n",
       "\n",
       "    .dataframe tbody tr th {\n",
       "        vertical-align: top;\n",
       "    }\n",
       "\n",
       "    .dataframe thead th {\n",
       "        text-align: right;\n",
       "    }\n",
       "</style>\n",
       "<table border=\"1\" class=\"dataframe\">\n",
       "  <thead>\n",
       "    <tr style=\"text-align: right;\">\n",
       "      <th></th>\n",
       "      <th>count</th>\n",
       "      <th>mean</th>\n",
       "      <th>std</th>\n",
       "      <th>min</th>\n",
       "      <th>25%</th>\n",
       "      <th>50%</th>\n",
       "      <th>75%</th>\n",
       "      <th>max</th>\n",
       "    </tr>\n",
       "    <tr>\n",
       "      <th>loan_status</th>\n",
       "      <th></th>\n",
       "      <th></th>\n",
       "      <th></th>\n",
       "      <th></th>\n",
       "      <th></th>\n",
       "      <th></th>\n",
       "      <th></th>\n",
       "      <th></th>\n",
       "    </tr>\n",
       "  </thead>\n",
       "  <tbody>\n",
       "    <tr>\n",
       "      <th>Charged Off</th>\n",
       "      <td>42290.0</td>\n",
       "      <td>63408.697602</td>\n",
       "      <td>33239.376907</td>\n",
       "      <td>4080.0</td>\n",
       "      <td>40000.0</td>\n",
       "      <td>56000.0</td>\n",
       "      <td>77600.0</td>\n",
       "      <td>250000.0</td>\n",
       "    </tr>\n",
       "    <tr>\n",
       "      <th>Fully Paid</th>\n",
       "      <td>183360.0</td>\n",
       "      <td>71158.016744</td>\n",
       "      <td>36686.008953</td>\n",
       "      <td>3000.0</td>\n",
       "      <td>45000.0</td>\n",
       "      <td>63000.0</td>\n",
       "      <td>88000.0</td>\n",
       "      <td>250000.0</td>\n",
       "    </tr>\n",
       "  </tbody>\n",
       "</table>\n",
       "</div>"
      ],
      "text/plain": [
       "                count          mean           std     min      25%      50%  \\\n",
       "loan_status                                                                   \n",
       "Charged Off   42290.0  63408.697602  33239.376907  4080.0  40000.0  56000.0   \n",
       "Fully Paid   183360.0  71158.016744  36686.008953  3000.0  45000.0  63000.0   \n",
       "\n",
       "                 75%       max  \n",
       "loan_status                     \n",
       "Charged Off  77600.0  250000.0  \n",
       "Fully Paid   88000.0  250000.0  "
      ]
     },
     "execution_count": 29,
     "metadata": {},
     "output_type": "execute_result"
    }
   ],
   "source": [
    "df.groupby('loan_status')['annual_inc'].describe()"
   ]
  },
  {
   "cell_type": "markdown",
   "id": "ef853a85",
   "metadata": {},
   "source": [
    "The mean annual_inc for customers who fully paid the loan and who did not differs by around $5000."
   ]
  },
  {
   "cell_type": "markdown",
   "id": "0bd495b6",
   "metadata": {},
   "source": [
    "<a id=\"4.3\"></a>\n",
    "## 4.3 earliest_cr_line"
   ]
  },
  {
   "cell_type": "markdown",
   "id": "652a2646",
   "metadata": {},
   "source": [
    "the month the borrower's earliest reported credit line was opened"
   ]
  },
  {
   "cell_type": "code",
   "execution_count": 30,
   "id": "420d3ba8",
   "metadata": {},
   "outputs": [
    {
     "data": {
      "text/plain": [
       "'No missing values'"
      ]
     },
     "execution_count": 30,
     "metadata": {},
     "output_type": "execute_result"
    }
   ],
   "source": [
    "if_null_values('earliest_cr_line')"
   ]
  },
  {
   "cell_type": "code",
   "execution_count": 31,
   "id": "be9a1029",
   "metadata": {
    "scrolled": true
   },
   "outputs": [
    {
     "data": {
      "text/plain": [
       "0    Jan-85\n",
       "1    Apr-99\n",
       "2    Nov-01\n",
       "3    Feb-96\n",
       "5    Nov-04\n",
       "Name: earliest_cr_line, dtype: object"
      ]
     },
     "execution_count": 31,
     "metadata": {},
     "output_type": "execute_result"
    }
   ],
   "source": [
    "df['earliest_cr_line'].head()"
   ]
  },
  {
   "cell_type": "code",
   "execution_count": 32,
   "id": "f39beabe",
   "metadata": {},
   "outputs": [
    {
     "data": {
      "image/png": "[encoded data removed]",
      "text/plain": [
       "<Figure size 960.375x288 with 1 Axes>"
      ]
     },
     "metadata": {
      "needs_background": "light"
     },
     "output_type": "display_data"
    }
   ],
   "source": [
    "sns.displot(data=df, x='earliest_cr_line', hue='loan_status', bins=100, height=4, aspect=3, kde=True, palette='viridis');"
   ]
  },
  {
   "cell_type": "code",
   "execution_count": 33,
   "id": "7a567f56",
   "metadata": {
    "scrolled": true
   },
   "outputs": [
    {
     "data": {
      "text/html": [
       "<div>\n",
       "<style scoped>\n",
       "    .dataframe tbody tr th:only-of-type {\n",
       "        vertical-align: middle;\n",
       "    }\n",
       "\n",
       "    .dataframe tbody tr th {\n",
       "        vertical-align: top;\n",
       "    }\n",
       "\n",
       "    .dataframe thead th {\n",
       "        text-align: right;\n",
       "    }\n",
       "</style>\n",
       "<table border=\"1\" class=\"dataframe\">\n",
       "  <thead>\n",
       "    <tr style=\"text-align: right;\">\n",
       "      <th></th>\n",
       "      <th>count</th>\n",
       "      <th>unique</th>\n",
       "      <th>top</th>\n",
       "      <th>freq</th>\n",
       "    </tr>\n",
       "    <tr>\n",
       "      <th>loan_status</th>\n",
       "      <th></th>\n",
       "      <th></th>\n",
       "      <th></th>\n",
       "      <th></th>\n",
       "    </tr>\n",
       "  </thead>\n",
       "  <tbody>\n",
       "    <tr>\n",
       "      <th>Charged Off</th>\n",
       "      <td>42290</td>\n",
       "      <td>577</td>\n",
       "      <td>Oct-00</td>\n",
       "      <td>351</td>\n",
       "    </tr>\n",
       "    <tr>\n",
       "      <th>Fully Paid</th>\n",
       "      <td>183360</td>\n",
       "      <td>620</td>\n",
       "      <td>Oct-00</td>\n",
       "      <td>1580</td>\n",
       "    </tr>\n",
       "  </tbody>\n",
       "</table>\n",
       "</div>"
      ],
      "text/plain": [
       "              count unique     top  freq\n",
       "loan_status                             \n",
       "Charged Off   42290    577  Oct-00   351\n",
       "Fully Paid   183360    620  Oct-00  1580"
      ]
     },
     "execution_count": 33,
     "metadata": {},
     "output_type": "execute_result"
    }
   ],
   "source": [
    "df.groupby('loan_status')['earliest_cr_line'].describe()"
   ]
  },
  {
   "cell_type": "code",
   "execution_count": 34,
   "id": "d518e892",
   "metadata": {},
   "outputs": [],
   "source": [
    "df = df.drop('earliest_cr_line', axis=1)"
   ]
  },
  {
   "cell_type": "markdown",
   "id": "2a8d7c17",
   "metadata": {},
   "source": [
    "<a id=\"4.4\"></a>\n",
    "## 4.4 emp_length"
   ]
  },
  {
   "cell_type": "markdown",
   "id": "76e5f5d4",
   "metadata": {},
   "source": [
    "Employment length in years. Possible values are between 0 and 10 where 0 means less than one year and 10 means ten or more years."
   ]
  },
  {
   "cell_type": "code",
   "execution_count": 35,
   "id": "a453c88e",
   "metadata": {},
   "outputs": [
    {
     "data": {
      "text/plain": [
       "'% of missing values = 3.82'"
      ]
     },
     "execution_count": 35,
     "metadata": {},
     "output_type": "execute_result"
    }
   ],
   "source": [
    "if_null_values('emp_length')"
   ]
  },
  {
   "cell_type": "code",
   "execution_count": 36,
   "id": "0110ce0a",
   "metadata": {},
   "outputs": [
    {
     "data": {
      "text/plain": [
       "0    10+ years\n",
       "1     < 1 year\n",
       "2    10+ years\n",
       "3    10+ years\n",
       "5      3 years\n",
       "Name: emp_length, dtype: object"
      ]
     },
     "execution_count": 36,
     "metadata": {},
     "output_type": "execute_result"
    }
   ],
   "source": [
    "df['emp_length'].head()"
   ]
  },
  {
   "cell_type": "code",
   "execution_count": 37,
   "id": "22e85f4d",
   "metadata": {},
   "outputs": [],
   "source": [
    "# make length order \n",
    "emp_length_order = [ '< 1 year', '1 year', '2 years', '3 years', '4 years', \n",
    "                    '5 years', '6 years', '7 years', '8 years', '9 years', '10+ years']"
   ]
  },
  {
   "cell_type": "code",
   "execution_count": 38,
   "id": "175ed6ff",
   "metadata": {},
   "outputs": [
    {
     "data": {
      "text/plain": [
       "<AxesSubplot:xlabel='emp_length', ylabel='count'>"
      ]
     },
     "execution_count": 38,
     "metadata": {},
     "output_type": "execute_result"
    },
    {
     "data": {
      "image/png": "[encoded data removed]",
      "text/plain": [
       "<Figure size 864x288 with 1 Axes>"
      ]
     },
     "metadata": {
      "needs_background": "light"
     },
     "output_type": "display_data"
    }
   ],
   "source": [
    "plt.figure(figsize=(12,4))\n",
    "sns.countplot(x='emp_length',data=df,order=emp_length_order, palette='viridis')"
   ]
  },
  {
   "cell_type": "code",
   "execution_count": 39,
   "id": "89408b2c",
   "metadata": {},
   "outputs": [
    {
     "data": {
      "text/plain": [
       "<AxesSubplot:xlabel='emp_length', ylabel='count'>"
      ]
     },
     "execution_count": 39,
     "metadata": {},
     "output_type": "execute_result"
    },
    {
     "data": {
      "image/png": "[encoded data removed]",
      "text/plain": [
       "<Figure size 1008x432 with 1 Axes>"
      ]
     },
     "metadata": {
      "needs_background": "light"
     },
     "output_type": "display_data"
    }
   ],
   "source": [
    "plt.figure(figsize=(14,6))\n",
    "sns.countplot(x='emp_length',data=df,order=emp_length_order,hue='loan_status', palette='viridis')"
   ]
  },
  {
   "cell_type": "markdown",
   "id": "00fa9c66",
   "metadata": {},
   "source": [
    "This is still not indicating if there's any relationship between emp_length and being charged off."
   ]
  },
  {
   "cell_type": "code",
   "execution_count": 40,
   "id": "f70a7760",
   "metadata": {},
   "outputs": [
    {
     "data": {
      "text/plain": [
       "emp_length\n",
       "1 year       18.014071\n",
       "10+ years    18.226397\n",
       "2 years      17.922829\n",
       "3 years      18.135083\n",
       "4 years      17.649075\n",
       "5 years      18.317462\n",
       "6 years      18.917526\n",
       "7 years      19.204315\n",
       "8 years      19.365019\n",
       "9 years      19.481595\n",
       "< 1 year     19.076165\n",
       "Name: loan_status, dtype: float64"
      ]
     },
     "execution_count": 40,
     "metadata": {},
     "output_type": "execute_result"
    }
   ],
   "source": [
    "# find % of charged off customers per year\n",
    "emp_charged_off = df[df['loan_status']==\"Charged Off\"].groupby(\"emp_length\").count()['loan_status']\n",
    "emp_fully_paid = df[df['loan_status']==\"Fully Paid\"].groupby(\"emp_length\").count()['loan_status']\n",
    "percentage_charged_off = (emp_charged_off * 100)/(emp_charged_off + emp_fully_paid)\n",
    "percentage_charged_off"
   ]
  },
  {
   "cell_type": "code",
   "execution_count": 41,
   "id": "0fac7f18",
   "metadata": {},
   "outputs": [
    {
     "data": {
      "text/plain": [
       "<AxesSubplot:xlabel='emp_length'>"
      ]
     },
     "execution_count": 41,
     "metadata": {},
     "output_type": "execute_result"
    },
    {
     "data": {
      "image/png": "[encoded data removed]",
      "text/plain": [
       "<Figure size 1560x520 with 1 Axes>"
      ]
     },
     "metadata": {
      "needs_background": "light"
     },
     "output_type": "display_data"
    }
   ],
   "source": [
    "plt.figure(figsize=(12,4), dpi=130)\n",
    "percentage_charged_off.plot(kind='bar', cmap='viridis')"
   ]
  },
  {
   "cell_type": "markdown",
   "id": "ffb9d1d1",
   "metadata": {},
   "source": [
    "There is not much differnce. This feature won't make much differnece in our training and predictions. Hence, its better to drop this feature."
   ]
  },
  {
   "cell_type": "code",
   "execution_count": 42,
   "id": "5aa244d2",
   "metadata": {},
   "outputs": [],
   "source": [
    "df = df.drop('emp_length', axis=1)"
   ]
  },
  {
   "cell_type": "markdown",
   "id": "530aa739",
   "metadata": {},
   "source": [
    "<a id=\"4.5\"></a>\n",
    "## 4.5 emp_title"
   ]
  },
  {
   "cell_type": "markdown",
   "id": "955b7a0d",
   "metadata": {},
   "source": [
    "The job title supplied by the Borrower when applying for the loan."
   ]
  },
  {
   "cell_type": "code",
   "execution_count": 43,
   "id": "07d4475b",
   "metadata": {},
   "outputs": [
    {
     "data": {
      "text/plain": [
       "'% of missing values = 5.59'"
      ]
     },
     "execution_count": 43,
     "metadata": {},
     "output_type": "execute_result"
    }
   ],
   "source": [
    "if_null_values('emp_title')"
   ]
  },
  {
   "cell_type": "code",
   "execution_count": 44,
   "id": "3f378b86",
   "metadata": {},
   "outputs": [
    {
     "data": {
      "text/plain": [
       "count      213065\n",
       "unique     124330\n",
       "top       Teacher\n",
       "freq         1527\n",
       "Name: emp_title, dtype: object"
      ]
     },
     "execution_count": 44,
     "metadata": {},
     "output_type": "execute_result"
    }
   ],
   "source": [
    "df['emp_title'].describe()"
   ]
  },
  {
   "cell_type": "markdown",
   "id": "915107a8",
   "metadata": {},
   "source": [
    "There are 124330  unique values, way too many to create dummies. Hence, it is wise to drop this feature"
   ]
  },
  {
   "cell_type": "code",
   "execution_count": 45,
   "id": "9208115b",
   "metadata": {},
   "outputs": [],
   "source": [
    "df = df.drop('emp_title', axis=1)"
   ]
  },
  {
   "cell_type": "markdown",
   "id": "3b1be040",
   "metadata": {},
   "source": [
    "<a id=\"4.6\"></a>\n",
    "## 4.6 grade and sub_grade"
   ]
  },
  {
   "cell_type": "markdown",
   "id": "5e0d1a19",
   "metadata": {},
   "source": [
    "LC assigned loan grade and sub grade."
   ]
  },
  {
   "cell_type": "code",
   "execution_count": 46,
   "id": "1f3113fd",
   "metadata": {},
   "outputs": [
    {
     "data": {
      "text/plain": [
       "['A', 'B', 'C', 'D', 'E', 'F', 'G']"
      ]
     },
     "execution_count": 46,
     "metadata": {},
     "output_type": "execute_result"
    }
   ],
   "source": [
    "sorted(df['grade'].unique())"
   ]
  },
  {
   "cell_type": "markdown",
   "id": "4dbd54a9",
   "metadata": {},
   "source": [
    "Check number of cutomers separated by grade and based on their loan_status."
   ]
  },
  {
   "cell_type": "code",
   "execution_count": 47,
   "id": "5b6e2d04",
   "metadata": {},
   "outputs": [
    {
     "data": {
      "image/png": "[encoded data removed]",
      "text/plain": [
       "<Figure size 864x288 with 1 Axes>"
      ]
     },
     "metadata": {
      "needs_background": "light"
     },
     "output_type": "display_data"
    }
   ],
   "source": [
    "plt.figure(figsize=(12,4))\n",
    "sns.countplot(x='grade',data=df,hue='loan_status', order=sorted(df['grade'].unique()), palette='viridis');"
   ]
  },
  {
   "cell_type": "markdown",
   "id": "79e79ef3",
   "metadata": {},
   "source": [
    "Check number of customers in each sub_grade."
   ]
  },
  {
   "cell_type": "code",
   "execution_count": 48,
   "id": "86adb533",
   "metadata": {},
   "outputs": [
    {
     "data": {
      "text/plain": [
       "<AxesSubplot:xlabel='sub_grade', ylabel='count'>"
      ]
     },
     "execution_count": 48,
     "metadata": {},
     "output_type": "execute_result"
    },
    {
     "data": {
      "image/png": "[encoded data removed]",
      "text/plain": [
       "<Figure size 1152x288 with 1 Axes>"
      ]
     },
     "metadata": {
      "needs_background": "light"
     },
     "output_type": "display_data"
    }
   ],
   "source": [
    "plt.figure(figsize=(16,4))\n",
    "subgrade_order = sorted(df['sub_grade'].unique())\n",
    "sns.countplot(x='sub_grade',data=df,order = subgrade_order,palette='viridis')"
   ]
  },
  {
   "cell_type": "markdown",
   "id": "3aae08e5",
   "metadata": {},
   "source": [
    "Check number of customers in each sub_grade separated by loan_status"
   ]
  },
  {
   "cell_type": "code",
   "execution_count": 49,
   "id": "fd6ffbfa",
   "metadata": {},
   "outputs": [
    {
     "data": {
      "text/plain": [
       "<AxesSubplot:xlabel='sub_grade', ylabel='count'>"
      ]
     },
     "execution_count": 49,
     "metadata": {},
     "output_type": "execute_result"
    },
    {
     "data": {
      "image/png": "[encoded data removed]",
      "text/plain": [
       "<Figure size 1152x288 with 1 Axes>"
      ]
     },
     "metadata": {
      "needs_background": "light"
     },
     "output_type": "display_data"
    }
   ],
   "source": [
    "plt.figure(figsize=(16,4))\n",
    "subgrade_order = sorted(df['sub_grade'].unique())\n",
    "sns.countplot(x='sub_grade',data=df,order = subgrade_order,palette='viridis' ,hue='loan_status')"
   ]
  },
  {
   "cell_type": "markdown",
   "id": "b596940b",
   "metadata": {},
   "source": [
    "Customers who don't pay back loan have higher grade.\n",
    "Information of 'grade' is already embedded in 'sub_grade'.\n",
    "Let's drop 'grade' feature."
   ]
  },
  {
   "cell_type": "code",
   "execution_count": 50,
   "id": "e4e77e2f",
   "metadata": {},
   "outputs": [],
   "source": [
    "df = df.drop('grade', axis=1)"
   ]
  },
  {
   "cell_type": "markdown",
   "id": "e0f7c1ea",
   "metadata": {},
   "source": [
    "As sub_grade is categorical, lets create dummies for the same."
   ]
  },
  {
   "cell_type": "code",
   "execution_count": 51,
   "id": "b290911a",
   "metadata": {},
   "outputs": [],
   "source": [
    "dummies_sub_grade = pd.get_dummies(df['sub_grade'], drop_first=True)"
   ]
  },
  {
   "cell_type": "markdown",
   "id": "ed5dde84",
   "metadata": {},
   "source": [
    "Concat the 'dummies_sub_grade' after dropping the original feature 'sub_grade'."
   ]
  },
  {
   "cell_type": "code",
   "execution_count": 52,
   "id": "f420d805",
   "metadata": {},
   "outputs": [],
   "source": [
    "df = pd.concat([df.drop('sub_grade', axis=1), dummies_sub_grade], axis=1)"
   ]
  },
  {
   "cell_type": "markdown",
   "id": "f21eef5d",
   "metadata": {},
   "source": [
    "<a id=\"4.7\"></a>\n",
    "## 4.7 home_ownership"
   ]
  },
  {
   "cell_type": "markdown",
   "id": "023b6d7d",
   "metadata": {},
   "source": [
    "The home ownership status provided by the borrower during registration or obtained from the credit report. Our values are: RENT, OWN, MORTGAGE, OTHER."
   ]
  },
  {
   "cell_type": "code",
   "execution_count": 53,
   "id": "6b95028d",
   "metadata": {},
   "outputs": [
    {
     "data": {
      "text/plain": [
       "'No missing values'"
      ]
     },
     "execution_count": 53,
     "metadata": {},
     "output_type": "execute_result"
    }
   ],
   "source": [
    "if_null_values('home_ownership')"
   ]
  },
  {
   "cell_type": "code",
   "execution_count": 54,
   "id": "3c94e576",
   "metadata": {
    "scrolled": true
   },
   "outputs": [
    {
     "data": {
      "text/plain": [
       "MORTGAGE    110942\n",
       "RENT         95583\n",
       "OWN          18941\n",
       "OTHER          140\n",
       "NONE            43\n",
       "ANY              1\n",
       "Name: home_ownership, dtype: int64"
      ]
     },
     "execution_count": 54,
     "metadata": {},
     "output_type": "execute_result"
    }
   ],
   "source": [
    "df['home_ownership'].value_counts()"
   ]
  },
  {
   "cell_type": "markdown",
   "id": "e2a325ad",
   "metadata": {},
   "source": [
    "Let's merge 'ANY' and 'NONE' into 'OTHER'"
   ]
  },
  {
   "cell_type": "code",
   "execution_count": 55,
   "id": "3cab3ea2",
   "metadata": {},
   "outputs": [],
   "source": [
    "df['home_ownership'] = df['home_ownership'].replace(['NONE', 'ANY'], 'OTHER')"
   ]
  },
  {
   "cell_type": "code",
   "execution_count": 56,
   "id": "73c1b3e7",
   "metadata": {},
   "outputs": [
    {
     "data": {
      "text/plain": [
       "<AxesSubplot:xlabel='home_ownership', ylabel='count'>"
      ]
     },
     "execution_count": 56,
     "metadata": {},
     "output_type": "execute_result"
    },
    {
     "data": {
      "image/png": "[encoded data removed]",
      "text/plain": [
       "<Figure size 864x288 with 1 Axes>"
      ]
     },
     "metadata": {
      "needs_background": "light"
     },
     "output_type": "display_data"
    }
   ],
   "source": [
    "plt.figure(figsize=(12,4))\n",
    "sns.countplot(x='home_ownership',data=df,hue='loan_status', palette='viridis')"
   ]
  },
  {
   "cell_type": "code",
   "execution_count": 57,
   "id": "74d14562",
   "metadata": {},
   "outputs": [
    {
     "data": {
      "text/plain": [
       "MORTGAGE    110942\n",
       "RENT         95583\n",
       "OWN          18941\n",
       "OTHER          184\n",
       "Name: home_ownership, dtype: int64"
      ]
     },
     "execution_count": 57,
     "metadata": {},
     "output_type": "execute_result"
    }
   ],
   "source": [
    "df['home_ownership'].value_counts()"
   ]
  },
  {
   "cell_type": "markdown",
   "id": "4e48b253",
   "metadata": {},
   "source": [
    "Percentage charged off per home_ownership category."
   ]
  },
  {
   "cell_type": "code",
   "execution_count": 58,
   "id": "40c33718",
   "metadata": {},
   "outputs": [
    {
     "data": {
      "image/png": "[encoded data removed]",
      "text/plain": [
       "<Figure size 432x288 with 1 Axes>"
      ]
     },
     "metadata": {
      "needs_background": "light"
     },
     "output_type": "display_data"
    }
   ],
   "source": [
    "charged_off = df[df['loan_status']==\"Charged Off\"].groupby(\"home_ownership\").count()['loan_status']\n",
    "fully_paid = df[df['loan_status']==\"Fully Paid\"].groupby(\"home_ownership\").count()['loan_status']\n",
    "percentage_charged_off = (charged_off * 100)/(charged_off + fully_paid)\n",
    "percentage_charged_off.plot(kind='bar', cmap='viridis')\n",
    "plt.title(\"Percentage charged off per home_ownership category\");"
   ]
  },
  {
   "cell_type": "markdown",
   "id": "5d1496f5",
   "metadata": {},
   "source": [
    "Visible differences between different categories of home_ownership.\n",
    "\n",
    "Since there are only 4 categories in home_ownership column, we will convert it into dummies."
   ]
  },
  {
   "cell_type": "code",
   "execution_count": 59,
   "id": "f418e26c",
   "metadata": {},
   "outputs": [],
   "source": [
    "dummies_home_ownership = pd.get_dummies(df['home_ownership'], drop_first=True)"
   ]
  },
  {
   "cell_type": "markdown",
   "id": "cb25e910",
   "metadata": {},
   "source": [
    "Concat the 'dummies_home_ownership' after dropping the original feature 'home_ownership'"
   ]
  },
  {
   "cell_type": "code",
   "execution_count": 60,
   "id": "4aab5838",
   "metadata": {},
   "outputs": [
    {
     "data": {
      "text/plain": [
       "(225650, 102)"
      ]
     },
     "execution_count": 60,
     "metadata": {},
     "output_type": "execute_result"
    }
   ],
   "source": [
    "df = pd.concat([df.drop('home_ownership', axis=1), dummies_home_ownership], axis=1)\n",
    "df.shape"
   ]
  },
  {
   "cell_type": "markdown",
   "id": "1171beb8",
   "metadata": {},
   "source": [
    "<a id=\"4.8\"></a>\n",
    "## 4.8 application_type"
   ]
  },
  {
   "cell_type": "markdown",
   "id": "ebe5da8b",
   "metadata": {},
   "source": [
    "Indicates whether the loan is an individual application or a joint application with two co-borrowers."
   ]
  },
  {
   "cell_type": "code",
   "execution_count": 61,
   "id": "555ca681",
   "metadata": {},
   "outputs": [
    {
     "data": {
      "text/plain": [
       "'No missing values'"
      ]
     },
     "execution_count": 61,
     "metadata": {},
     "output_type": "execute_result"
    }
   ],
   "source": [
    "if_null_values('application_type')"
   ]
  },
  {
   "cell_type": "code",
   "execution_count": 62,
   "id": "90c0071d",
   "metadata": {},
   "outputs": [
    {
     "data": {
      "text/plain": [
       "INDIVIDUAL    225650\n",
       "Name: application_type, dtype: int64"
      ]
     },
     "execution_count": 62,
     "metadata": {},
     "output_type": "execute_result"
    }
   ],
   "source": [
    "df['application_type'].value_counts()"
   ]
  },
  {
   "cell_type": "code",
   "execution_count": 63,
   "id": "32c2ea54",
   "metadata": {},
   "outputs": [
    {
     "data": {
      "image/png": "[encoded data removed]",
      "text/plain": [
       "<Figure size 864x504 with 1 Axes>"
      ]
     },
     "metadata": {
      "needs_background": "light"
     },
     "output_type": "display_data"
    }
   ],
   "source": [
    "plt.figure(figsize=(12,7))\n",
    "sns.countplot(x='application_type',data=df,hue='loan_status', palette='viridis');"
   ]
  },
  {
   "cell_type": "code",
   "execution_count": 64,
   "id": "78796130",
   "metadata": {},
   "outputs": [],
   "source": [
    "dummies_application_type = pd.get_dummies(df['application_type'], drop_first=True)\n",
    "df = pd.concat([df.drop('application_type', axis=1), dummies_application_type], axis=1)"
   ]
  },
  {
   "cell_type": "code",
   "execution_count": 65,
   "id": "f5c37a6b",
   "metadata": {},
   "outputs": [
    {
     "data": {
      "text/plain": [
       "(225650, 101)"
      ]
     },
     "execution_count": 65,
     "metadata": {},
     "output_type": "execute_result"
    }
   ],
   "source": [
    "df.shape"
   ]
  },
  {
   "cell_type": "markdown",
   "id": "50649d41",
   "metadata": {},
   "source": [
    "<a id=\"4.9\"></a>\n",
    "## 4.9 initial_list_status"
   ]
  },
  {
   "cell_type": "markdown",
   "id": "36352325",
   "metadata": {},
   "source": [
    "The initial listing status of the loan. Possible values are – W, F."
   ]
  },
  {
   "cell_type": "code",
   "execution_count": 66,
   "id": "47480f7e",
   "metadata": {},
   "outputs": [
    {
     "data": {
      "text/plain": [
       "'No missing values'"
      ]
     },
     "execution_count": 66,
     "metadata": {},
     "output_type": "execute_result"
    }
   ],
   "source": [
    "if_null_values('initial_list_status')"
   ]
  },
  {
   "cell_type": "code",
   "execution_count": 67,
   "id": "e75fb2cf",
   "metadata": {},
   "outputs": [
    {
     "data": {
      "text/plain": [
       "f    168750\n",
       "w     56900\n",
       "Name: initial_list_status, dtype: int64"
      ]
     },
     "execution_count": 67,
     "metadata": {},
     "output_type": "execute_result"
    }
   ],
   "source": [
    "df['initial_list_status'].value_counts()"
   ]
  },
  {
   "cell_type": "markdown",
   "id": "d43dc10f",
   "metadata": {},
   "source": [
    "Let's plot 'initial_list_status' for the two 'loan_status'."
   ]
  },
  {
   "cell_type": "code",
   "execution_count": 68,
   "id": "33c4f1ad",
   "metadata": {},
   "outputs": [
    {
     "data": {
      "image/png": "[encoded data removed]",
      "text/plain": [
       "<Figure size 864x504 with 1 Axes>"
      ]
     },
     "metadata": {
      "needs_background": "light"
     },
     "output_type": "display_data"
    }
   ],
   "source": [
    "plt.figure(figsize=(12,7))\n",
    "sns.countplot(x='initial_list_status',data=df,hue='loan_status', palette='viridis');"
   ]
  },
  {
   "cell_type": "markdown",
   "id": "917c96ab",
   "metadata": {},
   "source": [
    "Percentage charged off per initial_list_status category."
   ]
  },
  {
   "cell_type": "code",
   "execution_count": 69,
   "id": "8f62bbfe",
   "metadata": {},
   "outputs": [
    {
     "data": {
      "image/png": "[encoded data removed]",
      "text/plain": [
       "<Figure size 432x288 with 1 Axes>"
      ]
     },
     "metadata": {
      "needs_background": "light"
     },
     "output_type": "display_data"
    }
   ],
   "source": [
    "charged_off = df[df['loan_status']==\"Charged Off\"].groupby(\"initial_list_status\").count()['loan_status']\n",
    "fully_paid = df[df['loan_status']==\"Fully Paid\"].groupby(\"initial_list_status\").count()['loan_status']\n",
    "percentage_charged_off = (charged_off * 100)/(charged_off + fully_paid)\n",
    "percentage_charged_off.plot(kind='bar', cmap='viridis')\n",
    "plt.title(\"Percentage charged off per initial_list_status category\");"
   ]
  },
  {
   "cell_type": "markdown",
   "id": "403a38ba",
   "metadata": {},
   "source": [
    "Percentage charged off is almost same. Let's drop this feature."
   ]
  },
  {
   "cell_type": "code",
   "execution_count": 70,
   "id": "c8e3016f",
   "metadata": {},
   "outputs": [],
   "source": [
    "df = df.drop('initial_list_status', axis=1)"
   ]
  },
  {
   "cell_type": "markdown",
   "id": "d1df0758",
   "metadata": {},
   "source": [
    "<a id=\"4.10\"></a>\n",
    "## 4.10 int_rate"
   ]
  },
  {
   "cell_type": "markdown",
   "id": "8431536c",
   "metadata": {},
   "source": [
    "Interest Rate on the loan."
   ]
  },
  {
   "cell_type": "code",
   "execution_count": 71,
   "id": "be459c31",
   "metadata": {},
   "outputs": [
    {
     "data": {
      "text/plain": [
       "'No missing values'"
      ]
     },
     "execution_count": 71,
     "metadata": {},
     "output_type": "execute_result"
    }
   ],
   "source": [
    "if_null_values('int_rate')"
   ]
  },
  {
   "cell_type": "code",
   "execution_count": 72,
   "id": "bc0db980",
   "metadata": {},
   "outputs": [
    {
     "data": {
      "text/plain": [
       "count    225650.000000\n",
       "mean         13.768218\n",
       "std           4.380608\n",
       "min           5.420000\n",
       "25%          10.740000\n",
       "50%          13.610000\n",
       "75%          16.400000\n",
       "max          26.060000\n",
       "Name: int_rate, dtype: float64"
      ]
     },
     "execution_count": 72,
     "metadata": {},
     "output_type": "execute_result"
    }
   ],
   "source": [
    "df['int_rate'].describe()"
   ]
  },
  {
   "cell_type": "code",
   "execution_count": 73,
   "id": "cabd758f",
   "metadata": {},
   "outputs": [
    {
     "data": {
      "text/html": [
       "<div>\n",
       "<style scoped>\n",
       "    .dataframe tbody tr th:only-of-type {\n",
       "        vertical-align: middle;\n",
       "    }\n",
       "\n",
       "    .dataframe tbody tr th {\n",
       "        vertical-align: top;\n",
       "    }\n",
       "\n",
       "    .dataframe thead th {\n",
       "        text-align: right;\n",
       "    }\n",
       "</style>\n",
       "<table border=\"1\" class=\"dataframe\">\n",
       "  <thead>\n",
       "    <tr style=\"text-align: right;\">\n",
       "      <th></th>\n",
       "      <th>count</th>\n",
       "      <th>mean</th>\n",
       "      <th>std</th>\n",
       "      <th>min</th>\n",
       "      <th>25%</th>\n",
       "      <th>50%</th>\n",
       "      <th>75%</th>\n",
       "      <th>max</th>\n",
       "    </tr>\n",
       "    <tr>\n",
       "      <th>loan_status</th>\n",
       "      <th></th>\n",
       "      <th></th>\n",
       "      <th></th>\n",
       "      <th></th>\n",
       "      <th></th>\n",
       "      <th></th>\n",
       "      <th></th>\n",
       "      <th></th>\n",
       "    </tr>\n",
       "  </thead>\n",
       "  <tbody>\n",
       "    <tr>\n",
       "      <th>Charged Off</th>\n",
       "      <td>42290.0</td>\n",
       "      <td>15.996389</td>\n",
       "      <td>4.289826</td>\n",
       "      <td>5.42</td>\n",
       "      <td>13.06</td>\n",
       "      <td>15.80</td>\n",
       "      <td>18.92</td>\n",
       "      <td>26.06</td>\n",
       "    </tr>\n",
       "    <tr>\n",
       "      <th>Fully Paid</th>\n",
       "      <td>183360.0</td>\n",
       "      <td>13.254314</td>\n",
       "      <td>4.238183</td>\n",
       "      <td>5.42</td>\n",
       "      <td>10.16</td>\n",
       "      <td>13.11</td>\n",
       "      <td>15.80</td>\n",
       "      <td>26.06</td>\n",
       "    </tr>\n",
       "  </tbody>\n",
       "</table>\n",
       "</div>"
      ],
      "text/plain": [
       "                count       mean       std   min    25%    50%    75%    max\n",
       "loan_status                                                                 \n",
       "Charged Off   42290.0  15.996389  4.289826  5.42  13.06  15.80  18.92  26.06\n",
       "Fully Paid   183360.0  13.254314  4.238183  5.42  10.16  13.11  15.80  26.06"
      ]
     },
     "execution_count": 73,
     "metadata": {},
     "output_type": "execute_result"
    }
   ],
   "source": [
    "df.groupby('loan_status')['int_rate'].describe()"
   ]
  },
  {
   "cell_type": "code",
   "execution_count": 74,
   "id": "a223700a",
   "metadata": {},
   "outputs": [
    {
     "data": {
      "image/png": "[encoded data removed]",
      "text/plain": [
       "<Figure size 432x288 with 1 Axes>"
      ]
     },
     "metadata": {
      "needs_background": "light"
     },
     "output_type": "display_data"
    }
   ],
   "source": [
    "sns.boxplot(data=df, y='loan_status', x='int_rate', palette='viridis');"
   ]
  },
  {
   "cell_type": "markdown",
   "id": "2cdbf2a8",
   "metadata": {},
   "source": [
    "Clear difference can be seen in the mean 'int_rate' between the two 'loan_status' categories."
   ]
  },
  {
   "cell_type": "markdown",
   "id": "c4421180",
   "metadata": {},
   "source": [
    "<a id=\"4.11\"></a>\n",
    "## 4.11 loan_amnt"
   ]
  },
  {
   "cell_type": "markdown",
   "id": "3280cdd9",
   "metadata": {},
   "source": [
    "The listed amount of the loan applied for by the borrower. If at some point in time, the credit department reduces the loan amount, then it will be reflected in this value."
   ]
  },
  {
   "cell_type": "code",
   "execution_count": 75,
   "id": "b44b6d2b",
   "metadata": {},
   "outputs": [
    {
     "data": {
      "text/plain": [
       "'No missing values'"
      ]
     },
     "execution_count": 75,
     "metadata": {},
     "output_type": "execute_result"
    }
   ],
   "source": [
    "if_null_values('loan_amnt')"
   ]
  },
  {
   "cell_type": "code",
   "execution_count": 76,
   "id": "34e5e608",
   "metadata": {},
   "outputs": [
    {
     "data": {
      "text/plain": [
       "count    225650.000000\n",
       "mean      13384.296698\n",
       "std        7983.978047\n",
       "min         500.000000\n",
       "25%        7200.000000\n",
       "50%       12000.000000\n",
       "75%       18000.000000\n",
       "max       35000.000000\n",
       "Name: loan_amnt, dtype: float64"
      ]
     },
     "execution_count": 76,
     "metadata": {},
     "output_type": "execute_result"
    }
   ],
   "source": [
    "df['loan_amnt'].describe()"
   ]
  },
  {
   "cell_type": "code",
   "execution_count": 77,
   "id": "82083e26",
   "metadata": {},
   "outputs": [
    {
     "data": {
      "text/html": [
       "<div>\n",
       "<style scoped>\n",
       "    .dataframe tbody tr th:only-of-type {\n",
       "        vertical-align: middle;\n",
       "    }\n",
       "\n",
       "    .dataframe tbody tr th {\n",
       "        vertical-align: top;\n",
       "    }\n",
       "\n",
       "    .dataframe thead th {\n",
       "        text-align: right;\n",
       "    }\n",
       "</style>\n",
       "<table border=\"1\" class=\"dataframe\">\n",
       "  <thead>\n",
       "    <tr style=\"text-align: right;\">\n",
       "      <th></th>\n",
       "      <th>count</th>\n",
       "      <th>mean</th>\n",
       "      <th>std</th>\n",
       "      <th>min</th>\n",
       "      <th>25%</th>\n",
       "      <th>50%</th>\n",
       "      <th>75%</th>\n",
       "      <th>max</th>\n",
       "    </tr>\n",
       "    <tr>\n",
       "      <th>loan_status</th>\n",
       "      <th></th>\n",
       "      <th></th>\n",
       "      <th></th>\n",
       "      <th></th>\n",
       "      <th></th>\n",
       "      <th></th>\n",
       "      <th></th>\n",
       "      <th></th>\n",
       "    </tr>\n",
       "  </thead>\n",
       "  <tbody>\n",
       "    <tr>\n",
       "      <th>Charged Off</th>\n",
       "      <td>42290.0</td>\n",
       "      <td>14467.814495</td>\n",
       "      <td>8332.278061</td>\n",
       "      <td>900.0</td>\n",
       "      <td>8000.0</td>\n",
       "      <td>12500.0</td>\n",
       "      <td>20000.0</td>\n",
       "      <td>35000.0</td>\n",
       "    </tr>\n",
       "    <tr>\n",
       "      <th>Fully Paid</th>\n",
       "      <td>183360.0</td>\n",
       "      <td>13134.395043</td>\n",
       "      <td>7880.376892</td>\n",
       "      <td>500.0</td>\n",
       "      <td>7000.0</td>\n",
       "      <td>11625.0</td>\n",
       "      <td>18000.0</td>\n",
       "      <td>35000.0</td>\n",
       "    </tr>\n",
       "  </tbody>\n",
       "</table>\n",
       "</div>"
      ],
      "text/plain": [
       "                count          mean          std    min     25%      50%  \\\n",
       "loan_status                                                                \n",
       "Charged Off   42290.0  14467.814495  8332.278061  900.0  8000.0  12500.0   \n",
       "Fully Paid   183360.0  13134.395043  7880.376892  500.0  7000.0  11625.0   \n",
       "\n",
       "                 75%      max  \n",
       "loan_status                    \n",
       "Charged Off  20000.0  35000.0  \n",
       "Fully Paid   18000.0  35000.0  "
      ]
     },
     "execution_count": 77,
     "metadata": {},
     "output_type": "execute_result"
    }
   ],
   "source": [
    "df.groupby('loan_status')['loan_amnt'].describe()"
   ]
  },
  {
   "cell_type": "code",
   "execution_count": 78,
   "id": "81f7ee73",
   "metadata": {},
   "outputs": [
    {
     "data": {
      "image/png": "[encoded data removed]",
      "text/plain": [
       "<Figure size 432x288 with 1 Axes>"
      ]
     },
     "metadata": {
      "needs_background": "light"
     },
     "output_type": "display_data"
    }
   ],
   "source": [
    "sns.boxplot(data=df, y='loan_status', x='loan_amnt', palette='viridis');"
   ]
  },
  {
   "cell_type": "markdown",
   "id": "f470496a",
   "metadata": {},
   "source": [
    "Clear difference can be seen in the mean 'loan_amnt' between the two 'loan_status' categories."
   ]
  },
  {
   "cell_type": "markdown",
   "id": "aa796d78",
   "metadata": {},
   "source": [
    "<a id=\"4.12\"></a>\n",
    "## 4.12 total_acc"
   ]
  },
  {
   "cell_type": "markdown",
   "id": "49fb1990",
   "metadata": {},
   "source": [
    "The total number of credit lines currently in the borrower's credit file."
   ]
  },
  {
   "cell_type": "code",
   "execution_count": 79,
   "id": "5c09b315",
   "metadata": {},
   "outputs": [
    {
     "data": {
      "text/plain": [
       "'No missing values'"
      ]
     },
     "execution_count": 79,
     "metadata": {},
     "output_type": "execute_result"
    }
   ],
   "source": [
    "if_null_values('total_acc')"
   ]
  },
  {
   "cell_type": "code",
   "execution_count": 80,
   "id": "de23132e",
   "metadata": {},
   "outputs": [
    {
     "data": {
      "text/plain": [
       "count    225650.000000\n",
       "mean         24.765198\n",
       "std          11.596503\n",
       "min           2.000000\n",
       "25%          16.000000\n",
       "50%          23.000000\n",
       "75%          32.000000\n",
       "max         150.000000\n",
       "Name: total_acc, dtype: float64"
      ]
     },
     "execution_count": 80,
     "metadata": {},
     "output_type": "execute_result"
    }
   ],
   "source": [
    "df['total_acc'].describe()"
   ]
  },
  {
   "cell_type": "markdown",
   "id": "4d284ca1",
   "metadata": {},
   "source": [
    "Let's make a countplot of number of customers with different 'total_acc'."
   ]
  },
  {
   "cell_type": "code",
   "execution_count": 81,
   "id": "87b4b4d1",
   "metadata": {},
   "outputs": [
    {
     "data": {
      "image/png": "[encoded data removed]",
      "text/plain": [
       "<Figure size 1728x288 with 1 Axes>"
      ]
     },
     "metadata": {
      "needs_background": "light"
     },
     "output_type": "display_data"
    }
   ],
   "source": [
    "plt.figure(figsize=(24,4))\n",
    "plt.xticks(rotation=90)\n",
    "sns.countplot(data=df, x='total_acc', palette='viridis');"
   ]
  },
  {
   "cell_type": "markdown",
   "id": "e91afc86",
   "metadata": {},
   "source": [
    "Since there are some outliers, we will drop rows with customers with 'total_acc' > 68."
   ]
  },
  {
   "cell_type": "code",
   "execution_count": 82,
   "id": "c86ab1b0",
   "metadata": {},
   "outputs": [
    {
     "data": {
      "text/plain": [
       "(225424, 100)"
      ]
     },
     "execution_count": 82,
     "metadata": {},
     "output_type": "execute_result"
    }
   ],
   "source": [
    "df = df[df['total_acc'] < 69]\n",
    "df.shape"
   ]
  },
  {
   "cell_type": "code",
   "execution_count": 83,
   "id": "a22d432a",
   "metadata": {},
   "outputs": [
    {
     "data": {
      "image/png": "[encoded data removed]",
      "text/plain": [
       "<Figure size 1728x288 with 1 Axes>"
      ]
     },
     "metadata": {
      "needs_background": "light"
     },
     "output_type": "display_data"
    }
   ],
   "source": [
    "plt.figure(figsize=(24,4))\n",
    "plt.xticks(rotation=90)\n",
    "sns.countplot(data=df, x='total_acc', palette='viridis');"
   ]
  },
  {
   "cell_type": "code",
   "execution_count": 84,
   "id": "31e62ee2",
   "metadata": {},
   "outputs": [
    {
     "data": {
      "image/png": "[encoded data removed]",
      "text/plain": [
       "<Figure size 1728x288 with 1 Axes>"
      ]
     },
     "metadata": {
      "needs_background": "light"
     },
     "output_type": "display_data"
    }
   ],
   "source": [
    "plt.figure(figsize=(24,4))\n",
    "plt.xticks(rotation=90)\n",
    "sns.countplot(data=df, x='total_acc', hue='loan_status', palette='viridis');"
   ]
  },
  {
   "cell_type": "code",
   "execution_count": 85,
   "id": "9e6b6fe4",
   "metadata": {},
   "outputs": [
    {
     "data": {
      "text/html": [
       "<div>\n",
       "<style scoped>\n",
       "    .dataframe tbody tr th:only-of-type {\n",
       "        vertical-align: middle;\n",
       "    }\n",
       "\n",
       "    .dataframe tbody tr th {\n",
       "        vertical-align: top;\n",
       "    }\n",
       "\n",
       "    .dataframe thead th {\n",
       "        text-align: right;\n",
       "    }\n",
       "</style>\n",
       "<table border=\"1\" class=\"dataframe\">\n",
       "  <thead>\n",
       "    <tr style=\"text-align: right;\">\n",
       "      <th></th>\n",
       "      <th>count</th>\n",
       "      <th>mean</th>\n",
       "      <th>std</th>\n",
       "      <th>min</th>\n",
       "      <th>25%</th>\n",
       "      <th>50%</th>\n",
       "      <th>75%</th>\n",
       "      <th>max</th>\n",
       "    </tr>\n",
       "    <tr>\n",
       "      <th>loan_status</th>\n",
       "      <th></th>\n",
       "      <th></th>\n",
       "      <th></th>\n",
       "      <th></th>\n",
       "      <th></th>\n",
       "      <th></th>\n",
       "      <th></th>\n",
       "      <th></th>\n",
       "    </tr>\n",
       "  </thead>\n",
       "  <tbody>\n",
       "    <tr>\n",
       "      <th>Charged Off</th>\n",
       "      <td>42249.0</td>\n",
       "      <td>24.060427</td>\n",
       "      <td>11.320896</td>\n",
       "      <td>2.0</td>\n",
       "      <td>16.0</td>\n",
       "      <td>22.0</td>\n",
       "      <td>31.0</td>\n",
       "      <td>68.0</td>\n",
       "    </tr>\n",
       "    <tr>\n",
       "      <th>Fully Paid</th>\n",
       "      <td>183175.0</td>\n",
       "      <td>24.862367</td>\n",
       "      <td>11.506508</td>\n",
       "      <td>2.0</td>\n",
       "      <td>16.0</td>\n",
       "      <td>23.0</td>\n",
       "      <td>32.0</td>\n",
       "      <td>68.0</td>\n",
       "    </tr>\n",
       "  </tbody>\n",
       "</table>\n",
       "</div>"
      ],
      "text/plain": [
       "                count       mean        std  min   25%   50%   75%   max\n",
       "loan_status                                                             \n",
       "Charged Off   42249.0  24.060427  11.320896  2.0  16.0  22.0  31.0  68.0\n",
       "Fully Paid   183175.0  24.862367  11.506508  2.0  16.0  23.0  32.0  68.0"
      ]
     },
     "execution_count": 85,
     "metadata": {},
     "output_type": "execute_result"
    }
   ],
   "source": [
    "df.groupby('loan_status')['total_acc'].describe()"
   ]
  },
  {
   "cell_type": "markdown",
   "id": "68265f09",
   "metadata": {},
   "source": [
    "Difference can be seen in the mean 'total_acc' between the two 'loan_status' categories. We will go ahead and keep this feature."
   ]
  },
  {
   "cell_type": "markdown",
   "id": "e18d118b",
   "metadata": {},
   "source": [
    "<a id=\"4.13\"></a>\n",
    "## 4.13 tot_cur_bal"
   ]
  },
  {
   "cell_type": "markdown",
   "id": "6b695241",
   "metadata": {},
   "source": [
    "Total current balance of all accounts."
   ]
  },
  {
   "cell_type": "code",
   "execution_count": 86,
   "id": "21f7b7fa",
   "metadata": {},
   "outputs": [
    {
     "data": {
      "text/plain": [
       "'% of missing values = 28.04'"
      ]
     },
     "execution_count": 86,
     "metadata": {},
     "output_type": "execute_result"
    }
   ],
   "source": [
    "if_null_values('tot_cur_bal')"
   ]
  },
  {
   "cell_type": "code",
   "execution_count": 87,
   "id": "be4526a8",
   "metadata": {},
   "outputs": [
    {
     "data": {
      "text/plain": [
       "count    1.621670e+05\n",
       "mean     1.343661e+05\n",
       "std      1.406323e+05\n",
       "min      0.000000e+00\n",
       "25%      2.784550e+04\n",
       "50%      7.916900e+04\n",
       "75%      2.056360e+05\n",
       "max      3.610743e+06\n",
       "Name: tot_cur_bal, dtype: float64"
      ]
     },
     "execution_count": 87,
     "metadata": {},
     "output_type": "execute_result"
    }
   ],
   "source": [
    "df['tot_cur_bal'].describe()"
   ]
  },
  {
   "cell_type": "markdown",
   "id": "48f73d41",
   "metadata": {},
   "source": [
    "Let's fill null values with mean."
   ]
  },
  {
   "cell_type": "code",
   "execution_count": 88,
   "id": "3c3a7743",
   "metadata": {},
   "outputs": [],
   "source": [
    "df['tot_cur_bal'] = df['tot_cur_bal'].fillna(df['tot_cur_bal'].describe()['mean'])"
   ]
  },
  {
   "cell_type": "code",
   "execution_count": 89,
   "id": "9eabb428",
   "metadata": {},
   "outputs": [
    {
     "data": {
      "text/plain": [
       "0"
      ]
     },
     "execution_count": 89,
     "metadata": {},
     "output_type": "execute_result"
    }
   ],
   "source": [
    "df['tot_cur_bal'].isnull().sum()"
   ]
  },
  {
   "cell_type": "markdown",
   "id": "518097e0",
   "metadata": {},
   "source": [
    "Let's plot the distribution of 'tot_cur_bal' of the customers."
   ]
  },
  {
   "cell_type": "code",
   "execution_count": 90,
   "id": "e93b650b",
   "metadata": {},
   "outputs": [
    {
     "data": {
      "image/png": "[encoded data removed]",
      "text/plain": [
       "<Figure size 1728x432 with 1 Axes>"
      ]
     },
     "metadata": {
      "needs_background": "light"
     },
     "output_type": "display_data"
    }
   ],
   "source": [
    "plt.figure(figsize=(24,6))\n",
    "sns.histplot(data=df, x='tot_cur_bal', bins=400, palette='viridis');"
   ]
  },
  {
   "cell_type": "markdown",
   "id": "9150eddc",
   "metadata": {},
   "source": [
    "Since there are some outliers, we will drop rows with customers with 'tot_cur_bal' > $100000."
   ]
  },
  {
   "cell_type": "code",
   "execution_count": 91,
   "id": "50615dd9",
   "metadata": {},
   "outputs": [],
   "source": [
    "df = df[df['tot_cur_bal'] < 100001] #100001"
   ]
  },
  {
   "cell_type": "code",
   "execution_count": 92,
   "id": "a00ba7ca",
   "metadata": {},
   "outputs": [
    {
     "data": {
      "image/png": "[encoded data removed]",
      "text/plain": [
       "<Figure size 1728x432 with 1 Axes>"
      ]
     },
     "metadata": {
      "needs_background": "light"
     },
     "output_type": "display_data"
    }
   ],
   "source": [
    "plt.figure(figsize=(24,6))\n",
    "sns.histplot(data=df, x='tot_cur_bal', bins=150, palette='viridis');"
   ]
  },
  {
   "cell_type": "code",
   "execution_count": 93,
   "id": "daa3e465",
   "metadata": {},
   "outputs": [
    {
     "data": {
      "image/png": "[encoded data removed]",
      "text/plain": [
       "<Figure size 1728x432 with 1 Axes>"
      ]
     },
     "metadata": {
      "needs_background": "light"
     },
     "output_type": "display_data"
    }
   ],
   "source": [
    "plt.figure(figsize=(24,6))\n",
    "sns.histplot(data=df, x='tot_cur_bal', bins=150, hue='loan_status', palette='viridis');"
   ]
  },
  {
   "cell_type": "code",
   "execution_count": 94,
   "id": "7cc8d53c",
   "metadata": {},
   "outputs": [
    {
     "data": {
      "text/html": [
       "<div>\n",
       "<style scoped>\n",
       "    .dataframe tbody tr th:only-of-type {\n",
       "        vertical-align: middle;\n",
       "    }\n",
       "\n",
       "    .dataframe tbody tr th {\n",
       "        vertical-align: top;\n",
       "    }\n",
       "\n",
       "    .dataframe thead th {\n",
       "        text-align: right;\n",
       "    }\n",
       "</style>\n",
       "<table border=\"1\" class=\"dataframe\">\n",
       "  <thead>\n",
       "    <tr style=\"text-align: right;\">\n",
       "      <th></th>\n",
       "      <th>count</th>\n",
       "      <th>mean</th>\n",
       "      <th>std</th>\n",
       "      <th>min</th>\n",
       "      <th>25%</th>\n",
       "      <th>50%</th>\n",
       "      <th>75%</th>\n",
       "      <th>max</th>\n",
       "    </tr>\n",
       "    <tr>\n",
       "      <th>loan_status</th>\n",
       "      <th></th>\n",
       "      <th></th>\n",
       "      <th></th>\n",
       "      <th></th>\n",
       "      <th></th>\n",
       "      <th></th>\n",
       "      <th></th>\n",
       "      <th></th>\n",
       "    </tr>\n",
       "  </thead>\n",
       "  <tbody>\n",
       "    <tr>\n",
       "      <th>Charged Off</th>\n",
       "      <td>19531.0</td>\n",
       "      <td>35757.996979</td>\n",
       "      <td>23760.435946</td>\n",
       "      <td>0.0</td>\n",
       "      <td>17274.0</td>\n",
       "      <td>30217.0</td>\n",
       "      <td>49465.5</td>\n",
       "      <td>99983.0</td>\n",
       "    </tr>\n",
       "    <tr>\n",
       "      <th>Fully Paid</th>\n",
       "      <td>68389.0</td>\n",
       "      <td>35794.584056</td>\n",
       "      <td>24304.463976</td>\n",
       "      <td>0.0</td>\n",
       "      <td>16790.0</td>\n",
       "      <td>30004.0</td>\n",
       "      <td>49983.0</td>\n",
       "      <td>99992.0</td>\n",
       "    </tr>\n",
       "  </tbody>\n",
       "</table>\n",
       "</div>"
      ],
      "text/plain": [
       "               count          mean           std  min      25%      50%  \\\n",
       "loan_status                                                               \n",
       "Charged Off  19531.0  35757.996979  23760.435946  0.0  17274.0  30217.0   \n",
       "Fully Paid   68389.0  35794.584056  24304.463976  0.0  16790.0  30004.0   \n",
       "\n",
       "                 75%      max  \n",
       "loan_status                    \n",
       "Charged Off  49465.5  99983.0  \n",
       "Fully Paid   49983.0  99992.0  "
      ]
     },
     "execution_count": 94,
     "metadata": {},
     "output_type": "execute_result"
    }
   ],
   "source": [
    "df.groupby('loan_status')['tot_cur_bal'].describe()"
   ]
  },
  {
   "cell_type": "markdown",
   "id": "02f0e397",
   "metadata": {},
   "source": [
    "Mean 'tot_cur_bal' is higher in case of customers who fully paid the loan."
   ]
  },
  {
   "cell_type": "markdown",
   "id": "1c2428c9",
   "metadata": {},
   "source": [
    "<a id=\"4.14\"></a>\n",
    "## 4.14 open_acc"
   ]
  },
  {
   "cell_type": "markdown",
   "id": "0955283d",
   "metadata": {},
   "source": [
    "The number of open credit lines in the borrower's credit file."
   ]
  },
  {
   "cell_type": "code",
   "execution_count": 95,
   "id": "232abd05",
   "metadata": {},
   "outputs": [
    {
     "data": {
      "text/plain": [
       "'No missing values'"
      ]
     },
     "execution_count": 95,
     "metadata": {},
     "output_type": "execute_result"
    }
   ],
   "source": [
    "if_null_values('open_acc')"
   ]
  },
  {
   "cell_type": "markdown",
   "id": "501f82c0",
   "metadata": {},
   "source": [
    "Let's plot the distribution of 'open_acc' of customers."
   ]
  },
  {
   "cell_type": "code",
   "execution_count": 96,
   "id": "be4d77a3",
   "metadata": {},
   "outputs": [
    {
     "data": {
      "image/png": "[encoded data removed]",
      "text/plain": [
       "<Figure size 1728x432 with 1 Axes>"
      ]
     },
     "metadata": {
      "needs_background": "light"
     },
     "output_type": "display_data"
    }
   ],
   "source": [
    "plt.figure(figsize=(24,6))\n",
    "sns.countplot(data=df, x='open_acc', palette='viridis');"
   ]
  },
  {
   "cell_type": "code",
   "execution_count": 97,
   "id": "f8f9c84f",
   "metadata": {},
   "outputs": [
    {
     "data": {
      "image/png": "[encoded data removed]",
      "text/plain": [
       "<Figure size 1728x432 with 1 Axes>"
      ]
     },
     "metadata": {
      "needs_background": "light"
     },
     "output_type": "display_data"
    }
   ],
   "source": [
    "plt.figure(figsize=(24,6))\n",
    "sns.countplot(data=df, x='open_acc', hue='loan_status', palette='viridis');"
   ]
  },
  {
   "cell_type": "code",
   "execution_count": 98,
   "id": "5d3eba99",
   "metadata": {},
   "outputs": [
    {
     "data": {
      "text/html": [
       "<div>\n",
       "<style scoped>\n",
       "    .dataframe tbody tr th:only-of-type {\n",
       "        vertical-align: middle;\n",
       "    }\n",
       "\n",
       "    .dataframe tbody tr th {\n",
       "        vertical-align: top;\n",
       "    }\n",
       "\n",
       "    .dataframe thead th {\n",
       "        text-align: right;\n",
       "    }\n",
       "</style>\n",
       "<table border=\"1\" class=\"dataframe\">\n",
       "  <thead>\n",
       "    <tr style=\"text-align: right;\">\n",
       "      <th></th>\n",
       "      <th>count</th>\n",
       "      <th>mean</th>\n",
       "      <th>std</th>\n",
       "      <th>min</th>\n",
       "      <th>25%</th>\n",
       "      <th>50%</th>\n",
       "      <th>75%</th>\n",
       "      <th>max</th>\n",
       "    </tr>\n",
       "    <tr>\n",
       "      <th>loan_status</th>\n",
       "      <th></th>\n",
       "      <th></th>\n",
       "      <th></th>\n",
       "      <th></th>\n",
       "      <th></th>\n",
       "      <th></th>\n",
       "      <th></th>\n",
       "      <th></th>\n",
       "    </tr>\n",
       "  </thead>\n",
       "  <tbody>\n",
       "    <tr>\n",
       "      <th>Charged Off</th>\n",
       "      <td>19531.0</td>\n",
       "      <td>10.397778</td>\n",
       "      <td>4.438282</td>\n",
       "      <td>0.0</td>\n",
       "      <td>7.0</td>\n",
       "      <td>10.0</td>\n",
       "      <td>13.0</td>\n",
       "      <td>44.0</td>\n",
       "    </tr>\n",
       "    <tr>\n",
       "      <th>Fully Paid</th>\n",
       "      <td>68389.0</td>\n",
       "      <td>10.221074</td>\n",
       "      <td>4.457616</td>\n",
       "      <td>0.0</td>\n",
       "      <td>7.0</td>\n",
       "      <td>9.0</td>\n",
       "      <td>13.0</td>\n",
       "      <td>49.0</td>\n",
       "    </tr>\n",
       "  </tbody>\n",
       "</table>\n",
       "</div>"
      ],
      "text/plain": [
       "               count       mean       std  min  25%   50%   75%   max\n",
       "loan_status                                                          \n",
       "Charged Off  19531.0  10.397778  4.438282  0.0  7.0  10.0  13.0  44.0\n",
       "Fully Paid   68389.0  10.221074  4.457616  0.0  7.0   9.0  13.0  49.0"
      ]
     },
     "execution_count": 98,
     "metadata": {},
     "output_type": "execute_result"
    }
   ],
   "source": [
    "df.groupby('loan_status')['open_acc'].describe()"
   ]
  },
  {
   "cell_type": "markdown",
   "id": "4c5b4688",
   "metadata": {},
   "source": [
    "Minute difference can be seen in the mean 'open_acc' between the two 'loan_status' categories. We will go ahead and keep this feature."
   ]
  },
  {
   "cell_type": "markdown",
   "id": "331ba8e0",
   "metadata": {},
   "source": [
    "<a id=\"4.15\"></a>\n",
    "## 4.15 pub_rec"
   ]
  },
  {
   "cell_type": "markdown",
   "id": "7aa3246f",
   "metadata": {},
   "source": [
    "Number of derogatory public records."
   ]
  },
  {
   "cell_type": "code",
   "execution_count": 99,
   "id": "f7ad390f",
   "metadata": {},
   "outputs": [
    {
     "data": {
      "text/plain": [
       "'No missing values'"
      ]
     },
     "execution_count": 99,
     "metadata": {},
     "output_type": "execute_result"
    }
   ],
   "source": [
    "if_null_values('pub_rec')"
   ]
  },
  {
   "cell_type": "code",
   "execution_count": 100,
   "id": "bfa6c67d",
   "metadata": {},
   "outputs": [
    {
     "data": {
      "image/png": "[encoded data removed]",
      "text/plain": [
       "<Figure size 1728x432 with 1 Axes>"
      ]
     },
     "metadata": {
      "needs_background": "light"
     },
     "output_type": "display_data"
    }
   ],
   "source": [
    "plt.figure(figsize=(24,6))\n",
    "sns.histplot(data=df, x='pub_rec', palette='viridis');"
   ]
  },
  {
   "cell_type": "markdown",
   "id": "b58e7fcd",
   "metadata": {},
   "source": [
    "There are some outliers. Let's drop the rows with customers who have 'pub_rec > 2."
   ]
  },
  {
   "cell_type": "code",
   "execution_count": 101,
   "id": "21de9f05",
   "metadata": {},
   "outputs": [
    {
     "data": {
      "text/plain": [
       "0.6050955414012739"
      ]
     },
     "execution_count": 101,
     "metadata": {},
     "output_type": "execute_result"
    }
   ],
   "source": [
    "len(df[df['pub_rec'] > 2])*100/len(df)"
   ]
  },
  {
   "cell_type": "code",
   "execution_count": 102,
   "id": "bd29522c",
   "metadata": {},
   "outputs": [],
   "source": [
    "df = df[df['pub_rec'] < 3]"
   ]
  },
  {
   "cell_type": "code",
   "execution_count": 103,
   "id": "ca5059c3",
   "metadata": {},
   "outputs": [
    {
     "data": {
      "image/png": "[encoded data removed]",
      "text/plain": [
       "<Figure size 1728x432 with 1 Axes>"
      ]
     },
     "metadata": {
      "needs_background": "light"
     },
     "output_type": "display_data"
    }
   ],
   "source": [
    "plt.figure(figsize=(24,6))\n",
    "sns.histplot(data=df, x='pub_rec', palette='viridis');"
   ]
  },
  {
   "cell_type": "code",
   "execution_count": 104,
   "id": "e9ce03a1",
   "metadata": {},
   "outputs": [
    {
     "data": {
      "text/html": [
       "<div>\n",
       "<style scoped>\n",
       "    .dataframe tbody tr th:only-of-type {\n",
       "        vertical-align: middle;\n",
       "    }\n",
       "\n",
       "    .dataframe tbody tr th {\n",
       "        vertical-align: top;\n",
       "    }\n",
       "\n",
       "    .dataframe thead th {\n",
       "        text-align: right;\n",
       "    }\n",
       "</style>\n",
       "<table border=\"1\" class=\"dataframe\">\n",
       "  <thead>\n",
       "    <tr style=\"text-align: right;\">\n",
       "      <th></th>\n",
       "      <th>count</th>\n",
       "      <th>mean</th>\n",
       "      <th>std</th>\n",
       "      <th>min</th>\n",
       "      <th>25%</th>\n",
       "      <th>50%</th>\n",
       "      <th>75%</th>\n",
       "      <th>max</th>\n",
       "    </tr>\n",
       "    <tr>\n",
       "      <th>loan_status</th>\n",
       "      <th></th>\n",
       "      <th></th>\n",
       "      <th></th>\n",
       "      <th></th>\n",
       "      <th></th>\n",
       "      <th></th>\n",
       "      <th></th>\n",
       "      <th></th>\n",
       "    </tr>\n",
       "  </thead>\n",
       "  <tbody>\n",
       "    <tr>\n",
       "      <th>Charged Off</th>\n",
       "      <td>19425.0</td>\n",
       "      <td>0.155212</td>\n",
       "      <td>0.398013</td>\n",
       "      <td>0.0</td>\n",
       "      <td>0.0</td>\n",
       "      <td>0.0</td>\n",
       "      <td>0.0</td>\n",
       "      <td>2.0</td>\n",
       "    </tr>\n",
       "    <tr>\n",
       "      <th>Fully Paid</th>\n",
       "      <td>67963.0</td>\n",
       "      <td>0.179480</td>\n",
       "      <td>0.420249</td>\n",
       "      <td>0.0</td>\n",
       "      <td>0.0</td>\n",
       "      <td>0.0</td>\n",
       "      <td>0.0</td>\n",
       "      <td>2.0</td>\n",
       "    </tr>\n",
       "  </tbody>\n",
       "</table>\n",
       "</div>"
      ],
      "text/plain": [
       "               count      mean       std  min  25%  50%  75%  max\n",
       "loan_status                                                      \n",
       "Charged Off  19425.0  0.155212  0.398013  0.0  0.0  0.0  0.0  2.0\n",
       "Fully Paid   67963.0  0.179480  0.420249  0.0  0.0  0.0  0.0  2.0"
      ]
     },
     "execution_count": 104,
     "metadata": {},
     "output_type": "execute_result"
    }
   ],
   "source": [
    "df.groupby('loan_status')['pub_rec'].describe()"
   ]
  },
  {
   "cell_type": "markdown",
   "id": "aa6db7b3",
   "metadata": {},
   "source": [
    "minute difference can be seen in the mean 'pub_rec' between the two 'loan_status' categories. We will go ahead and keep this feature."
   ]
  },
  {
   "cell_type": "markdown",
   "id": "6aea0883",
   "metadata": {},
   "source": [
    "<a id=\"4.16\"></a>\n",
    "## 4.16 pupose"
   ]
  },
  {
   "cell_type": "markdown",
   "id": "47dfbf03",
   "metadata": {},
   "source": [
    "A category provided by the borrower for the loan request."
   ]
  },
  {
   "cell_type": "code",
   "execution_count": 105,
   "id": "8b89c555",
   "metadata": {},
   "outputs": [
    {
     "data": {
      "text/plain": [
       "'No missing values'"
      ]
     },
     "execution_count": 105,
     "metadata": {},
     "output_type": "execute_result"
    }
   ],
   "source": [
    "if_null_values('purpose')"
   ]
  },
  {
   "cell_type": "code",
   "execution_count": 106,
   "id": "8d624ab8",
   "metadata": {},
   "outputs": [
    {
     "data": {
      "text/plain": [
       "13"
      ]
     },
     "execution_count": 106,
     "metadata": {},
     "output_type": "execute_result"
    }
   ],
   "source": [
    "len(df['purpose'].unique())"
   ]
  },
  {
   "cell_type": "code",
   "execution_count": 107,
   "id": "7ff7f13d",
   "metadata": {
    "scrolled": false
   },
   "outputs": [
    {
     "data": {
      "image/png": "[encoded data removed]",
      "text/plain": [
       "<Figure size 1008x432 with 1 Axes>"
      ]
     },
     "metadata": {
      "needs_background": "light"
     },
     "output_type": "display_data"
    }
   ],
   "source": [
    "plt.figure(figsize=(14,6))\n",
    "sns.countplot(data=df,x='purpose', hue='loan_status', palette='viridis');\n",
    "plt.xticks(rotation=90);"
   ]
  },
  {
   "cell_type": "code",
   "execution_count": 108,
   "id": "9187c66e",
   "metadata": {},
   "outputs": [
    {
     "data": {
      "image/png": "[encoded data removed]",
      "text/plain": [
       "<Figure size 1008x432 with 1 Axes>"
      ]
     },
     "metadata": {
      "needs_background": "light"
     },
     "output_type": "display_data"
    }
   ],
   "source": [
    "plt.figure(figsize=(14,6))\n",
    "charged_off = df[df['loan_status']==\"Charged Off\"].groupby(\"purpose\").count()['loan_status']\n",
    "fully_paid = df[df['loan_status']==\"Fully Paid\"].groupby(\"purpose\").count()['loan_status']\n",
    "percentage_charged_off = (charged_off * 100)/(charged_off + fully_paid)\n",
    "percentage_charged_off.plot(kind='bar', cmap='viridis')\n",
    "plt.title(\"Percentage charged off per purpose category\");"
   ]
  },
  {
   "cell_type": "markdown",
   "id": "d748bddf",
   "metadata": {},
   "source": [
    "Let's create dummy variables for these."
   ]
  },
  {
   "cell_type": "code",
   "execution_count": 109,
   "id": "393401f3",
   "metadata": {},
   "outputs": [],
   "source": [
    "dummies_purpose = pd.get_dummies(df['purpose'], drop_first=True)"
   ]
  },
  {
   "cell_type": "code",
   "execution_count": 110,
   "id": "25352ddc",
   "metadata": {},
   "outputs": [
    {
     "data": {
      "text/plain": [
       "(87388, 111)"
      ]
     },
     "execution_count": 110,
     "metadata": {},
     "output_type": "execute_result"
    }
   ],
   "source": [
    "df = pd.concat([df.drop('purpose', axis=1), dummies_purpose], axis=1)\n",
    "df.shape"
   ]
  },
  {
   "cell_type": "markdown",
   "id": "7c346b28",
   "metadata": {},
   "source": [
    "<a id=\"4.17\"></a>\n",
    "## 4.17 term"
   ]
  },
  {
   "cell_type": "markdown",
   "id": "3da5bab4",
   "metadata": {},
   "source": [
    "The number of payments on the loan. Values are in months and can be either 36 or 60."
   ]
  },
  {
   "cell_type": "code",
   "execution_count": 111,
   "id": "163458ac",
   "metadata": {},
   "outputs": [
    {
     "data": {
      "text/plain": [
       "'No missing values'"
      ]
     },
     "execution_count": 111,
     "metadata": {},
     "output_type": "execute_result"
    }
   ],
   "source": [
    "if_null_values('term')"
   ]
  },
  {
   "cell_type": "code",
   "execution_count": 112,
   "id": "18a6cc13",
   "metadata": {},
   "outputs": [
    {
     "data": {
      "text/plain": [
       "array([' 36 months', ' 60 months'], dtype=object)"
      ]
     },
     "execution_count": 112,
     "metadata": {},
     "output_type": "execute_result"
    }
   ],
   "source": [
    "df['term'].unique()"
   ]
  },
  {
   "cell_type": "markdown",
   "id": "f9799acc",
   "metadata": {},
   "source": [
    "Let's convert these strings to integers."
   ]
  },
  {
   "cell_type": "code",
   "execution_count": 113,
   "id": "4cf3d416",
   "metadata": {},
   "outputs": [],
   "source": [
    "df['term'] = df['term'].apply(lambda x: int(x[0:3]))"
   ]
  },
  {
   "cell_type": "code",
   "execution_count": 114,
   "id": "f8e4189b",
   "metadata": {},
   "outputs": [
    {
     "data": {
      "text/plain": [
       "<AxesSubplot:xlabel='term', ylabel='count'>"
      ]
     },
     "execution_count": 114,
     "metadata": {},
     "output_type": "execute_result"
    },
    {
     "data": {
      "image/png": "[encoded data removed]",
      "text/plain": [
       "<Figure size 432x288 with 1 Axes>"
      ]
     },
     "metadata": {
      "needs_background": "light"
     },
     "output_type": "display_data"
    }
   ],
   "source": [
    "sns.countplot(data=df, x='term', palette='viridis')"
   ]
  },
  {
   "cell_type": "markdown",
   "id": "e905563b",
   "metadata": {},
   "source": [
    "We will convert the feature into dummies."
   ]
  },
  {
   "cell_type": "code",
   "execution_count": 115,
   "id": "a3c52385",
   "metadata": {},
   "outputs": [
    {
     "data": {
      "image/png": "[encoded data removed]",
      "text/plain": [
       "<Figure size 432x288 with 1 Axes>"
      ]
     },
     "metadata": {
      "needs_background": "light"
     },
     "output_type": "display_data"
    }
   ],
   "source": [
    "charged_off = df[df['loan_status']==\"Charged Off\"].groupby(\"term\").count()['loan_status']\n",
    "fully_paid = df[df['loan_status']==\"Fully Paid\"].groupby(\"term\").count()['loan_status']\n",
    "percentage_charged_off = (charged_off * 100)/(charged_off + fully_paid)\n",
    "percentage_charged_off.plot(kind='bar', cmap='viridis')\n",
    "plt.title(\"Percentage charged off per term category\");"
   ]
  },
  {
   "cell_type": "markdown",
   "id": "1e01439a",
   "metadata": {},
   "source": [
    "Customers whose loan term was 60 months had almost double chance of charging off."
   ]
  },
  {
   "cell_type": "code",
   "execution_count": 116,
   "id": "36b050c0",
   "metadata": {},
   "outputs": [],
   "source": [
    "dummies_term = pd.get_dummies(df['term'], drop_first=True)"
   ]
  },
  {
   "cell_type": "code",
   "execution_count": 117,
   "id": "9b85d615",
   "metadata": {},
   "outputs": [
    {
     "data": {
      "text/html": [
       "<div>\n",
       "<style scoped>\n",
       "    .dataframe tbody tr th:only-of-type {\n",
       "        vertical-align: middle;\n",
       "    }\n",
       "\n",
       "    .dataframe tbody tr th {\n",
       "        vertical-align: top;\n",
       "    }\n",
       "\n",
       "    .dataframe thead th {\n",
       "        text-align: right;\n",
       "    }\n",
       "</style>\n",
       "<table border=\"1\" class=\"dataframe\">\n",
       "  <thead>\n",
       "    <tr style=\"text-align: right;\">\n",
       "      <th></th>\n",
       "      <th>annual_inc</th>\n",
       "      <th>int_rate</th>\n",
       "      <th>loan_amnt</th>\n",
       "      <th>loan_status</th>\n",
       "      <th>tot_cur_bal</th>\n",
       "      <th>open_acc</th>\n",
       "      <th>pub_rec</th>\n",
       "      <th>revol_bal</th>\n",
       "      <th>revol_util</th>\n",
       "      <th>title</th>\n",
       "      <th>total_acc</th>\n",
       "      <th>verification_status</th>\n",
       "      <th>AL</th>\n",
       "      <th>AR</th>\n",
       "      <th>AZ</th>\n",
       "      <th>CA</th>\n",
       "      <th>CO</th>\n",
       "      <th>CT</th>\n",
       "      <th>DC</th>\n",
       "      <th>DE</th>\n",
       "      <th>FL</th>\n",
       "      <th>GA</th>\n",
       "      <th>HI</th>\n",
       "      <th>IA</th>\n",
       "      <th>ID</th>\n",
       "      <th>IL</th>\n",
       "      <th>IN</th>\n",
       "      <th>KS</th>\n",
       "      <th>KY</th>\n",
       "      <th>LA</th>\n",
       "      <th>MA</th>\n",
       "      <th>MD</th>\n",
       "      <th>ME</th>\n",
       "      <th>MI</th>\n",
       "      <th>MN</th>\n",
       "      <th>MO</th>\n",
       "      <th>MS</th>\n",
       "      <th>MT</th>\n",
       "      <th>NC</th>\n",
       "      <th>NE</th>\n",
       "      <th>NH</th>\n",
       "      <th>NJ</th>\n",
       "      <th>NM</th>\n",
       "      <th>NV</th>\n",
       "      <th>NY</th>\n",
       "      <th>OH</th>\n",
       "      <th>OK</th>\n",
       "      <th>OR</th>\n",
       "      <th>PA</th>\n",
       "      <th>RI</th>\n",
       "      <th>SC</th>\n",
       "      <th>SD</th>\n",
       "      <th>TN</th>\n",
       "      <th>TX</th>\n",
       "      <th>UT</th>\n",
       "      <th>VA</th>\n",
       "      <th>VT</th>\n",
       "      <th>WA</th>\n",
       "      <th>WI</th>\n",
       "      <th>WV</th>\n",
       "      <th>WY</th>\n",
       "      <th>A2</th>\n",
       "      <th>A3</th>\n",
       "      <th>A4</th>\n",
       "      <th>A5</th>\n",
       "      <th>B1</th>\n",
       "      <th>B2</th>\n",
       "      <th>B3</th>\n",
       "      <th>B4</th>\n",
       "      <th>B5</th>\n",
       "      <th>C1</th>\n",
       "      <th>C2</th>\n",
       "      <th>C3</th>\n",
       "      <th>C4</th>\n",
       "      <th>C5</th>\n",
       "      <th>D1</th>\n",
       "      <th>D2</th>\n",
       "      <th>D3</th>\n",
       "      <th>D4</th>\n",
       "      <th>D5</th>\n",
       "      <th>E1</th>\n",
       "      <th>E2</th>\n",
       "      <th>E3</th>\n",
       "      <th>E4</th>\n",
       "      <th>E5</th>\n",
       "      <th>F1</th>\n",
       "      <th>F2</th>\n",
       "      <th>F3</th>\n",
       "      <th>F4</th>\n",
       "      <th>F5</th>\n",
       "      <th>G1</th>\n",
       "      <th>G2</th>\n",
       "      <th>G3</th>\n",
       "      <th>G4</th>\n",
       "      <th>G5</th>\n",
       "      <th>OTHER</th>\n",
       "      <th>OWN</th>\n",
       "      <th>RENT</th>\n",
       "      <th>credit_card</th>\n",
       "      <th>debt_consolidation</th>\n",
       "      <th>home_improvement</th>\n",
       "      <th>house</th>\n",
       "      <th>major_purchase</th>\n",
       "      <th>medical</th>\n",
       "      <th>moving</th>\n",
       "      <th>other</th>\n",
       "      <th>renewable_energy</th>\n",
       "      <th>small_business</th>\n",
       "      <th>vacation</th>\n",
       "      <th>wedding</th>\n",
       "      <th>60</th>\n",
       "    </tr>\n",
       "  </thead>\n",
       "  <tbody>\n",
       "    <tr>\n",
       "      <th>42538</th>\n",
       "      <td>40000.0</td>\n",
       "      <td>13.53</td>\n",
       "      <td>12000</td>\n",
       "      <td>Fully Paid</td>\n",
       "      <td>13605.0</td>\n",
       "      <td>7.0</td>\n",
       "      <td>2.0</td>\n",
       "      <td>5572</td>\n",
       "      <td>68.8</td>\n",
       "      <td>Debt consolidation</td>\n",
       "      <td>32.0</td>\n",
       "      <td>Source Verified</td>\n",
       "      <td>0</td>\n",
       "      <td>0</td>\n",
       "      <td>0</td>\n",
       "      <td>0</td>\n",
       "      <td>0</td>\n",
       "      <td>0</td>\n",
       "      <td>0</td>\n",
       "      <td>0</td>\n",
       "      <td>0</td>\n",
       "      <td>0</td>\n",
       "      <td>0</td>\n",
       "      <td>0</td>\n",
       "      <td>0</td>\n",
       "      <td>0</td>\n",
       "      <td>0</td>\n",
       "      <td>0</td>\n",
       "      <td>0</td>\n",
       "      <td>0</td>\n",
       "      <td>0</td>\n",
       "      <td>0</td>\n",
       "      <td>0</td>\n",
       "      <td>0</td>\n",
       "      <td>0</td>\n",
       "      <td>0</td>\n",
       "      <td>0</td>\n",
       "      <td>0</td>\n",
       "      <td>0</td>\n",
       "      <td>0</td>\n",
       "      <td>0</td>\n",
       "      <td>0</td>\n",
       "      <td>1</td>\n",
       "      <td>0</td>\n",
       "      <td>0</td>\n",
       "      <td>0</td>\n",
       "      <td>0</td>\n",
       "      <td>0</td>\n",
       "      <td>0</td>\n",
       "      <td>0</td>\n",
       "      <td>0</td>\n",
       "      <td>0</td>\n",
       "      <td>0</td>\n",
       "      <td>0</td>\n",
       "      <td>0</td>\n",
       "      <td>0</td>\n",
       "      <td>0</td>\n",
       "      <td>0</td>\n",
       "      <td>0</td>\n",
       "      <td>0</td>\n",
       "      <td>0</td>\n",
       "      <td>0</td>\n",
       "      <td>0</td>\n",
       "      <td>0</td>\n",
       "      <td>0</td>\n",
       "      <td>0</td>\n",
       "      <td>0</td>\n",
       "      <td>0</td>\n",
       "      <td>0</td>\n",
       "      <td>1</td>\n",
       "      <td>0</td>\n",
       "      <td>0</td>\n",
       "      <td>0</td>\n",
       "      <td>0</td>\n",
       "      <td>0</td>\n",
       "      <td>0</td>\n",
       "      <td>0</td>\n",
       "      <td>0</td>\n",
       "      <td>0</td>\n",
       "      <td>0</td>\n",
       "      <td>0</td>\n",
       "      <td>0</td>\n",
       "      <td>0</td>\n",
       "      <td>0</td>\n",
       "      <td>0</td>\n",
       "      <td>0</td>\n",
       "      <td>0</td>\n",
       "      <td>0</td>\n",
       "      <td>0</td>\n",
       "      <td>0</td>\n",
       "      <td>0</td>\n",
       "      <td>0</td>\n",
       "      <td>0</td>\n",
       "      <td>0</td>\n",
       "      <td>0</td>\n",
       "      <td>0</td>\n",
       "      <td>0</td>\n",
       "      <td>1</td>\n",
       "      <td>0</td>\n",
       "      <td>1</td>\n",
       "      <td>0</td>\n",
       "      <td>0</td>\n",
       "      <td>0</td>\n",
       "      <td>0</td>\n",
       "      <td>0</td>\n",
       "      <td>0</td>\n",
       "      <td>0</td>\n",
       "      <td>0</td>\n",
       "      <td>0</td>\n",
       "      <td>0</td>\n",
       "      <td>0</td>\n",
       "    </tr>\n",
       "    <tr>\n",
       "      <th>42544</th>\n",
       "      <td>25000.0</td>\n",
       "      <td>12.85</td>\n",
       "      <td>3000</td>\n",
       "      <td>Fully Paid</td>\n",
       "      <td>19530.0</td>\n",
       "      <td>5.0</td>\n",
       "      <td>2.0</td>\n",
       "      <td>2875</td>\n",
       "      <td>54.2</td>\n",
       "      <td>debt</td>\n",
       "      <td>26.0</td>\n",
       "      <td>Verified</td>\n",
       "      <td>0</td>\n",
       "      <td>0</td>\n",
       "      <td>0</td>\n",
       "      <td>0</td>\n",
       "      <td>0</td>\n",
       "      <td>0</td>\n",
       "      <td>0</td>\n",
       "      <td>0</td>\n",
       "      <td>1</td>\n",
       "      <td>0</td>\n",
       "      <td>0</td>\n",
       "      <td>0</td>\n",
       "      <td>0</td>\n",
       "      <td>0</td>\n",
       "      <td>0</td>\n",
       "      <td>0</td>\n",
       "      <td>0</td>\n",
       "      <td>0</td>\n",
       "      <td>0</td>\n",
       "      <td>0</td>\n",
       "      <td>0</td>\n",
       "      <td>0</td>\n",
       "      <td>0</td>\n",
       "      <td>0</td>\n",
       "      <td>0</td>\n",
       "      <td>0</td>\n",
       "      <td>0</td>\n",
       "      <td>0</td>\n",
       "      <td>0</td>\n",
       "      <td>0</td>\n",
       "      <td>0</td>\n",
       "      <td>0</td>\n",
       "      <td>0</td>\n",
       "      <td>0</td>\n",
       "      <td>0</td>\n",
       "      <td>0</td>\n",
       "      <td>0</td>\n",
       "      <td>0</td>\n",
       "      <td>0</td>\n",
       "      <td>0</td>\n",
       "      <td>0</td>\n",
       "      <td>0</td>\n",
       "      <td>0</td>\n",
       "      <td>0</td>\n",
       "      <td>0</td>\n",
       "      <td>0</td>\n",
       "      <td>0</td>\n",
       "      <td>0</td>\n",
       "      <td>0</td>\n",
       "      <td>0</td>\n",
       "      <td>0</td>\n",
       "      <td>0</td>\n",
       "      <td>0</td>\n",
       "      <td>0</td>\n",
       "      <td>0</td>\n",
       "      <td>0</td>\n",
       "      <td>1</td>\n",
       "      <td>0</td>\n",
       "      <td>0</td>\n",
       "      <td>0</td>\n",
       "      <td>0</td>\n",
       "      <td>0</td>\n",
       "      <td>0</td>\n",
       "      <td>0</td>\n",
       "      <td>0</td>\n",
       "      <td>0</td>\n",
       "      <td>0</td>\n",
       "      <td>0</td>\n",
       "      <td>0</td>\n",
       "      <td>0</td>\n",
       "      <td>0</td>\n",
       "      <td>0</td>\n",
       "      <td>0</td>\n",
       "      <td>0</td>\n",
       "      <td>0</td>\n",
       "      <td>0</td>\n",
       "      <td>0</td>\n",
       "      <td>0</td>\n",
       "      <td>0</td>\n",
       "      <td>0</td>\n",
       "      <td>0</td>\n",
       "      <td>0</td>\n",
       "      <td>0</td>\n",
       "      <td>0</td>\n",
       "      <td>0</td>\n",
       "      <td>1</td>\n",
       "      <td>0</td>\n",
       "      <td>1</td>\n",
       "      <td>0</td>\n",
       "      <td>0</td>\n",
       "      <td>0</td>\n",
       "      <td>0</td>\n",
       "      <td>0</td>\n",
       "      <td>0</td>\n",
       "      <td>0</td>\n",
       "      <td>0</td>\n",
       "      <td>0</td>\n",
       "      <td>0</td>\n",
       "      <td>0</td>\n",
       "    </tr>\n",
       "    <tr>\n",
       "      <th>42552</th>\n",
       "      <td>98000.0</td>\n",
       "      <td>14.47</td>\n",
       "      <td>15000</td>\n",
       "      <td>Fully Paid</td>\n",
       "      <td>13038.0</td>\n",
       "      <td>16.0</td>\n",
       "      <td>0.0</td>\n",
       "      <td>5749</td>\n",
       "      <td>22.3</td>\n",
       "      <td>pay off</td>\n",
       "      <td>16.0</td>\n",
       "      <td>Not Verified</td>\n",
       "      <td>0</td>\n",
       "      <td>0</td>\n",
       "      <td>0</td>\n",
       "      <td>0</td>\n",
       "      <td>0</td>\n",
       "      <td>0</td>\n",
       "      <td>0</td>\n",
       "      <td>0</td>\n",
       "      <td>0</td>\n",
       "      <td>0</td>\n",
       "      <td>0</td>\n",
       "      <td>0</td>\n",
       "      <td>0</td>\n",
       "      <td>0</td>\n",
       "      <td>0</td>\n",
       "      <td>0</td>\n",
       "      <td>0</td>\n",
       "      <td>0</td>\n",
       "      <td>0</td>\n",
       "      <td>0</td>\n",
       "      <td>0</td>\n",
       "      <td>0</td>\n",
       "      <td>0</td>\n",
       "      <td>0</td>\n",
       "      <td>0</td>\n",
       "      <td>0</td>\n",
       "      <td>0</td>\n",
       "      <td>0</td>\n",
       "      <td>0</td>\n",
       "      <td>0</td>\n",
       "      <td>0</td>\n",
       "      <td>0</td>\n",
       "      <td>1</td>\n",
       "      <td>0</td>\n",
       "      <td>0</td>\n",
       "      <td>0</td>\n",
       "      <td>0</td>\n",
       "      <td>0</td>\n",
       "      <td>0</td>\n",
       "      <td>0</td>\n",
       "      <td>0</td>\n",
       "      <td>0</td>\n",
       "      <td>0</td>\n",
       "      <td>0</td>\n",
       "      <td>0</td>\n",
       "      <td>0</td>\n",
       "      <td>0</td>\n",
       "      <td>0</td>\n",
       "      <td>0</td>\n",
       "      <td>0</td>\n",
       "      <td>0</td>\n",
       "      <td>0</td>\n",
       "      <td>0</td>\n",
       "      <td>0</td>\n",
       "      <td>0</td>\n",
       "      <td>0</td>\n",
       "      <td>0</td>\n",
       "      <td>0</td>\n",
       "      <td>0</td>\n",
       "      <td>1</td>\n",
       "      <td>0</td>\n",
       "      <td>0</td>\n",
       "      <td>0</td>\n",
       "      <td>0</td>\n",
       "      <td>0</td>\n",
       "      <td>0</td>\n",
       "      <td>0</td>\n",
       "      <td>0</td>\n",
       "      <td>0</td>\n",
       "      <td>0</td>\n",
       "      <td>0</td>\n",
       "      <td>0</td>\n",
       "      <td>0</td>\n",
       "      <td>0</td>\n",
       "      <td>0</td>\n",
       "      <td>0</td>\n",
       "      <td>0</td>\n",
       "      <td>0</td>\n",
       "      <td>0</td>\n",
       "      <td>0</td>\n",
       "      <td>0</td>\n",
       "      <td>0</td>\n",
       "      <td>0</td>\n",
       "      <td>0</td>\n",
       "      <td>0</td>\n",
       "      <td>1</td>\n",
       "      <td>0</td>\n",
       "      <td>1</td>\n",
       "      <td>0</td>\n",
       "      <td>0</td>\n",
       "      <td>0</td>\n",
       "      <td>0</td>\n",
       "      <td>0</td>\n",
       "      <td>0</td>\n",
       "      <td>0</td>\n",
       "      <td>0</td>\n",
       "      <td>0</td>\n",
       "      <td>0</td>\n",
       "      <td>0</td>\n",
       "    </tr>\n",
       "    <tr>\n",
       "      <th>42554</th>\n",
       "      <td>39600.0</td>\n",
       "      <td>10.99</td>\n",
       "      <td>4800</td>\n",
       "      <td>Fully Paid</td>\n",
       "      <td>4136.0</td>\n",
       "      <td>3.0</td>\n",
       "      <td>0.0</td>\n",
       "      <td>4136</td>\n",
       "      <td>16.1</td>\n",
       "      <td>For The House</td>\n",
       "      <td>8.0</td>\n",
       "      <td>Source Verified</td>\n",
       "      <td>0</td>\n",
       "      <td>0</td>\n",
       "      <td>0</td>\n",
       "      <td>0</td>\n",
       "      <td>0</td>\n",
       "      <td>0</td>\n",
       "      <td>0</td>\n",
       "      <td>0</td>\n",
       "      <td>0</td>\n",
       "      <td>0</td>\n",
       "      <td>0</td>\n",
       "      <td>0</td>\n",
       "      <td>0</td>\n",
       "      <td>0</td>\n",
       "      <td>0</td>\n",
       "      <td>0</td>\n",
       "      <td>0</td>\n",
       "      <td>0</td>\n",
       "      <td>0</td>\n",
       "      <td>0</td>\n",
       "      <td>0</td>\n",
       "      <td>0</td>\n",
       "      <td>0</td>\n",
       "      <td>0</td>\n",
       "      <td>0</td>\n",
       "      <td>0</td>\n",
       "      <td>0</td>\n",
       "      <td>0</td>\n",
       "      <td>0</td>\n",
       "      <td>0</td>\n",
       "      <td>0</td>\n",
       "      <td>0</td>\n",
       "      <td>0</td>\n",
       "      <td>0</td>\n",
       "      <td>0</td>\n",
       "      <td>0</td>\n",
       "      <td>0</td>\n",
       "      <td>0</td>\n",
       "      <td>0</td>\n",
       "      <td>0</td>\n",
       "      <td>0</td>\n",
       "      <td>1</td>\n",
       "      <td>0</td>\n",
       "      <td>0</td>\n",
       "      <td>0</td>\n",
       "      <td>0</td>\n",
       "      <td>0</td>\n",
       "      <td>0</td>\n",
       "      <td>0</td>\n",
       "      <td>0</td>\n",
       "      <td>0</td>\n",
       "      <td>0</td>\n",
       "      <td>0</td>\n",
       "      <td>0</td>\n",
       "      <td>1</td>\n",
       "      <td>0</td>\n",
       "      <td>0</td>\n",
       "      <td>0</td>\n",
       "      <td>0</td>\n",
       "      <td>0</td>\n",
       "      <td>0</td>\n",
       "      <td>0</td>\n",
       "      <td>0</td>\n",
       "      <td>0</td>\n",
       "      <td>0</td>\n",
       "      <td>0</td>\n",
       "      <td>0</td>\n",
       "      <td>0</td>\n",
       "      <td>0</td>\n",
       "      <td>0</td>\n",
       "      <td>0</td>\n",
       "      <td>0</td>\n",
       "      <td>0</td>\n",
       "      <td>0</td>\n",
       "      <td>0</td>\n",
       "      <td>0</td>\n",
       "      <td>0</td>\n",
       "      <td>0</td>\n",
       "      <td>0</td>\n",
       "      <td>0</td>\n",
       "      <td>0</td>\n",
       "      <td>0</td>\n",
       "      <td>0</td>\n",
       "      <td>0</td>\n",
       "      <td>0</td>\n",
       "      <td>0</td>\n",
       "      <td>0</td>\n",
       "      <td>0</td>\n",
       "      <td>1</td>\n",
       "      <td>0</td>\n",
       "      <td>0</td>\n",
       "      <td>0</td>\n",
       "      <td>0</td>\n",
       "      <td>0</td>\n",
       "      <td>0</td>\n",
       "      <td>0</td>\n",
       "      <td>0</td>\n",
       "      <td>0</td>\n",
       "      <td>0</td>\n",
       "    </tr>\n",
       "    <tr>\n",
       "      <th>42555</th>\n",
       "      <td>81500.0</td>\n",
       "      <td>13.53</td>\n",
       "      <td>20800</td>\n",
       "      <td>Fully Paid</td>\n",
       "      <td>23473.0</td>\n",
       "      <td>29.0</td>\n",
       "      <td>0.0</td>\n",
       "      <td>23473</td>\n",
       "      <td>54.5</td>\n",
       "      <td>Reducing Debt to Purchase Home</td>\n",
       "      <td>41.0</td>\n",
       "      <td>Verified</td>\n",
       "      <td>0</td>\n",
       "      <td>0</td>\n",
       "      <td>0</td>\n",
       "      <td>0</td>\n",
       "      <td>0</td>\n",
       "      <td>0</td>\n",
       "      <td>0</td>\n",
       "      <td>0</td>\n",
       "      <td>0</td>\n",
       "      <td>0</td>\n",
       "      <td>0</td>\n",
       "      <td>0</td>\n",
       "      <td>0</td>\n",
       "      <td>0</td>\n",
       "      <td>0</td>\n",
       "      <td>0</td>\n",
       "      <td>0</td>\n",
       "      <td>0</td>\n",
       "      <td>0</td>\n",
       "      <td>0</td>\n",
       "      <td>0</td>\n",
       "      <td>0</td>\n",
       "      <td>0</td>\n",
       "      <td>0</td>\n",
       "      <td>0</td>\n",
       "      <td>0</td>\n",
       "      <td>0</td>\n",
       "      <td>0</td>\n",
       "      <td>0</td>\n",
       "      <td>0</td>\n",
       "      <td>0</td>\n",
       "      <td>0</td>\n",
       "      <td>1</td>\n",
       "      <td>0</td>\n",
       "      <td>0</td>\n",
       "      <td>0</td>\n",
       "      <td>0</td>\n",
       "      <td>0</td>\n",
       "      <td>0</td>\n",
       "      <td>0</td>\n",
       "      <td>0</td>\n",
       "      <td>0</td>\n",
       "      <td>0</td>\n",
       "      <td>0</td>\n",
       "      <td>0</td>\n",
       "      <td>0</td>\n",
       "      <td>0</td>\n",
       "      <td>0</td>\n",
       "      <td>0</td>\n",
       "      <td>0</td>\n",
       "      <td>0</td>\n",
       "      <td>0</td>\n",
       "      <td>0</td>\n",
       "      <td>0</td>\n",
       "      <td>0</td>\n",
       "      <td>0</td>\n",
       "      <td>0</td>\n",
       "      <td>1</td>\n",
       "      <td>0</td>\n",
       "      <td>0</td>\n",
       "      <td>0</td>\n",
       "      <td>0</td>\n",
       "      <td>0</td>\n",
       "      <td>0</td>\n",
       "      <td>0</td>\n",
       "      <td>0</td>\n",
       "      <td>0</td>\n",
       "      <td>0</td>\n",
       "      <td>0</td>\n",
       "      <td>0</td>\n",
       "      <td>0</td>\n",
       "      <td>0</td>\n",
       "      <td>0</td>\n",
       "      <td>0</td>\n",
       "      <td>0</td>\n",
       "      <td>0</td>\n",
       "      <td>0</td>\n",
       "      <td>0</td>\n",
       "      <td>0</td>\n",
       "      <td>0</td>\n",
       "      <td>0</td>\n",
       "      <td>0</td>\n",
       "      <td>0</td>\n",
       "      <td>0</td>\n",
       "      <td>0</td>\n",
       "      <td>1</td>\n",
       "      <td>0</td>\n",
       "      <td>1</td>\n",
       "      <td>0</td>\n",
       "      <td>0</td>\n",
       "      <td>0</td>\n",
       "      <td>0</td>\n",
       "      <td>0</td>\n",
       "      <td>0</td>\n",
       "      <td>0</td>\n",
       "      <td>0</td>\n",
       "      <td>0</td>\n",
       "      <td>0</td>\n",
       "      <td>0</td>\n",
       "    </tr>\n",
       "    <tr>\n",
       "      <th>...</th>\n",
       "      <td>...</td>\n",
       "      <td>...</td>\n",
       "      <td>...</td>\n",
       "      <td>...</td>\n",
       "      <td>...</td>\n",
       "      <td>...</td>\n",
       "      <td>...</td>\n",
       "      <td>...</td>\n",
       "      <td>...</td>\n",
       "      <td>...</td>\n",
       "      <td>...</td>\n",
       "      <td>...</td>\n",
       "      <td>...</td>\n",
       "      <td>...</td>\n",
       "      <td>...</td>\n",
       "      <td>...</td>\n",
       "      <td>...</td>\n",
       "      <td>...</td>\n",
       "      <td>...</td>\n",
       "      <td>...</td>\n",
       "      <td>...</td>\n",
       "      <td>...</td>\n",
       "      <td>...</td>\n",
       "      <td>...</td>\n",
       "      <td>...</td>\n",
       "      <td>...</td>\n",
       "      <td>...</td>\n",
       "      <td>...</td>\n",
       "      <td>...</td>\n",
       "      <td>...</td>\n",
       "      <td>...</td>\n",
       "      <td>...</td>\n",
       "      <td>...</td>\n",
       "      <td>...</td>\n",
       "      <td>...</td>\n",
       "      <td>...</td>\n",
       "      <td>...</td>\n",
       "      <td>...</td>\n",
       "      <td>...</td>\n",
       "      <td>...</td>\n",
       "      <td>...</td>\n",
       "      <td>...</td>\n",
       "      <td>...</td>\n",
       "      <td>...</td>\n",
       "      <td>...</td>\n",
       "      <td>...</td>\n",
       "      <td>...</td>\n",
       "      <td>...</td>\n",
       "      <td>...</td>\n",
       "      <td>...</td>\n",
       "      <td>...</td>\n",
       "      <td>...</td>\n",
       "      <td>...</td>\n",
       "      <td>...</td>\n",
       "      <td>...</td>\n",
       "      <td>...</td>\n",
       "      <td>...</td>\n",
       "      <td>...</td>\n",
       "      <td>...</td>\n",
       "      <td>...</td>\n",
       "      <td>...</td>\n",
       "      <td>...</td>\n",
       "      <td>...</td>\n",
       "      <td>...</td>\n",
       "      <td>...</td>\n",
       "      <td>...</td>\n",
       "      <td>...</td>\n",
       "      <td>...</td>\n",
       "      <td>...</td>\n",
       "      <td>...</td>\n",
       "      <td>...</td>\n",
       "      <td>...</td>\n",
       "      <td>...</td>\n",
       "      <td>...</td>\n",
       "      <td>...</td>\n",
       "      <td>...</td>\n",
       "      <td>...</td>\n",
       "      <td>...</td>\n",
       "      <td>...</td>\n",
       "      <td>...</td>\n",
       "      <td>...</td>\n",
       "      <td>...</td>\n",
       "      <td>...</td>\n",
       "      <td>...</td>\n",
       "      <td>...</td>\n",
       "      <td>...</td>\n",
       "      <td>...</td>\n",
       "      <td>...</td>\n",
       "      <td>...</td>\n",
       "      <td>...</td>\n",
       "      <td>...</td>\n",
       "      <td>...</td>\n",
       "      <td>...</td>\n",
       "      <td>...</td>\n",
       "      <td>...</td>\n",
       "      <td>...</td>\n",
       "      <td>...</td>\n",
       "      <td>...</td>\n",
       "      <td>...</td>\n",
       "      <td>...</td>\n",
       "      <td>...</td>\n",
       "      <td>...</td>\n",
       "      <td>...</td>\n",
       "      <td>...</td>\n",
       "      <td>...</td>\n",
       "      <td>...</td>\n",
       "      <td>...</td>\n",
       "      <td>...</td>\n",
       "      <td>...</td>\n",
       "      <td>...</td>\n",
       "      <td>...</td>\n",
       "    </tr>\n",
       "    <tr>\n",
       "      <th>466256</th>\n",
       "      <td>50000.0</td>\n",
       "      <td>16.99</td>\n",
       "      <td>15000</td>\n",
       "      <td>Charged Off</td>\n",
       "      <td>34157.0</td>\n",
       "      <td>14.0</td>\n",
       "      <td>0.0</td>\n",
       "      <td>24551</td>\n",
       "      <td>83.8</td>\n",
       "      <td>debt consolidation</td>\n",
       "      <td>34.0</td>\n",
       "      <td>Source Verified</td>\n",
       "      <td>0</td>\n",
       "      <td>0</td>\n",
       "      <td>0</td>\n",
       "      <td>0</td>\n",
       "      <td>0</td>\n",
       "      <td>0</td>\n",
       "      <td>0</td>\n",
       "      <td>0</td>\n",
       "      <td>0</td>\n",
       "      <td>0</td>\n",
       "      <td>0</td>\n",
       "      <td>0</td>\n",
       "      <td>0</td>\n",
       "      <td>0</td>\n",
       "      <td>0</td>\n",
       "      <td>0</td>\n",
       "      <td>0</td>\n",
       "      <td>0</td>\n",
       "      <td>0</td>\n",
       "      <td>0</td>\n",
       "      <td>0</td>\n",
       "      <td>0</td>\n",
       "      <td>0</td>\n",
       "      <td>0</td>\n",
       "      <td>0</td>\n",
       "      <td>0</td>\n",
       "      <td>0</td>\n",
       "      <td>0</td>\n",
       "      <td>0</td>\n",
       "      <td>0</td>\n",
       "      <td>0</td>\n",
       "      <td>0</td>\n",
       "      <td>0</td>\n",
       "      <td>0</td>\n",
       "      <td>0</td>\n",
       "      <td>0</td>\n",
       "      <td>1</td>\n",
       "      <td>0</td>\n",
       "      <td>0</td>\n",
       "      <td>0</td>\n",
       "      <td>0</td>\n",
       "      <td>0</td>\n",
       "      <td>0</td>\n",
       "      <td>0</td>\n",
       "      <td>0</td>\n",
       "      <td>0</td>\n",
       "      <td>0</td>\n",
       "      <td>0</td>\n",
       "      <td>0</td>\n",
       "      <td>0</td>\n",
       "      <td>0</td>\n",
       "      <td>0</td>\n",
       "      <td>0</td>\n",
       "      <td>0</td>\n",
       "      <td>0</td>\n",
       "      <td>0</td>\n",
       "      <td>0</td>\n",
       "      <td>0</td>\n",
       "      <td>0</td>\n",
       "      <td>0</td>\n",
       "      <td>0</td>\n",
       "      <td>0</td>\n",
       "      <td>0</td>\n",
       "      <td>1</td>\n",
       "      <td>0</td>\n",
       "      <td>0</td>\n",
       "      <td>0</td>\n",
       "      <td>0</td>\n",
       "      <td>0</td>\n",
       "      <td>0</td>\n",
       "      <td>0</td>\n",
       "      <td>0</td>\n",
       "      <td>0</td>\n",
       "      <td>0</td>\n",
       "      <td>0</td>\n",
       "      <td>0</td>\n",
       "      <td>0</td>\n",
       "      <td>0</td>\n",
       "      <td>0</td>\n",
       "      <td>0</td>\n",
       "      <td>0</td>\n",
       "      <td>0</td>\n",
       "      <td>0</td>\n",
       "      <td>0</td>\n",
       "      <td>0</td>\n",
       "      <td>1</td>\n",
       "      <td>0</td>\n",
       "      <td>1</td>\n",
       "      <td>0</td>\n",
       "      <td>0</td>\n",
       "      <td>0</td>\n",
       "      <td>0</td>\n",
       "      <td>0</td>\n",
       "      <td>0</td>\n",
       "      <td>0</td>\n",
       "      <td>0</td>\n",
       "      <td>0</td>\n",
       "      <td>0</td>\n",
       "      <td>0</td>\n",
       "    </tr>\n",
       "    <tr>\n",
       "      <th>466259</th>\n",
       "      <td>48000.0</td>\n",
       "      <td>15.61</td>\n",
       "      <td>18000</td>\n",
       "      <td>Fully Paid</td>\n",
       "      <td>32971.0</td>\n",
       "      <td>9.0</td>\n",
       "      <td>1.0</td>\n",
       "      <td>6126</td>\n",
       "      <td>66.6</td>\n",
       "      <td>Debt consolidation</td>\n",
       "      <td>18.0</td>\n",
       "      <td>Verified</td>\n",
       "      <td>0</td>\n",
       "      <td>0</td>\n",
       "      <td>0</td>\n",
       "      <td>0</td>\n",
       "      <td>0</td>\n",
       "      <td>0</td>\n",
       "      <td>0</td>\n",
       "      <td>0</td>\n",
       "      <td>1</td>\n",
       "      <td>0</td>\n",
       "      <td>0</td>\n",
       "      <td>0</td>\n",
       "      <td>0</td>\n",
       "      <td>0</td>\n",
       "      <td>0</td>\n",
       "      <td>0</td>\n",
       "      <td>0</td>\n",
       "      <td>0</td>\n",
       "      <td>0</td>\n",
       "      <td>0</td>\n",
       "      <td>0</td>\n",
       "      <td>0</td>\n",
       "      <td>0</td>\n",
       "      <td>0</td>\n",
       "      <td>0</td>\n",
       "      <td>0</td>\n",
       "      <td>0</td>\n",
       "      <td>0</td>\n",
       "      <td>0</td>\n",
       "      <td>0</td>\n",
       "      <td>0</td>\n",
       "      <td>0</td>\n",
       "      <td>0</td>\n",
       "      <td>0</td>\n",
       "      <td>0</td>\n",
       "      <td>0</td>\n",
       "      <td>0</td>\n",
       "      <td>0</td>\n",
       "      <td>0</td>\n",
       "      <td>0</td>\n",
       "      <td>0</td>\n",
       "      <td>0</td>\n",
       "      <td>0</td>\n",
       "      <td>0</td>\n",
       "      <td>0</td>\n",
       "      <td>0</td>\n",
       "      <td>0</td>\n",
       "      <td>0</td>\n",
       "      <td>0</td>\n",
       "      <td>0</td>\n",
       "      <td>0</td>\n",
       "      <td>0</td>\n",
       "      <td>0</td>\n",
       "      <td>0</td>\n",
       "      <td>0</td>\n",
       "      <td>0</td>\n",
       "      <td>0</td>\n",
       "      <td>0</td>\n",
       "      <td>0</td>\n",
       "      <td>0</td>\n",
       "      <td>0</td>\n",
       "      <td>1</td>\n",
       "      <td>0</td>\n",
       "      <td>0</td>\n",
       "      <td>0</td>\n",
       "      <td>0</td>\n",
       "      <td>0</td>\n",
       "      <td>0</td>\n",
       "      <td>0</td>\n",
       "      <td>0</td>\n",
       "      <td>0</td>\n",
       "      <td>0</td>\n",
       "      <td>0</td>\n",
       "      <td>0</td>\n",
       "      <td>0</td>\n",
       "      <td>0</td>\n",
       "      <td>0</td>\n",
       "      <td>0</td>\n",
       "      <td>0</td>\n",
       "      <td>0</td>\n",
       "      <td>0</td>\n",
       "      <td>0</td>\n",
       "      <td>0</td>\n",
       "      <td>0</td>\n",
       "      <td>0</td>\n",
       "      <td>1</td>\n",
       "      <td>0</td>\n",
       "      <td>1</td>\n",
       "      <td>0</td>\n",
       "      <td>0</td>\n",
       "      <td>0</td>\n",
       "      <td>0</td>\n",
       "      <td>0</td>\n",
       "      <td>0</td>\n",
       "      <td>0</td>\n",
       "      <td>0</td>\n",
       "      <td>0</td>\n",
       "      <td>0</td>\n",
       "      <td>0</td>\n",
       "    </tr>\n",
       "    <tr>\n",
       "      <th>466263</th>\n",
       "      <td>65000.0</td>\n",
       "      <td>17.57</td>\n",
       "      <td>15250</td>\n",
       "      <td>Fully Paid</td>\n",
       "      <td>13021.0</td>\n",
       "      <td>8.0</td>\n",
       "      <td>2.0</td>\n",
       "      <td>6122</td>\n",
       "      <td>15.2</td>\n",
       "      <td>Fresh</td>\n",
       "      <td>26.0</td>\n",
       "      <td>Verified</td>\n",
       "      <td>0</td>\n",
       "      <td>0</td>\n",
       "      <td>0</td>\n",
       "      <td>0</td>\n",
       "      <td>0</td>\n",
       "      <td>0</td>\n",
       "      <td>0</td>\n",
       "      <td>0</td>\n",
       "      <td>0</td>\n",
       "      <td>0</td>\n",
       "      <td>0</td>\n",
       "      <td>0</td>\n",
       "      <td>0</td>\n",
       "      <td>0</td>\n",
       "      <td>0</td>\n",
       "      <td>0</td>\n",
       "      <td>0</td>\n",
       "      <td>0</td>\n",
       "      <td>0</td>\n",
       "      <td>0</td>\n",
       "      <td>0</td>\n",
       "      <td>0</td>\n",
       "      <td>0</td>\n",
       "      <td>0</td>\n",
       "      <td>0</td>\n",
       "      <td>0</td>\n",
       "      <td>0</td>\n",
       "      <td>0</td>\n",
       "      <td>0</td>\n",
       "      <td>0</td>\n",
       "      <td>0</td>\n",
       "      <td>0</td>\n",
       "      <td>0</td>\n",
       "      <td>0</td>\n",
       "      <td>0</td>\n",
       "      <td>0</td>\n",
       "      <td>1</td>\n",
       "      <td>0</td>\n",
       "      <td>0</td>\n",
       "      <td>0</td>\n",
       "      <td>0</td>\n",
       "      <td>0</td>\n",
       "      <td>0</td>\n",
       "      <td>0</td>\n",
       "      <td>0</td>\n",
       "      <td>0</td>\n",
       "      <td>0</td>\n",
       "      <td>0</td>\n",
       "      <td>0</td>\n",
       "      <td>0</td>\n",
       "      <td>0</td>\n",
       "      <td>0</td>\n",
       "      <td>0</td>\n",
       "      <td>0</td>\n",
       "      <td>0</td>\n",
       "      <td>0</td>\n",
       "      <td>0</td>\n",
       "      <td>0</td>\n",
       "      <td>0</td>\n",
       "      <td>0</td>\n",
       "      <td>0</td>\n",
       "      <td>0</td>\n",
       "      <td>0</td>\n",
       "      <td>0</td>\n",
       "      <td>1</td>\n",
       "      <td>0</td>\n",
       "      <td>0</td>\n",
       "      <td>0</td>\n",
       "      <td>0</td>\n",
       "      <td>0</td>\n",
       "      <td>0</td>\n",
       "      <td>0</td>\n",
       "      <td>0</td>\n",
       "      <td>0</td>\n",
       "      <td>0</td>\n",
       "      <td>0</td>\n",
       "      <td>0</td>\n",
       "      <td>0</td>\n",
       "      <td>0</td>\n",
       "      <td>0</td>\n",
       "      <td>0</td>\n",
       "      <td>0</td>\n",
       "      <td>0</td>\n",
       "      <td>0</td>\n",
       "      <td>0</td>\n",
       "      <td>0</td>\n",
       "      <td>0</td>\n",
       "      <td>1</td>\n",
       "      <td>0</td>\n",
       "      <td>0</td>\n",
       "      <td>0</td>\n",
       "      <td>0</td>\n",
       "      <td>0</td>\n",
       "      <td>0</td>\n",
       "      <td>0</td>\n",
       "      <td>0</td>\n",
       "      <td>0</td>\n",
       "      <td>0</td>\n",
       "      <td>0</td>\n",
       "    </tr>\n",
       "    <tr>\n",
       "      <th>466277</th>\n",
       "      <td>90000.0</td>\n",
       "      <td>7.90</td>\n",
       "      <td>18000</td>\n",
       "      <td>Charged Off</td>\n",
       "      <td>42592.0</td>\n",
       "      <td>16.0</td>\n",
       "      <td>0.0</td>\n",
       "      <td>8224</td>\n",
       "      <td>16.3</td>\n",
       "      <td>my loan</td>\n",
       "      <td>33.0</td>\n",
       "      <td>Verified</td>\n",
       "      <td>0</td>\n",
       "      <td>0</td>\n",
       "      <td>0</td>\n",
       "      <td>0</td>\n",
       "      <td>0</td>\n",
       "      <td>0</td>\n",
       "      <td>0</td>\n",
       "      <td>0</td>\n",
       "      <td>0</td>\n",
       "      <td>0</td>\n",
       "      <td>0</td>\n",
       "      <td>0</td>\n",
       "      <td>0</td>\n",
       "      <td>0</td>\n",
       "      <td>0</td>\n",
       "      <td>0</td>\n",
       "      <td>0</td>\n",
       "      <td>0</td>\n",
       "      <td>0</td>\n",
       "      <td>1</td>\n",
       "      <td>0</td>\n",
       "      <td>0</td>\n",
       "      <td>0</td>\n",
       "      <td>0</td>\n",
       "      <td>0</td>\n",
       "      <td>0</td>\n",
       "      <td>0</td>\n",
       "      <td>0</td>\n",
       "      <td>0</td>\n",
       "      <td>0</td>\n",
       "      <td>0</td>\n",
       "      <td>0</td>\n",
       "      <td>0</td>\n",
       "      <td>0</td>\n",
       "      <td>0</td>\n",
       "      <td>0</td>\n",
       "      <td>0</td>\n",
       "      <td>0</td>\n",
       "      <td>0</td>\n",
       "      <td>0</td>\n",
       "      <td>0</td>\n",
       "      <td>0</td>\n",
       "      <td>0</td>\n",
       "      <td>0</td>\n",
       "      <td>0</td>\n",
       "      <td>0</td>\n",
       "      <td>0</td>\n",
       "      <td>0</td>\n",
       "      <td>0</td>\n",
       "      <td>0</td>\n",
       "      <td>0</td>\n",
       "      <td>1</td>\n",
       "      <td>0</td>\n",
       "      <td>0</td>\n",
       "      <td>0</td>\n",
       "      <td>0</td>\n",
       "      <td>0</td>\n",
       "      <td>0</td>\n",
       "      <td>0</td>\n",
       "      <td>0</td>\n",
       "      <td>0</td>\n",
       "      <td>0</td>\n",
       "      <td>0</td>\n",
       "      <td>0</td>\n",
       "      <td>0</td>\n",
       "      <td>0</td>\n",
       "      <td>0</td>\n",
       "      <td>0</td>\n",
       "      <td>0</td>\n",
       "      <td>0</td>\n",
       "      <td>0</td>\n",
       "      <td>0</td>\n",
       "      <td>0</td>\n",
       "      <td>0</td>\n",
       "      <td>0</td>\n",
       "      <td>0</td>\n",
       "      <td>0</td>\n",
       "      <td>0</td>\n",
       "      <td>0</td>\n",
       "      <td>0</td>\n",
       "      <td>0</td>\n",
       "      <td>0</td>\n",
       "      <td>0</td>\n",
       "      <td>0</td>\n",
       "      <td>0</td>\n",
       "      <td>1</td>\n",
       "      <td>0</td>\n",
       "      <td>1</td>\n",
       "      <td>0</td>\n",
       "      <td>0</td>\n",
       "      <td>0</td>\n",
       "      <td>0</td>\n",
       "      <td>0</td>\n",
       "      <td>0</td>\n",
       "      <td>0</td>\n",
       "      <td>0</td>\n",
       "      <td>0</td>\n",
       "      <td>0</td>\n",
       "      <td>0</td>\n",
       "    </tr>\n",
       "    <tr>\n",
       "      <th>466278</th>\n",
       "      <td>42000.0</td>\n",
       "      <td>18.25</td>\n",
       "      <td>10000</td>\n",
       "      <td>Fully Paid</td>\n",
       "      <td>10170.0</td>\n",
       "      <td>9.0</td>\n",
       "      <td>0.0</td>\n",
       "      <td>3196</td>\n",
       "      <td>28.8</td>\n",
       "      <td>Vacation</td>\n",
       "      <td>24.0</td>\n",
       "      <td>Source Verified</td>\n",
       "      <td>0</td>\n",
       "      <td>0</td>\n",
       "      <td>0</td>\n",
       "      <td>0</td>\n",
       "      <td>0</td>\n",
       "      <td>0</td>\n",
       "      <td>0</td>\n",
       "      <td>0</td>\n",
       "      <td>0</td>\n",
       "      <td>0</td>\n",
       "      <td>0</td>\n",
       "      <td>0</td>\n",
       "      <td>0</td>\n",
       "      <td>0</td>\n",
       "      <td>0</td>\n",
       "      <td>0</td>\n",
       "      <td>0</td>\n",
       "      <td>0</td>\n",
       "      <td>0</td>\n",
       "      <td>0</td>\n",
       "      <td>0</td>\n",
       "      <td>0</td>\n",
       "      <td>0</td>\n",
       "      <td>0</td>\n",
       "      <td>0</td>\n",
       "      <td>0</td>\n",
       "      <td>0</td>\n",
       "      <td>0</td>\n",
       "      <td>0</td>\n",
       "      <td>0</td>\n",
       "      <td>0</td>\n",
       "      <td>0</td>\n",
       "      <td>0</td>\n",
       "      <td>0</td>\n",
       "      <td>0</td>\n",
       "      <td>0</td>\n",
       "      <td>0</td>\n",
       "      <td>0</td>\n",
       "      <td>0</td>\n",
       "      <td>0</td>\n",
       "      <td>0</td>\n",
       "      <td>0</td>\n",
       "      <td>0</td>\n",
       "      <td>1</td>\n",
       "      <td>0</td>\n",
       "      <td>0</td>\n",
       "      <td>0</td>\n",
       "      <td>0</td>\n",
       "      <td>0</td>\n",
       "      <td>0</td>\n",
       "      <td>0</td>\n",
       "      <td>0</td>\n",
       "      <td>0</td>\n",
       "      <td>0</td>\n",
       "      <td>0</td>\n",
       "      <td>0</td>\n",
       "      <td>0</td>\n",
       "      <td>0</td>\n",
       "      <td>0</td>\n",
       "      <td>0</td>\n",
       "      <td>0</td>\n",
       "      <td>0</td>\n",
       "      <td>0</td>\n",
       "      <td>0</td>\n",
       "      <td>0</td>\n",
       "      <td>1</td>\n",
       "      <td>0</td>\n",
       "      <td>0</td>\n",
       "      <td>0</td>\n",
       "      <td>0</td>\n",
       "      <td>0</td>\n",
       "      <td>0</td>\n",
       "      <td>0</td>\n",
       "      <td>0</td>\n",
       "      <td>0</td>\n",
       "      <td>0</td>\n",
       "      <td>0</td>\n",
       "      <td>0</td>\n",
       "      <td>0</td>\n",
       "      <td>0</td>\n",
       "      <td>0</td>\n",
       "      <td>0</td>\n",
       "      <td>0</td>\n",
       "      <td>0</td>\n",
       "      <td>0</td>\n",
       "      <td>1</td>\n",
       "      <td>0</td>\n",
       "      <td>0</td>\n",
       "      <td>0</td>\n",
       "      <td>0</td>\n",
       "      <td>0</td>\n",
       "      <td>0</td>\n",
       "      <td>0</td>\n",
       "      <td>0</td>\n",
       "      <td>0</td>\n",
       "      <td>0</td>\n",
       "      <td>1</td>\n",
       "      <td>0</td>\n",
       "      <td>0</td>\n",
       "    </tr>\n",
       "  </tbody>\n",
       "</table>\n",
       "<p>87388 rows × 111 columns</p>\n",
       "</div>"
      ],
      "text/plain": [
       "        annual_inc  int_rate  loan_amnt  loan_status  tot_cur_bal  open_acc  \\\n",
       "42538      40000.0     13.53      12000   Fully Paid      13605.0       7.0   \n",
       "42544      25000.0     12.85       3000   Fully Paid      19530.0       5.0   \n",
       "42552      98000.0     14.47      15000   Fully Paid      13038.0      16.0   \n",
       "42554      39600.0     10.99       4800   Fully Paid       4136.0       3.0   \n",
       "42555      81500.0     13.53      20800   Fully Paid      23473.0      29.0   \n",
       "...            ...       ...        ...          ...          ...       ...   \n",
       "466256     50000.0     16.99      15000  Charged Off      34157.0      14.0   \n",
       "466259     48000.0     15.61      18000   Fully Paid      32971.0       9.0   \n",
       "466263     65000.0     17.57      15250   Fully Paid      13021.0       8.0   \n",
       "466277     90000.0      7.90      18000  Charged Off      42592.0      16.0   \n",
       "466278     42000.0     18.25      10000   Fully Paid      10170.0       9.0   \n",
       "\n",
       "        pub_rec  revol_bal  revol_util                           title  \\\n",
       "42538       2.0       5572        68.8              Debt consolidation   \n",
       "42544       2.0       2875        54.2                            debt   \n",
       "42552       0.0       5749        22.3                         pay off   \n",
       "42554       0.0       4136        16.1                   For The House   \n",
       "42555       0.0      23473        54.5  Reducing Debt to Purchase Home   \n",
       "...         ...        ...         ...                             ...   \n",
       "466256      0.0      24551        83.8              debt consolidation   \n",
       "466259      1.0       6126        66.6              Debt consolidation   \n",
       "466263      2.0       6122        15.2                           Fresh   \n",
       "466277      0.0       8224        16.3                         my loan   \n",
       "466278      0.0       3196        28.8                        Vacation   \n",
       "\n",
       "        total_acc verification_status  AL  AR  AZ  CA  CO  CT  DC  DE  FL  GA  \\\n",
       "42538        32.0     Source Verified   0   0   0   0   0   0   0   0   0   0   \n",
       "42544        26.0            Verified   0   0   0   0   0   0   0   0   1   0   \n",
       "42552        16.0        Not Verified   0   0   0   0   0   0   0   0   0   0   \n",
       "42554         8.0     Source Verified   0   0   0   0   0   0   0   0   0   0   \n",
       "42555        41.0            Verified   0   0   0   0   0   0   0   0   0   0   \n",
       "...           ...                 ...  ..  ..  ..  ..  ..  ..  ..  ..  ..  ..   \n",
       "466256       34.0     Source Verified   0   0   0   0   0   0   0   0   0   0   \n",
       "466259       18.0            Verified   0   0   0   0   0   0   0   0   1   0   \n",
       "466263       26.0            Verified   0   0   0   0   0   0   0   0   0   0   \n",
       "466277       33.0            Verified   0   0   0   0   0   0   0   0   0   0   \n",
       "466278       24.0     Source Verified   0   0   0   0   0   0   0   0   0   0   \n",
       "\n",
       "        HI  IA  ID  IL  IN  KS  KY  LA  MA  MD  ME  MI  MN  MO  MS  MT  NC  \\\n",
       "42538    0   0   0   0   0   0   0   0   0   0   0   0   0   0   0   0   0   \n",
       "42544    0   0   0   0   0   0   0   0   0   0   0   0   0   0   0   0   0   \n",
       "42552    0   0   0   0   0   0   0   0   0   0   0   0   0   0   0   0   0   \n",
       "42554    0   0   0   0   0   0   0   0   0   0   0   0   0   0   0   0   0   \n",
       "42555    0   0   0   0   0   0   0   0   0   0   0   0   0   0   0   0   0   \n",
       "...     ..  ..  ..  ..  ..  ..  ..  ..  ..  ..  ..  ..  ..  ..  ..  ..  ..   \n",
       "466256   0   0   0   0   0   0   0   0   0   0   0   0   0   0   0   0   0   \n",
       "466259   0   0   0   0   0   0   0   0   0   0   0   0   0   0   0   0   0   \n",
       "466263   0   0   0   0   0   0   0   0   0   0   0   0   0   0   0   0   0   \n",
       "466277   0   0   0   0   0   0   0   0   0   1   0   0   0   0   0   0   0   \n",
       "466278   0   0   0   0   0   0   0   0   0   0   0   0   0   0   0   0   0   \n",
       "\n",
       "        NE  NH  NJ  NM  NV  NY  OH  OK  OR  PA  RI  SC  SD  TN  TX  UT  VA  \\\n",
       "42538    0   0   0   1   0   0   0   0   0   0   0   0   0   0   0   0   0   \n",
       "42544    0   0   0   0   0   0   0   0   0   0   0   0   0   0   0   0   0   \n",
       "42552    0   0   0   0   0   1   0   0   0   0   0   0   0   0   0   0   0   \n",
       "42554    0   0   0   0   0   0   0   0   0   0   0   0   0   0   1   0   0   \n",
       "42555    0   0   0   0   0   1   0   0   0   0   0   0   0   0   0   0   0   \n",
       "...     ..  ..  ..  ..  ..  ..  ..  ..  ..  ..  ..  ..  ..  ..  ..  ..  ..   \n",
       "466256   0   0   0   0   0   0   0   0   0   1   0   0   0   0   0   0   0   \n",
       "466259   0   0   0   0   0   0   0   0   0   0   0   0   0   0   0   0   0   \n",
       "466263   0   0   0   0   0   0   0   0   0   1   0   0   0   0   0   0   0   \n",
       "466277   0   0   0   0   0   0   0   0   0   0   0   0   0   0   0   0   0   \n",
       "466278   0   0   0   0   0   0   0   0   0   0   0   0   0   0   0   0   1   \n",
       "\n",
       "        VT  WA  WI  WV  WY  A2  A3  A4  A5  B1  B2  B3  B4  B5  C1  C2  C3  \\\n",
       "42538    0   0   0   0   0   0   0   0   0   0   0   0   0   1   0   0   0   \n",
       "42544    0   0   0   0   0   0   0   0   0   0   0   0   1   0   0   0   0   \n",
       "42552    0   0   0   0   0   0   0   0   0   0   0   0   0   0   0   1   0   \n",
       "42554    0   0   0   0   0   0   0   0   0   0   1   0   0   0   0   0   0   \n",
       "42555    0   0   0   0   0   0   0   0   0   0   0   0   0   1   0   0   0   \n",
       "...     ..  ..  ..  ..  ..  ..  ..  ..  ..  ..  ..  ..  ..  ..  ..  ..  ..   \n",
       "466256   0   0   0   0   0   0   0   0   0   0   0   0   0   0   0   0   0   \n",
       "466259   0   0   0   0   0   0   0   0   0   0   0   0   0   0   0   0   0   \n",
       "466263   0   0   0   0   0   0   0   0   0   0   0   0   0   0   0   0   0   \n",
       "466277   0   0   0   0   0   0   0   1   0   0   0   0   0   0   0   0   0   \n",
       "466278   0   0   0   0   0   0   0   0   0   0   0   0   0   0   0   0   0   \n",
       "\n",
       "        C4  C5  D1  D2  D3  D4  D5  E1  E2  E3  E4  E5  F1  F2  F3  F4  F5  \\\n",
       "42538    0   0   0   0   0   0   0   0   0   0   0   0   0   0   0   0   0   \n",
       "42544    0   0   0   0   0   0   0   0   0   0   0   0   0   0   0   0   0   \n",
       "42552    0   0   0   0   0   0   0   0   0   0   0   0   0   0   0   0   0   \n",
       "42554    0   0   0   0   0   0   0   0   0   0   0   0   0   0   0   0   0   \n",
       "42555    0   0   0   0   0   0   0   0   0   0   0   0   0   0   0   0   0   \n",
       "...     ..  ..  ..  ..  ..  ..  ..  ..  ..  ..  ..  ..  ..  ..  ..  ..  ..   \n",
       "466256   0   0   1   0   0   0   0   0   0   0   0   0   0   0   0   0   0   \n",
       "466259   1   0   0   0   0   0   0   0   0   0   0   0   0   0   0   0   0   \n",
       "466263   0   0   0   1   0   0   0   0   0   0   0   0   0   0   0   0   0   \n",
       "466277   0   0   0   0   0   0   0   0   0   0   0   0   0   0   0   0   0   \n",
       "466278   0   0   0   0   1   0   0   0   0   0   0   0   0   0   0   0   0   \n",
       "\n",
       "        G1  G2  G3  G4  G5  OTHER  OWN  RENT  credit_card  debt_consolidation  \\\n",
       "42538    0   0   0   0   0      0    0     1            0                   1   \n",
       "42544    0   0   0   0   0      0    0     1            0                   1   \n",
       "42552    0   0   0   0   0      0    0     1            0                   1   \n",
       "42554    0   0   0   0   0      0    0     0            0                   0   \n",
       "42555    0   0   0   0   0      0    0     1            0                   1   \n",
       "...     ..  ..  ..  ..  ..    ...  ...   ...          ...                 ...   \n",
       "466256   0   0   0   0   0      0    0     1            0                   1   \n",
       "466259   0   0   0   0   0      0    0     1            0                   1   \n",
       "466263   0   0   0   0   0      0    0     0            0                   1   \n",
       "466277   0   0   0   0   0      0    0     1            0                   1   \n",
       "466278   0   0   0   0   0      0    0     1            0                   0   \n",
       "\n",
       "        home_improvement  house  major_purchase  medical  moving  other  \\\n",
       "42538                  0      0               0        0       0      0   \n",
       "42544                  0      0               0        0       0      0   \n",
       "42552                  0      0               0        0       0      0   \n",
       "42554                  1      0               0        0       0      0   \n",
       "42555                  0      0               0        0       0      0   \n",
       "...                  ...    ...             ...      ...     ...    ...   \n",
       "466256                 0      0               0        0       0      0   \n",
       "466259                 0      0               0        0       0      0   \n",
       "466263                 0      0               0        0       0      0   \n",
       "466277                 0      0               0        0       0      0   \n",
       "466278                 0      0               0        0       0      0   \n",
       "\n",
       "        renewable_energy  small_business  vacation  wedding  60  \n",
       "42538                  0               0         0        0   0  \n",
       "42544                  0               0         0        0   0  \n",
       "42552                  0               0         0        0   0  \n",
       "42554                  0               0         0        0   0  \n",
       "42555                  0               0         0        0   0  \n",
       "...                  ...             ...       ...      ...  ..  \n",
       "466256                 0               0         0        0   0  \n",
       "466259                 0               0         0        0   0  \n",
       "466263                 0               0         0        0   0  \n",
       "466277                 0               0         0        0   0  \n",
       "466278                 0               0         1        0   0  \n",
       "\n",
       "[87388 rows x 111 columns]"
      ]
     },
     "execution_count": 117,
     "metadata": {},
     "output_type": "execute_result"
    }
   ],
   "source": [
    "pd.concat([df.drop('term', axis=1), dummies_term], axis=1)"
   ]
  },
  {
   "cell_type": "markdown",
   "id": "7c728dc4",
   "metadata": {},
   "source": [
    "<a id=\"4.18\"></a>\n",
    "## 4.18 title"
   ]
  },
  {
   "cell_type": "markdown",
   "id": "6713f238",
   "metadata": {},
   "source": [
    "The loan title provided by the borrower."
   ]
  },
  {
   "cell_type": "code",
   "execution_count": 118,
   "id": "4dbd330d",
   "metadata": {},
   "outputs": [
    {
     "data": {
      "text/plain": [
       "'% of missing values = 0.01'"
      ]
     },
     "execution_count": 118,
     "metadata": {},
     "output_type": "execute_result"
    }
   ],
   "source": [
    "if_null_values('title')"
   ]
  },
  {
   "cell_type": "code",
   "execution_count": 119,
   "id": "021e38db",
   "metadata": {},
   "outputs": [
    {
     "data": {
      "text/plain": [
       "15355"
      ]
     },
     "execution_count": 119,
     "metadata": {},
     "output_type": "execute_result"
    }
   ],
   "source": [
    "len(df['title'].unique())"
   ]
  },
  {
   "cell_type": "code",
   "execution_count": 120,
   "id": "24c87363",
   "metadata": {
    "scrolled": true
   },
   "outputs": [
    {
     "data": {
      "text/plain": [
       "Debt consolidation         28968\n",
       "Credit card refinancing     9564\n",
       "Debt Consolidation          3439\n",
       "Other                       2652\n",
       "Home improvement            1712\n",
       "                           ...  \n",
       "Pay Down Cards                 1\n",
       "The Helper                     1\n",
       "Major Card                     1\n",
       ";PAY OFF                       1\n",
       "LoanGetter                     1\n",
       "Name: title, Length: 15354, dtype: int64"
      ]
     },
     "execution_count": 120,
     "metadata": {},
     "output_type": "execute_result"
    }
   ],
   "source": [
    "df['title'].value_counts()"
   ]
  },
  {
   "cell_type": "code",
   "execution_count": 121,
   "id": "22e34da7",
   "metadata": {
    "scrolled": true
   },
   "outputs": [
    {
     "data": {
      "text/plain": [
       "count                  87386\n",
       "unique                 15354\n",
       "top       Debt consolidation\n",
       "freq                   28968\n",
       "Name: title, dtype: object"
      ]
     },
     "execution_count": 121,
     "metadata": {},
     "output_type": "execute_result"
    }
   ],
   "source": [
    "df['title'].describe()"
   ]
  },
  {
   "cell_type": "code",
   "execution_count": 122,
   "id": "fb7106f4",
   "metadata": {
    "scrolled": true
   },
   "outputs": [],
   "source": [
    "df['title'].fillna(\"None\", inplace=True)"
   ]
  },
  {
   "cell_type": "code",
   "execution_count": 123,
   "id": "3a2de547",
   "metadata": {},
   "outputs": [
    {
     "data": {
      "text/plain": [
       "0"
      ]
     },
     "execution_count": 123,
     "metadata": {},
     "output_type": "execute_result"
    }
   ],
   "source": [
    "df['title'].isnull().sum()"
   ]
  },
  {
   "cell_type": "markdown",
   "id": "0b250403",
   "metadata": {},
   "source": [
    "Can't Run This column, because so many unique values and problem values like '$'. so we drop title "
   ]
  },
  {
   "cell_type": "code",
   "execution_count": 124,
   "id": "65761bf9",
   "metadata": {},
   "outputs": [],
   "source": [
    "df = df.drop('title', axis=1)"
   ]
  },
  {
   "cell_type": "markdown",
   "id": "cfd41077",
   "metadata": {},
   "source": [
    "<a id=\"4.19\"></a>\n",
    "## 4.19 revol_bal"
   ]
  },
  {
   "cell_type": "markdown",
   "id": "1f0d63c4",
   "metadata": {},
   "source": [
    "Total credit revolving balance."
   ]
  },
  {
   "cell_type": "code",
   "execution_count": 125,
   "id": "fe59f18d",
   "metadata": {},
   "outputs": [
    {
     "data": {
      "text/plain": [
       "'No missing values'"
      ]
     },
     "execution_count": 125,
     "metadata": {},
     "output_type": "execute_result"
    }
   ],
   "source": [
    "if_null_values('revol_bal')"
   ]
  },
  {
   "cell_type": "code",
   "execution_count": 126,
   "id": "406629ff",
   "metadata": {},
   "outputs": [
    {
     "data": {
      "text/plain": [
       "<AxesSubplot:xlabel='revol_bal', ylabel='loan_status'>"
      ]
     },
     "execution_count": 126,
     "metadata": {},
     "output_type": "execute_result"
    },
    {
     "data": {
      "image/png": "[encoded data removed]",
      "text/plain": [
       "<Figure size 432x288 with 1 Axes>"
      ]
     },
     "metadata": {
      "needs_background": "light"
     },
     "output_type": "display_data"
    }
   ],
   "source": [
    "sns.boxplot(data=df, y='loan_status', x='revol_bal', palette='viridis')"
   ]
  },
  {
   "cell_type": "markdown",
   "id": "aa50cd8b",
   "metadata": {},
   "source": [
    "There are some outliers. Let's first check how many rows are there with 'revol_bal' > $100000."
   ]
  },
  {
   "cell_type": "code",
   "execution_count": 127,
   "id": "049af772",
   "metadata": {},
   "outputs": [
    {
     "data": {
      "text/plain": [
       "342"
      ]
     },
     "execution_count": 127,
     "metadata": {},
     "output_type": "execute_result"
    }
   ],
   "source": [
    "len(df[df['revol_bal'] > 50000])"
   ]
  },
  {
   "cell_type": "markdown",
   "id": "8b31c335",
   "metadata": {},
   "source": [
    "What percentage of total rows is 210?"
   ]
  },
  {
   "cell_type": "code",
   "execution_count": 128,
   "id": "be7251e3",
   "metadata": {},
   "outputs": [
    {
     "data": {
      "text/plain": [
       "0.39135808120108023"
      ]
     },
     "execution_count": 128,
     "metadata": {},
     "output_type": "execute_result"
    }
   ],
   "source": [
    "len(df[df['revol_bal'] > 50000]) * 100 / len(df)"
   ]
  },
  {
   "cell_type": "markdown",
   "id": "b1c487a0",
   "metadata": {},
   "source": [
    "It's just 0.25%, let's just drop these"
   ]
  },
  {
   "cell_type": "code",
   "execution_count": 129,
   "id": "a6d25fa2",
   "metadata": {},
   "outputs": [],
   "source": [
    "df = df[df['revol_bal'] < 50001]"
   ]
  },
  {
   "cell_type": "code",
   "execution_count": 130,
   "id": "8cb3328a",
   "metadata": {},
   "outputs": [
    {
     "data": {
      "image/png": "[encoded data removed]",
      "text/plain": [
       "<Figure size 432x288 with 1 Axes>"
      ]
     },
     "metadata": {
      "needs_background": "light"
     },
     "output_type": "display_data"
    }
   ],
   "source": [
    "sns.boxplot(data=df, y='loan_status', x='revol_bal', palette='viridis');"
   ]
  },
  {
   "cell_type": "markdown",
   "id": "134eb794",
   "metadata": {},
   "source": [
    "There are still some outliers but that's okay because we can't drop a good percentage of rows."
   ]
  },
  {
   "cell_type": "code",
   "execution_count": 131,
   "id": "a65dce82",
   "metadata": {},
   "outputs": [
    {
     "data": {
      "text/html": [
       "<div>\n",
       "<style scoped>\n",
       "    .dataframe tbody tr th:only-of-type {\n",
       "        vertical-align: middle;\n",
       "    }\n",
       "\n",
       "    .dataframe tbody tr th {\n",
       "        vertical-align: top;\n",
       "    }\n",
       "\n",
       "    .dataframe thead th {\n",
       "        text-align: right;\n",
       "    }\n",
       "</style>\n",
       "<table border=\"1\" class=\"dataframe\">\n",
       "  <thead>\n",
       "    <tr style=\"text-align: right;\">\n",
       "      <th></th>\n",
       "      <th>count</th>\n",
       "      <th>mean</th>\n",
       "      <th>std</th>\n",
       "      <th>min</th>\n",
       "      <th>25%</th>\n",
       "      <th>50%</th>\n",
       "      <th>75%</th>\n",
       "      <th>max</th>\n",
       "    </tr>\n",
       "    <tr>\n",
       "      <th>loan_status</th>\n",
       "      <th></th>\n",
       "      <th></th>\n",
       "      <th></th>\n",
       "      <th></th>\n",
       "      <th></th>\n",
       "      <th></th>\n",
       "      <th></th>\n",
       "      <th></th>\n",
       "    </tr>\n",
       "  </thead>\n",
       "  <tbody>\n",
       "    <tr>\n",
       "      <th>Charged Off</th>\n",
       "      <td>19341.0</td>\n",
       "      <td>11869.244817</td>\n",
       "      <td>8404.237508</td>\n",
       "      <td>0.0</td>\n",
       "      <td>5789.0</td>\n",
       "      <td>9886.0</td>\n",
       "      <td>15855.0</td>\n",
       "      <td>49848.0</td>\n",
       "    </tr>\n",
       "    <tr>\n",
       "      <th>Fully Paid</th>\n",
       "      <td>67705.0</td>\n",
       "      <td>11323.684691</td>\n",
       "      <td>8356.625620</td>\n",
       "      <td>0.0</td>\n",
       "      <td>5317.0</td>\n",
       "      <td>9191.0</td>\n",
       "      <td>15076.0</td>\n",
       "      <td>49999.0</td>\n",
       "    </tr>\n",
       "  </tbody>\n",
       "</table>\n",
       "</div>"
      ],
      "text/plain": [
       "               count          mean          std  min     25%     50%      75%  \\\n",
       "loan_status                                                                     \n",
       "Charged Off  19341.0  11869.244817  8404.237508  0.0  5789.0  9886.0  15855.0   \n",
       "Fully Paid   67705.0  11323.684691  8356.625620  0.0  5317.0  9191.0  15076.0   \n",
       "\n",
       "                 max  \n",
       "loan_status           \n",
       "Charged Off  49848.0  \n",
       "Fully Paid   49999.0  "
      ]
     },
     "execution_count": 131,
     "metadata": {},
     "output_type": "execute_result"
    }
   ],
   "source": [
    "df.groupby('loan_status')['revol_bal'].describe()"
   ]
  },
  {
   "cell_type": "markdown",
   "id": "3cf36d80",
   "metadata": {},
   "source": [
    "Difference can be seen in the mean 'revol_bal' between the two 'loan_status' categories. We will go ahead and keep this feature."
   ]
  },
  {
   "cell_type": "markdown",
   "id": "27352d40",
   "metadata": {},
   "source": [
    "<a id=\"4.20\"></a>\n",
    "## 4.20 revol_util"
   ]
  },
  {
   "cell_type": "markdown",
   "id": "bba8c4df",
   "metadata": {},
   "source": [
    "Revolving line utilization rate, or the amount of credit the borrower is using relative to all available revolving credit."
   ]
  },
  {
   "cell_type": "code",
   "execution_count": 132,
   "id": "028760c9",
   "metadata": {},
   "outputs": [
    {
     "data": {
      "text/plain": [
       "'% of missing values = 0.08'"
      ]
     },
     "execution_count": 132,
     "metadata": {},
     "output_type": "execute_result"
    }
   ],
   "source": [
    "if_null_values('revol_util')"
   ]
  },
  {
   "cell_type": "markdown",
   "id": "2fa45a5c",
   "metadata": {},
   "source": [
    "Let's fill in the missing values with the mean of non missing values in 'revol_util'."
   ]
  },
  {
   "cell_type": "code",
   "execution_count": 133,
   "id": "7a9692ca",
   "metadata": {},
   "outputs": [],
   "source": [
    "df['revol_util'] = df['revol_util'].fillna(df['revol_util'].mean())"
   ]
  },
  {
   "cell_type": "code",
   "execution_count": 134,
   "id": "c51fba53",
   "metadata": {},
   "outputs": [
    {
     "data": {
      "text/plain": [
       "0"
      ]
     },
     "execution_count": 134,
     "metadata": {},
     "output_type": "execute_result"
    }
   ],
   "source": [
    "df['revol_util'].isnull().sum()"
   ]
  },
  {
   "cell_type": "code",
   "execution_count": 135,
   "id": "69582335",
   "metadata": {},
   "outputs": [
    {
     "data": {
      "image/png": "[encoded data removed]",
      "text/plain": [
       "<Figure size 1728x432 with 1 Axes>"
      ]
     },
     "metadata": {
      "needs_background": "light"
     },
     "output_type": "display_data"
    }
   ],
   "source": [
    "plt.figure(figsize=(24,6))\n",
    "sns.histplot(data=df, x='revol_util', bins=88, palette='viridis');"
   ]
  },
  {
   "cell_type": "code",
   "execution_count": 136,
   "id": "d9794f8e",
   "metadata": {},
   "outputs": [],
   "source": [
    "df = df[df['revol_util'] < 151]"
   ]
  },
  {
   "cell_type": "code",
   "execution_count": 137,
   "id": "dbcc0048",
   "metadata": {},
   "outputs": [
    {
     "data": {
      "image/png": "[encoded data removed]",
      "text/plain": [
       "<Figure size 1728x432 with 1 Axes>"
      ]
     },
     "metadata": {
      "needs_background": "light"
     },
     "output_type": "display_data"
    }
   ],
   "source": [
    "plt.figure(figsize=(24,6))\n",
    "sns.histplot(data=df, x='revol_util', bins=88, palette='viridis');"
   ]
  },
  {
   "cell_type": "code",
   "execution_count": 138,
   "id": "ff720261",
   "metadata": {},
   "outputs": [
    {
     "data": {
      "image/png": "[encoded data removed]",
      "text/plain": [
       "<Figure size 1728x432 with 1 Axes>"
      ]
     },
     "metadata": {
      "needs_background": "light"
     },
     "output_type": "display_data"
    }
   ],
   "source": [
    "plt.figure(figsize=(24,6))\n",
    "sns.histplot(data=df, x='revol_util', bins=88, hue='loan_status', palette='viridis');"
   ]
  },
  {
   "cell_type": "code",
   "execution_count": 139,
   "id": "9eafd008",
   "metadata": {},
   "outputs": [
    {
     "data": {
      "text/plain": [
       "<AxesSubplot:xlabel='revol_util', ylabel='loan_status'>"
      ]
     },
     "execution_count": 139,
     "metadata": {},
     "output_type": "execute_result"
    },
    {
     "data": {
      "image/png": "[encoded data removed]",
      "text/plain": [
       "<Figure size 432x288 with 1 Axes>"
      ]
     },
     "metadata": {
      "needs_background": "light"
     },
     "output_type": "display_data"
    }
   ],
   "source": [
    "sns.boxplot(data=df, y='loan_status', x='revol_util', palette='viridis')"
   ]
  },
  {
   "cell_type": "markdown",
   "id": "6526af2d",
   "metadata": {},
   "source": [
    "There's no outlier now"
   ]
  },
  {
   "cell_type": "code",
   "execution_count": 140,
   "id": "8dd64ba4",
   "metadata": {},
   "outputs": [
    {
     "data": {
      "text/html": [
       "<div>\n",
       "<style scoped>\n",
       "    .dataframe tbody tr th:only-of-type {\n",
       "        vertical-align: middle;\n",
       "    }\n",
       "\n",
       "    .dataframe tbody tr th {\n",
       "        vertical-align: top;\n",
       "    }\n",
       "\n",
       "    .dataframe thead th {\n",
       "        text-align: right;\n",
       "    }\n",
       "</style>\n",
       "<table border=\"1\" class=\"dataframe\">\n",
       "  <thead>\n",
       "    <tr style=\"text-align: right;\">\n",
       "      <th></th>\n",
       "      <th>count</th>\n",
       "      <th>mean</th>\n",
       "      <th>std</th>\n",
       "      <th>min</th>\n",
       "      <th>25%</th>\n",
       "      <th>50%</th>\n",
       "      <th>75%</th>\n",
       "      <th>max</th>\n",
       "    </tr>\n",
       "    <tr>\n",
       "      <th>loan_status</th>\n",
       "      <th></th>\n",
       "      <th></th>\n",
       "      <th></th>\n",
       "      <th></th>\n",
       "      <th></th>\n",
       "      <th></th>\n",
       "      <th></th>\n",
       "      <th></th>\n",
       "    </tr>\n",
       "  </thead>\n",
       "  <tbody>\n",
       "    <tr>\n",
       "      <th>Charged Off</th>\n",
       "      <td>19341.0</td>\n",
       "      <td>59.229048</td>\n",
       "      <td>22.532118</td>\n",
       "      <td>0.0</td>\n",
       "      <td>43.4</td>\n",
       "      <td>60.8</td>\n",
       "      <td>76.9</td>\n",
       "      <td>123.2</td>\n",
       "    </tr>\n",
       "    <tr>\n",
       "      <th>Fully Paid</th>\n",
       "      <td>67703.0</td>\n",
       "      <td>53.757574</td>\n",
       "      <td>23.430755</td>\n",
       "      <td>0.0</td>\n",
       "      <td>36.6</td>\n",
       "      <td>54.6</td>\n",
       "      <td>71.8</td>\n",
       "      <td>120.2</td>\n",
       "    </tr>\n",
       "  </tbody>\n",
       "</table>\n",
       "</div>"
      ],
      "text/plain": [
       "               count       mean        std  min   25%   50%   75%    max\n",
       "loan_status                                                             \n",
       "Charged Off  19341.0  59.229048  22.532118  0.0  43.4  60.8  76.9  123.2\n",
       "Fully Paid   67703.0  53.757574  23.430755  0.0  36.6  54.6  71.8  120.2"
      ]
     },
     "execution_count": 140,
     "metadata": {},
     "output_type": "execute_result"
    }
   ],
   "source": [
    "df.groupby('loan_status')['revol_util'].describe()"
   ]
  },
  {
   "cell_type": "markdown",
   "id": "a68da6dd",
   "metadata": {},
   "source": [
    "Difference can be seen in the mean 'revol_util' between the two 'loan_status' categories."
   ]
  },
  {
   "cell_type": "markdown",
   "id": "06df98c6",
   "metadata": {},
   "source": [
    "<a id=\"4.21\"></a>\n",
    "## 4.21 verification_status"
   ]
  },
  {
   "cell_type": "markdown",
   "id": "952ead54",
   "metadata": {},
   "source": [
    "Indicates if income was verified by LC, not verified, or if the income source was verified."
   ]
  },
  {
   "cell_type": "code",
   "execution_count": 141,
   "id": "614087a7",
   "metadata": {},
   "outputs": [
    {
     "data": {
      "text/plain": [
       "'No missing values'"
      ]
     },
     "execution_count": 141,
     "metadata": {},
     "output_type": "execute_result"
    }
   ],
   "source": [
    "if_null_values('verification_status')"
   ]
  },
  {
   "cell_type": "code",
   "execution_count": 142,
   "id": "3ccb7215",
   "metadata": {},
   "outputs": [
    {
     "data": {
      "text/plain": [
       "Not Verified       31915\n",
       "Verified           30057\n",
       "Source Verified    25072\n",
       "Name: verification_status, dtype: int64"
      ]
     },
     "execution_count": 142,
     "metadata": {},
     "output_type": "execute_result"
    }
   ],
   "source": [
    "df['verification_status'].value_counts()"
   ]
  },
  {
   "cell_type": "code",
   "execution_count": 143,
   "id": "ac4891ac",
   "metadata": {},
   "outputs": [
    {
     "data": {
      "image/png": "[encoded data removed]",
      "text/plain": [
       "<Figure size 432x288 with 1 Axes>"
      ]
     },
     "metadata": {
      "needs_background": "light"
     },
     "output_type": "display_data"
    }
   ],
   "source": [
    "sns.countplot(data=df, x='verification_status', hue='loan_status', palette='viridis');"
   ]
  },
  {
   "cell_type": "markdown",
   "id": "748af41c",
   "metadata": {},
   "source": [
    "Let's check percentage charged off per initial_list_status category."
   ]
  },
  {
   "cell_type": "code",
   "execution_count": 144,
   "id": "6638ce02",
   "metadata": {},
   "outputs": [
    {
     "data": {
      "image/png": "[encoded data removed]",
      "text/plain": [
       "<Figure size 432x288 with 1 Axes>"
      ]
     },
     "metadata": {
      "needs_background": "light"
     },
     "output_type": "display_data"
    }
   ],
   "source": [
    "charged_off = df[df['loan_status']==\"Charged Off\"].groupby(\"verification_status\").count()['loan_status']\n",
    "fully_paid = df[df['loan_status']==\"Fully Paid\"].groupby(\"verification_status\").count()['loan_status']\n",
    "percentage_charged_off = (charged_off * 100)/(charged_off + fully_paid)\n",
    "percentage_charged_off.plot(kind='bar', cmap='viridis')\n",
    "plt.title(\"Percentage charged off per verification_status category\");"
   ]
  },
  {
   "cell_type": "markdown",
   "id": "3012b417",
   "metadata": {},
   "source": [
    "Difference can be seen betweeen percentage charged off per 'initial_list_status' categorie"
   ]
  },
  {
   "cell_type": "markdown",
   "id": "d4add27b",
   "metadata": {},
   "source": [
    "Let's create dummy variables for this feature."
   ]
  },
  {
   "cell_type": "code",
   "execution_count": 145,
   "id": "e843b87a",
   "metadata": {},
   "outputs": [],
   "source": [
    "dummies_verification_status = pd.get_dummies(df['verification_status'], drop_first=True)\n",
    "df = pd.concat([df.drop('verification_status', axis=1), dummies_verification_status], axis=1)"
   ]
  },
  {
   "cell_type": "markdown",
   "id": "995123a3",
   "metadata": {},
   "source": [
    "All features are done, except the feature we want to predict. Let us map the contents in the feature, i.e., 'Fully Paid' and 'Charged Off' to boolean values."
   ]
  },
  {
   "cell_type": "code",
   "execution_count": 146,
   "id": "b257de11",
   "metadata": {},
   "outputs": [],
   "source": [
    "df['loan_status'] = df['loan_status'].map({'Fully Paid':1,'Charged Off':0})"
   ]
  },
  {
   "cell_type": "code",
   "execution_count": 147,
   "id": "2062e4b8",
   "metadata": {},
   "outputs": [
    {
     "data": {
      "text/plain": [
       "42538     1\n",
       "42544     1\n",
       "42552     1\n",
       "42554     1\n",
       "42555     1\n",
       "         ..\n",
       "466256    0\n",
       "466259    1\n",
       "466263    1\n",
       "466277    0\n",
       "466278    1\n",
       "Name: loan_status, Length: 87044, dtype: int64"
      ]
     },
     "execution_count": 147,
     "metadata": {},
     "output_type": "execute_result"
    }
   ],
   "source": [
    "df['loan_status']"
   ]
  },
  {
   "cell_type": "code",
   "execution_count": 148,
   "id": "a91d33d7",
   "metadata": {
    "scrolled": true
   },
   "outputs": [
    {
     "data": {
      "text/plain": [
       "uint8      100\n",
       "float64      7\n",
       "int64        4\n",
       "dtype: int64"
      ]
     },
     "execution_count": 148,
     "metadata": {},
     "output_type": "execute_result"
    }
   ],
   "source": [
    "df.dtypes.value_counts()"
   ]
  },
  {
   "cell_type": "markdown",
   "id": "6ed712c6",
   "metadata": {},
   "source": [
    "<a id=\"5\"></a>\n",
    "## 5. Scaling and Test Train split"
   ]
  },
  {
   "cell_type": "code",
   "execution_count": 149,
   "id": "6b9e4ed8",
   "metadata": {},
   "outputs": [
    {
     "data": {
      "text/plain": [
       "(87044, 111)"
      ]
     },
     "execution_count": 149,
     "metadata": {},
     "output_type": "execute_result"
    }
   ],
   "source": [
    "df.shape "
   ]
  },
  {
   "cell_type": "code",
   "execution_count": 150,
   "id": "1377defc",
   "metadata": {},
   "outputs": [],
   "source": [
    "X = df.drop('loan_status', axis=1)\n",
    "y = df['loan_status']"
   ]
  },
  {
   "cell_type": "code",
   "execution_count": 151,
   "id": "204f02e6",
   "metadata": {},
   "outputs": [],
   "source": [
    "X_train, X_test, y_train, y_test = train_test_split(X, y, test_size=0.33) # keeping 30% for test "
   ]
  },
  {
   "cell_type": "code",
   "execution_count": 152,
   "id": "6bfa5f7d",
   "metadata": {},
   "outputs": [],
   "source": [
    "scaler = MinMaxScaler()"
   ]
  },
  {
   "cell_type": "code",
   "execution_count": 153,
   "id": "24328562",
   "metadata": {},
   "outputs": [],
   "source": [
    "X_train = scaler.fit_transform(X_train)\n",
    "X_test = scaler.transform(X_test)"
   ]
  },
  {
   "cell_type": "markdown",
   "id": "908c68a9",
   "metadata": {},
   "source": [
    "<a id=\"6\"></a>\n",
    "## 6. Creating Models"
   ]
  },
  {
   "cell_type": "code",
   "execution_count": 154,
   "id": "4b565a06",
   "metadata": {},
   "outputs": [],
   "source": [
    "# Random Forest Models\n",
    "from sklearn.ensemble import RandomForestClassifier   \n",
    "from sklearn.metrics import accuracy_score,plot_confusion_matrix,classification_report\n",
    "\n",
    "\n",
    "# Artificial Neural Network models\n",
    "import tensorflow as tf\n",
    "from tensorflow.keras.models import Sequential\n",
    "from tensorflow.keras.layers import Dense, Activation,Dropout\n",
    "from tensorflow.keras.constraints import max_norm\n",
    "from sklearn.metrics import ConfusionMatrixDisplay\n",
    "from sklearn.metrics import classification_report,confusion_matrix"
   ]
  },
  {
   "cell_type": "markdown",
   "id": "21825525",
   "metadata": {},
   "source": [
    "<a id=\"6.1\"></a>\n",
    "## 6.1 Random Forests"
   ]
  },
  {
   "cell_type": "code",
   "execution_count": 155,
   "id": "4d81615d",
   "metadata": {},
   "outputs": [
    {
     "data": {
      "text/plain": [
       "RandomForestClassifier()"
      ]
     },
     "execution_count": 155,
     "metadata": {},
     "output_type": "execute_result"
    }
   ],
   "source": [
    "rf = RandomForestClassifier(n_estimators=100)\n",
    "rf.fit(X_train,y_train)"
   ]
  },
  {
   "cell_type": "code",
   "execution_count": 156,
   "id": "b8c98d55",
   "metadata": {},
   "outputs": [],
   "source": [
    "preds = rf.predict(X_test)"
   ]
  },
  {
   "cell_type": "code",
   "execution_count": 157,
   "id": "4cd45c3c",
   "metadata": {},
   "outputs": [
    {
     "name": "stdout",
     "output_type": "stream",
     "text": [
      "              precision    recall  f1-score   support\n",
      "\n",
      "           0       0.50      0.06      0.11      6277\n",
      "           1       0.79      0.98      0.88     22448\n",
      "\n",
      "    accuracy                           0.78     28725\n",
      "   macro avg       0.64      0.52      0.49     28725\n",
      "weighted avg       0.73      0.78      0.71     28725\n",
      "\n"
     ]
    }
   ],
   "source": [
    "print(classification_report(y_test,preds))"
   ]
  },
  {
   "cell_type": "code",
   "execution_count": 158,
   "id": "a22c0f00",
   "metadata": {},
   "outputs": [
    {
     "data": {
      "text/plain": [
       "<sklearn.metrics._plot.confusion_matrix.ConfusionMatrixDisplay at 0x1f4e63d63e0>"
      ]
     },
     "execution_count": 158,
     "metadata": {},
     "output_type": "execute_result"
    },
    {
     "data": {
      "image/png": "[encoded data removed]",
      "text/plain": [
       "<Figure size 432x288 with 2 Axes>"
      ]
     },
     "metadata": {
      "needs_background": "light"
     },
     "output_type": "display_data"
    }
   ],
   "source": [
    "plot_confusion_matrix(rf,X_test,y_test)"
   ]
  },
  {
   "cell_type": "markdown",
   "id": "ce3ff727",
   "metadata": {},
   "source": [
    "<a id=\"6.2\"></a>\n",
    "## 6.2 ANN"
   ]
  },
  {
   "cell_type": "code",
   "execution_count": 159,
   "id": "3ab5a082",
   "metadata": {},
   "outputs": [],
   "source": [
    "model = Sequential()\n",
    "\n",
    "# input layer\n",
    "model.add(Dense(119,  activation='relu'))\n",
    "model.add(Dropout(0.1))\n",
    "\n",
    "# hidden layer\n",
    "model.add(Dense(78,  activation='relu'))\n",
    "model.add(Dropout(0.1))\n",
    "\n",
    "# hidden layer\n",
    "model.add(Dense(39, activation='relu'))\n",
    "model.add(Dropout(0.1))\n",
    "\n",
    "# hidden layer\n",
    "model.add(Dense(19, activation='relu'))\n",
    "model.add(Dropout(0.1))\n",
    "\n",
    "# output layer\n",
    "model.add(Dense(units=1,activation='sigmoid'))\n",
    "\n",
    "# Compile model\n",
    "model.compile(loss='binary_crossentropy', optimizer='adam')"
   ]
  },
  {
   "cell_type": "code",
   "execution_count": 160,
   "id": "c289e87e",
   "metadata": {},
   "outputs": [
    {
     "name": "stdout",
     "output_type": "stream",
     "text": [
      "Epoch 1/10\n",
      "228/228 [==============================] - 2s 5ms/step - loss: 0.5183 - val_loss: 0.4942\n",
      "Epoch 2/10\n",
      "228/228 [==============================] - 1s 5ms/step - loss: 0.5001 - val_loss: 0.4933\n",
      "Epoch 3/10\n",
      "228/228 [==============================] - 1s 5ms/step - loss: 0.4966 - val_loss: 0.4918\n",
      "Epoch 4/10\n",
      "228/228 [==============================] - 1s 5ms/step - loss: 0.4931 - val_loss: 0.4916\n",
      "Epoch 5/10\n",
      "228/228 [==============================] - 1s 4ms/step - loss: 0.4915 - val_loss: 0.4928\n",
      "Epoch 6/10\n",
      "228/228 [==============================] - 1s 4ms/step - loss: 0.4894 - val_loss: 0.4946\n",
      "Epoch 7/10\n",
      "228/228 [==============================] - 1s 4ms/step - loss: 0.4858 - val_loss: 0.4981\n",
      "Epoch 8/10\n",
      "228/228 [==============================] - 1s 3ms/step - loss: 0.4829 - val_loss: 0.4945\n",
      "Epoch 9/10\n",
      "228/228 [==============================] - 1s 3ms/step - loss: 0.4805 - val_loss: 0.4962\n",
      "Epoch 10/10\n",
      "228/228 [==============================] - 1s 4ms/step - loss: 0.4760 - val_loss: 0.4973\n"
     ]
    },
    {
     "data": {
      "text/plain": [
       "<keras.callbacks.History at 0x1f4dddde050>"
      ]
     },
     "execution_count": 160,
     "metadata": {},
     "output_type": "execute_result"
    }
   ],
   "source": [
    "model.fit(x=X_train, \n",
    "          y=y_train, \n",
    "          epochs=10,\n",
    "          batch_size=256,\n",
    "          validation_data=(X_test, y_test), \n",
    "          )"
   ]
  },
  {
   "cell_type": "code",
   "execution_count": 161,
   "id": "02aec6da",
   "metadata": {},
   "outputs": [],
   "source": [
    "losses = pd.DataFrame(model.history.history)"
   ]
  },
  {
   "cell_type": "code",
   "execution_count": 162,
   "id": "6d63f8f4",
   "metadata": {},
   "outputs": [
    {
     "data": {
      "text/plain": [
       "<AxesSubplot:>"
      ]
     },
     "execution_count": 162,
     "metadata": {},
     "output_type": "execute_result"
    },
    {
     "data": {
      "image/png": "[encoded data removed]",
      "text/plain": [
       "<Figure size 432x288 with 1 Axes>"
      ]
     },
     "metadata": {
      "needs_background": "light"
     },
     "output_type": "display_data"
    }
   ],
   "source": [
    "losses[['loss','val_loss']].plot()"
   ]
  },
  {
   "cell_type": "code",
   "execution_count": 163,
   "id": "35abf65d",
   "metadata": {},
   "outputs": [
    {
     "name": "stdout",
     "output_type": "stream",
     "text": [
      "              precision    recall  f1-score   support\n",
      "\n",
      "           0       0.39      0.31      0.35      6277\n",
      "           1       0.82      0.86      0.84     22448\n",
      "\n",
      "    accuracy                           0.74     28725\n",
      "   macro avg       0.61      0.59      0.59     28725\n",
      "weighted avg       0.73      0.74      0.73     28725\n",
      "\n"
     ]
    }
   ],
   "source": [
    "predictions = (model.predict(X_test) > 0.66).astype(\"int32\")\n",
    "print(classification_report(y_test,predictions))"
   ]
  },
  {
   "cell_type": "code",
   "execution_count": 164,
   "id": "3f109496",
   "metadata": {},
   "outputs": [
    {
     "data": {
      "image/png": "[encoded data removed]",
      "text/plain": [
       "<Figure size 432x288 with 2 Axes>"
      ]
     },
     "metadata": {
      "needs_background": "light"
     },
     "output_type": "display_data"
    }
   ],
   "source": [
    "cm = confusion_matrix(y_test,predictions)\n",
    "f = sns.heatmap(cm, annot=True, fmt='d', cmap='viridis', square=True)"
   ]
  },
  {
   "cell_type": "markdown",
   "id": "ed96bf28",
   "metadata": {},
   "source": [
    "<a id=\"7\"></a>\n",
    "## 7. Conclusion"
   ]
  },
  {
   "cell_type": "markdown",
   "id": "943e6ee3",
   "metadata": {},
   "source": [
    "what are we actually trying to predict?\n",
    "\n",
    "my aim, given scenario to predict customers whose loan charged off and fully paid. i might be able to predict the cases where a customer won't pay back the loan amount but that will also result in cases where the model predicts that a customer will not pay back the loan amount but in reality, the customer will. This way, the company will lose potential customers.\n",
    "\n",
    "The current model, far from perfect,i want build to predict the customers who will fully pay or risk from current paid not be able to payback the amount. Although, there is a scope of improvement by considering more features and test out different paramenters for different models. I was reaching the permissible RAM limits in my notebook, hence I was not able to thoroughly test out different parameters and more models.\n",
    "\n",
    "\n",
    "Any suggestions to improve the notebook are welcome!"
   ]
  }
 ],
 "metadata": {
  "kernelspec": {
   "display_name": "Python 3 (ipykernel)",
   "language": "python",
   "name": "python3"
  },
  "language_info": {
   "codemirror_mode": {
    "name": "ipython",
    "version": 3
   },
   "file_extension": ".py",
   "mimetype": "text/x-python",
   "name": "python",
   "nbconvert_exporter": "python",
   "pygments_lexer": "ipython3",
   "version": "3.10.2"
  }
 },
 "nbformat": 4,
 "nbformat_minor": 5
}
